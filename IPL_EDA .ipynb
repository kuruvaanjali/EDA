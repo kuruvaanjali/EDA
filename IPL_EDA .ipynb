{
 "cells": [
  {
   "cell_type": "markdown",
   "id": "1f6ec7f0-814f-4488-b97d-93a80132353a",
   "metadata": {},
   "source": [
    "# IPL Deliveries Dataset – Exploratory Data Analysis (EDA)\n",
    "\n",
    "The **Indian Premier League (IPL)** is one of the most popular and competitive T20 cricket leagues in the world, featuring top players from around the globe. In this project, we perform an Exploratory Data Analysis (EDA) on the IPL deliveries dataset to uncover hidden insights, patterns, and trends within match-level data."
   ]
  },
  {
   "cell_type": "markdown",
   "id": "f0e74d13-58bd-4fec-834f-8e30d169542d",
   "metadata": {},
   "source": [
    "The dataset captures ball-by-ball information for every IPL match — including details like the batter, bowler, runs scored, wickets taken, extras, and more. "
   ]
  },
  {
   "cell_type": "markdown",
   "id": "7fa9ec44-855e-468f-98be-0914dc431810",
   "metadata": {},
   "source": [
    "## Step 1: Import Libraries"
   ]
  },
  {
   "cell_type": "code",
   "execution_count": 9,
   "id": "a4481417-c202-4817-925b-a2eb73a7da74",
   "metadata": {},
   "outputs": [],
   "source": [
    "# Step 1: Import Required Libraries\n",
    "import pandas as pd\n",
    "import numpy as np\n",
    "import matplotlib.pyplot as plt\n",
    "import seaborn as sns\n",
    "\n",
    "# Optional: Better visuals in Jupyter\n",
    "%matplotlib inline\n",
    "sns.set(style=\"whitegrid\")\n"
   ]
  },
  {
   "cell_type": "markdown",
   "id": "ec64aa3a-1202-4dad-96fe-63b6b06cbe4b",
   "metadata": {},
   "source": [
    "## Step 2: Load the Dataset"
   ]
  },
  {
   "cell_type": "code",
   "execution_count": 11,
   "id": "8946b9a1-2760-4733-8772-8c73771a303c",
   "metadata": {},
   "outputs": [
    {
     "data": {
      "text/html": [
       "<div>\n",
       "<style scoped>\n",
       "    .dataframe tbody tr th:only-of-type {\n",
       "        vertical-align: middle;\n",
       "    }\n",
       "\n",
       "    .dataframe tbody tr th {\n",
       "        vertical-align: top;\n",
       "    }\n",
       "\n",
       "    .dataframe thead th {\n",
       "        text-align: right;\n",
       "    }\n",
       "</style>\n",
       "<table border=\"1\" class=\"dataframe\">\n",
       "  <thead>\n",
       "    <tr style=\"text-align: right;\">\n",
       "      <th></th>\n",
       "      <th>match_id</th>\n",
       "      <th>inning</th>\n",
       "      <th>batting_team</th>\n",
       "      <th>bowling_team</th>\n",
       "      <th>over</th>\n",
       "      <th>ball</th>\n",
       "      <th>batter</th>\n",
       "      <th>bowler</th>\n",
       "      <th>non_striker</th>\n",
       "      <th>batsman_runs</th>\n",
       "      <th>extra_runs</th>\n",
       "      <th>total_runs</th>\n",
       "      <th>extras_type</th>\n",
       "      <th>is_wicket</th>\n",
       "      <th>player_dismissed</th>\n",
       "      <th>dismissal_kind</th>\n",
       "      <th>fielder</th>\n",
       "    </tr>\n",
       "  </thead>\n",
       "  <tbody>\n",
       "    <tr>\n",
       "      <th>0</th>\n",
       "      <td>335982</td>\n",
       "      <td>1</td>\n",
       "      <td>Kolkata Knight Riders</td>\n",
       "      <td>Royal Challengers Bangalore</td>\n",
       "      <td>0</td>\n",
       "      <td>1</td>\n",
       "      <td>SC Ganguly</td>\n",
       "      <td>P Kumar</td>\n",
       "      <td>BB McCullum</td>\n",
       "      <td>0</td>\n",
       "      <td>1</td>\n",
       "      <td>1</td>\n",
       "      <td>legbyes</td>\n",
       "      <td>0</td>\n",
       "      <td>NaN</td>\n",
       "      <td>NaN</td>\n",
       "      <td>NaN</td>\n",
       "    </tr>\n",
       "    <tr>\n",
       "      <th>1</th>\n",
       "      <td>335982</td>\n",
       "      <td>1</td>\n",
       "      <td>Kolkata Knight Riders</td>\n",
       "      <td>Royal Challengers Bangalore</td>\n",
       "      <td>0</td>\n",
       "      <td>2</td>\n",
       "      <td>BB McCullum</td>\n",
       "      <td>P Kumar</td>\n",
       "      <td>SC Ganguly</td>\n",
       "      <td>0</td>\n",
       "      <td>0</td>\n",
       "      <td>0</td>\n",
       "      <td>NaN</td>\n",
       "      <td>0</td>\n",
       "      <td>NaN</td>\n",
       "      <td>NaN</td>\n",
       "      <td>NaN</td>\n",
       "    </tr>\n",
       "    <tr>\n",
       "      <th>2</th>\n",
       "      <td>335982</td>\n",
       "      <td>1</td>\n",
       "      <td>Kolkata Knight Riders</td>\n",
       "      <td>Royal Challengers Bangalore</td>\n",
       "      <td>0</td>\n",
       "      <td>3</td>\n",
       "      <td>BB McCullum</td>\n",
       "      <td>P Kumar</td>\n",
       "      <td>SC Ganguly</td>\n",
       "      <td>0</td>\n",
       "      <td>1</td>\n",
       "      <td>1</td>\n",
       "      <td>wides</td>\n",
       "      <td>0</td>\n",
       "      <td>NaN</td>\n",
       "      <td>NaN</td>\n",
       "      <td>NaN</td>\n",
       "    </tr>\n",
       "    <tr>\n",
       "      <th>3</th>\n",
       "      <td>335982</td>\n",
       "      <td>1</td>\n",
       "      <td>Kolkata Knight Riders</td>\n",
       "      <td>Royal Challengers Bangalore</td>\n",
       "      <td>0</td>\n",
       "      <td>4</td>\n",
       "      <td>BB McCullum</td>\n",
       "      <td>P Kumar</td>\n",
       "      <td>SC Ganguly</td>\n",
       "      <td>0</td>\n",
       "      <td>0</td>\n",
       "      <td>0</td>\n",
       "      <td>NaN</td>\n",
       "      <td>0</td>\n",
       "      <td>NaN</td>\n",
       "      <td>NaN</td>\n",
       "      <td>NaN</td>\n",
       "    </tr>\n",
       "    <tr>\n",
       "      <th>4</th>\n",
       "      <td>335982</td>\n",
       "      <td>1</td>\n",
       "      <td>Kolkata Knight Riders</td>\n",
       "      <td>Royal Challengers Bangalore</td>\n",
       "      <td>0</td>\n",
       "      <td>5</td>\n",
       "      <td>BB McCullum</td>\n",
       "      <td>P Kumar</td>\n",
       "      <td>SC Ganguly</td>\n",
       "      <td>0</td>\n",
       "      <td>0</td>\n",
       "      <td>0</td>\n",
       "      <td>NaN</td>\n",
       "      <td>0</td>\n",
       "      <td>NaN</td>\n",
       "      <td>NaN</td>\n",
       "      <td>NaN</td>\n",
       "    </tr>\n",
       "  </tbody>\n",
       "</table>\n",
       "</div>"
      ],
      "text/plain": [
       "   match_id  inning           batting_team                 bowling_team  over  \\\n",
       "0    335982       1  Kolkata Knight Riders  Royal Challengers Bangalore     0   \n",
       "1    335982       1  Kolkata Knight Riders  Royal Challengers Bangalore     0   \n",
       "2    335982       1  Kolkata Knight Riders  Royal Challengers Bangalore     0   \n",
       "3    335982       1  Kolkata Knight Riders  Royal Challengers Bangalore     0   \n",
       "4    335982       1  Kolkata Knight Riders  Royal Challengers Bangalore     0   \n",
       "\n",
       "   ball       batter   bowler  non_striker  batsman_runs  extra_runs  \\\n",
       "0     1   SC Ganguly  P Kumar  BB McCullum             0           1   \n",
       "1     2  BB McCullum  P Kumar   SC Ganguly             0           0   \n",
       "2     3  BB McCullum  P Kumar   SC Ganguly             0           1   \n",
       "3     4  BB McCullum  P Kumar   SC Ganguly             0           0   \n",
       "4     5  BB McCullum  P Kumar   SC Ganguly             0           0   \n",
       "\n",
       "   total_runs extras_type  is_wicket player_dismissed dismissal_kind fielder  \n",
       "0           1     legbyes          0              NaN            NaN     NaN  \n",
       "1           0         NaN          0              NaN            NaN     NaN  \n",
       "2           1       wides          0              NaN            NaN     NaN  \n",
       "3           0         NaN          0              NaN            NaN     NaN  \n",
       "4           0         NaN          0              NaN            NaN     NaN  "
      ]
     },
     "execution_count": 11,
     "metadata": {},
     "output_type": "execute_result"
    }
   ],
   "source": [
    "# Step 2: Load the IPL Deliveries Dataset\n",
    "df = pd.read_csv(\"C:/Users/kuruv/Downloads/deliveries.csv\")\n",
    "\n",
    "# Quick preview\n",
    "df.head()\n"
   ]
  },
  {
   "cell_type": "markdown",
   "id": "cfdf09b6-ce75-4182-8cea-b6fa40426af5",
   "metadata": {},
   "source": [
    "## Step 3: Basic Info & Summary of the Dataset"
   ]
  },
  {
   "cell_type": "code",
   "execution_count": 170,
   "id": "e709e9f7-c4bb-45de-87e5-8c91d933cb93",
   "metadata": {},
   "outputs": [
    {
     "name": "stdout",
     "output_type": "stream",
     "text": [
      "Shape of the dataset (rows, columns): (260920, 17)\n"
     ]
    }
   ],
   "source": [
    "# Shape of the dataset\n",
    "print(\"Shape of the dataset (rows, columns):\", df.shape)\n"
   ]
  },
  {
   "cell_type": "markdown",
   "id": "bd217e2b-d5fb-404e-ab94-39cffb78e5e0",
   "metadata": {},
   "source": [
    "our data has 2 lakh plus rows and 17 columns.\n",
    "\n",
    "Let us go and understand what are all there in these rows and columns"
   ]
  },
  {
   "cell_type": "code",
   "execution_count": 15,
   "id": "3ba12a03-6977-4e2a-8656-345f9cc94f54",
   "metadata": {},
   "outputs": [
    {
     "name": "stdout",
     "output_type": "stream",
     "text": [
      "\n",
      "Data Info:\n",
      "<class 'pandas.core.frame.DataFrame'>\n",
      "RangeIndex: 260920 entries, 0 to 260919\n",
      "Data columns (total 17 columns):\n",
      " #   Column            Non-Null Count   Dtype \n",
      "---  ------            --------------   ----- \n",
      " 0   match_id          260920 non-null  int64 \n",
      " 1   inning            260920 non-null  int64 \n",
      " 2   batting_team      260920 non-null  object\n",
      " 3   bowling_team      260920 non-null  object\n",
      " 4   over              260920 non-null  int64 \n",
      " 5   ball              260920 non-null  int64 \n",
      " 6   batter            260920 non-null  object\n",
      " 7   bowler            260920 non-null  object\n",
      " 8   non_striker       260920 non-null  object\n",
      " 9   batsman_runs      260920 non-null  int64 \n",
      " 10  extra_runs        260920 non-null  int64 \n",
      " 11  total_runs        260920 non-null  int64 \n",
      " 12  extras_type       14125 non-null   object\n",
      " 13  is_wicket         260920 non-null  int64 \n",
      " 14  player_dismissed  12950 non-null   object\n",
      " 15  dismissal_kind    12950 non-null   object\n",
      " 16  fielder           9354 non-null    object\n",
      "dtypes: int64(8), object(9)\n",
      "memory usage: 33.8+ MB\n"
     ]
    }
   ],
   "source": [
    "# Column-wise data types and non-null values\n",
    "print(\"\\nData Info:\")\n",
    "df.info()"
   ]
  },
  {
   "cell_type": "code",
   "execution_count": 172,
   "id": "adece9c5-70b5-4931-b224-35ad60e869c5",
   "metadata": {},
   "outputs": [
    {
     "name": "stdout",
     "output_type": "stream",
     "text": [
      "\n",
      "Statistical Summary:\n"
     ]
    },
    {
     "data": {
      "text/html": [
       "<div>\n",
       "<style scoped>\n",
       "    .dataframe tbody tr th:only-of-type {\n",
       "        vertical-align: middle;\n",
       "    }\n",
       "\n",
       "    .dataframe tbody tr th {\n",
       "        vertical-align: top;\n",
       "    }\n",
       "\n",
       "    .dataframe thead th {\n",
       "        text-align: right;\n",
       "    }\n",
       "</style>\n",
       "<table border=\"1\" class=\"dataframe\">\n",
       "  <thead>\n",
       "    <tr style=\"text-align: right;\">\n",
       "      <th></th>\n",
       "      <th>match_id</th>\n",
       "      <th>inning</th>\n",
       "      <th>over</th>\n",
       "      <th>ball</th>\n",
       "      <th>batsman_runs</th>\n",
       "      <th>extra_runs</th>\n",
       "      <th>total_runs</th>\n",
       "      <th>is_wicket</th>\n",
       "    </tr>\n",
       "  </thead>\n",
       "  <tbody>\n",
       "    <tr>\n",
       "      <th>count</th>\n",
       "      <td>2.609200e+05</td>\n",
       "      <td>260920.000000</td>\n",
       "      <td>260920.000000</td>\n",
       "      <td>260920.000000</td>\n",
       "      <td>260920.000000</td>\n",
       "      <td>260920.000000</td>\n",
       "      <td>260920.000000</td>\n",
       "      <td>260920.000000</td>\n",
       "    </tr>\n",
       "    <tr>\n",
       "      <th>mean</th>\n",
       "      <td>9.070665e+05</td>\n",
       "      <td>1.483531</td>\n",
       "      <td>9.197677</td>\n",
       "      <td>3.624486</td>\n",
       "      <td>1.265001</td>\n",
       "      <td>0.067806</td>\n",
       "      <td>1.332807</td>\n",
       "      <td>0.049632</td>\n",
       "    </tr>\n",
       "    <tr>\n",
       "      <th>std</th>\n",
       "      <td>3.679913e+05</td>\n",
       "      <td>0.502643</td>\n",
       "      <td>5.683484</td>\n",
       "      <td>1.814920</td>\n",
       "      <td>1.639298</td>\n",
       "      <td>0.343265</td>\n",
       "      <td>1.626416</td>\n",
       "      <td>0.217184</td>\n",
       "    </tr>\n",
       "    <tr>\n",
       "      <th>min</th>\n",
       "      <td>3.359820e+05</td>\n",
       "      <td>1.000000</td>\n",
       "      <td>0.000000</td>\n",
       "      <td>1.000000</td>\n",
       "      <td>0.000000</td>\n",
       "      <td>0.000000</td>\n",
       "      <td>0.000000</td>\n",
       "      <td>0.000000</td>\n",
       "    </tr>\n",
       "    <tr>\n",
       "      <th>25%</th>\n",
       "      <td>5.483340e+05</td>\n",
       "      <td>1.000000</td>\n",
       "      <td>4.000000</td>\n",
       "      <td>2.000000</td>\n",
       "      <td>0.000000</td>\n",
       "      <td>0.000000</td>\n",
       "      <td>0.000000</td>\n",
       "      <td>0.000000</td>\n",
       "    </tr>\n",
       "    <tr>\n",
       "      <th>50%</th>\n",
       "      <td>9.809670e+05</td>\n",
       "      <td>1.000000</td>\n",
       "      <td>9.000000</td>\n",
       "      <td>4.000000</td>\n",
       "      <td>1.000000</td>\n",
       "      <td>0.000000</td>\n",
       "      <td>1.000000</td>\n",
       "      <td>0.000000</td>\n",
       "    </tr>\n",
       "    <tr>\n",
       "      <th>75%</th>\n",
       "      <td>1.254066e+06</td>\n",
       "      <td>2.000000</td>\n",
       "      <td>14.000000</td>\n",
       "      <td>5.000000</td>\n",
       "      <td>1.000000</td>\n",
       "      <td>0.000000</td>\n",
       "      <td>1.000000</td>\n",
       "      <td>0.000000</td>\n",
       "    </tr>\n",
       "    <tr>\n",
       "      <th>max</th>\n",
       "      <td>1.426312e+06</td>\n",
       "      <td>6.000000</td>\n",
       "      <td>19.000000</td>\n",
       "      <td>11.000000</td>\n",
       "      <td>6.000000</td>\n",
       "      <td>7.000000</td>\n",
       "      <td>7.000000</td>\n",
       "      <td>1.000000</td>\n",
       "    </tr>\n",
       "  </tbody>\n",
       "</table>\n",
       "</div>"
      ],
      "text/plain": [
       "           match_id         inning           over           ball  \\\n",
       "count  2.609200e+05  260920.000000  260920.000000  260920.000000   \n",
       "mean   9.070665e+05       1.483531       9.197677       3.624486   \n",
       "std    3.679913e+05       0.502643       5.683484       1.814920   \n",
       "min    3.359820e+05       1.000000       0.000000       1.000000   \n",
       "25%    5.483340e+05       1.000000       4.000000       2.000000   \n",
       "50%    9.809670e+05       1.000000       9.000000       4.000000   \n",
       "75%    1.254066e+06       2.000000      14.000000       5.000000   \n",
       "max    1.426312e+06       6.000000      19.000000      11.000000   \n",
       "\n",
       "        batsman_runs     extra_runs     total_runs      is_wicket  \n",
       "count  260920.000000  260920.000000  260920.000000  260920.000000  \n",
       "mean        1.265001       0.067806       1.332807       0.049632  \n",
       "std         1.639298       0.343265       1.626416       0.217184  \n",
       "min         0.000000       0.000000       0.000000       0.000000  \n",
       "25%         0.000000       0.000000       0.000000       0.000000  \n",
       "50%         1.000000       0.000000       1.000000       0.000000  \n",
       "75%         1.000000       0.000000       1.000000       0.000000  \n",
       "max         6.000000       7.000000       7.000000       1.000000  "
      ]
     },
     "execution_count": 172,
     "metadata": {},
     "output_type": "execute_result"
    }
   ],
   "source": [
    "# Summary statistics for numeric columns\n",
    "print(\"\\nStatistical Summary:\")\n",
    "df.describe()\n"
   ]
  },
  {
   "cell_type": "code",
   "execution_count": 16,
   "id": "dc509ace-fd74-47f1-b09d-5d96c4b55a58",
   "metadata": {},
   "outputs": [
    {
     "name": "stdout",
     "output_type": "stream",
     "text": [
      "\n",
      "Column Names:\n",
      "['match_id', 'inning', 'batting_team', 'bowling_team', 'over', 'ball', 'batter', 'bowler', 'non_striker', 'batsman_runs', 'extra_runs', 'total_runs', 'extras_type', 'is_wicket', 'player_dismissed', 'dismissal_kind', 'fielder']\n"
     ]
    }
   ],
   "source": [
    "print(\"\\nColumn Names:\")\n",
    "print(df.columns.tolist()) \n"
   ]
  },
  {
   "cell_type": "markdown",
   "id": "3b47431b-7162-4b77-ac9b-0eb74a3cb5d9",
   "metadata": {},
   "source": [
    "## Preprocessing of the data"
   ]
  },
  {
   "cell_type": "markdown",
   "id": "4bed89b9-e746-42c5-9a8c-0f2a82aa5c28",
   "metadata": {},
   "source": [
    "\n",
    "Let us find out whether our dataset consists of duplicate values"
   ]
  },
  {
   "cell_type": "code",
   "execution_count": 177,
   "id": "394547b5-f155-4379-a069-cff121d19ac1",
   "metadata": {},
   "outputs": [
    {
     "name": "stdout",
     "output_type": "stream",
     "text": [
      "Empty DataFrame\n",
      "Columns: [match_id, inning, batting_team, bowling_team, over, ball, batter, bowler, non_striker, batsman_runs, extra_runs, total_runs, extras_type, is_wicket, player_dismissed, dismissal_kind, fielder]\n",
      "Index: []\n"
     ]
    }
   ],
   "source": [
    "duplicates = df[df.duplicated()]\n",
    "\n",
    "# Display the duplicates\n",
    "print(duplicates)"
   ]
  },
  {
   "cell_type": "code",
   "execution_count": 179,
   "id": "ca3333e5-46ab-4202-9c82-e080a0d0105b",
   "metadata": {},
   "outputs": [
    {
     "name": "stdout",
     "output_type": "stream",
     "text": [
      "Number of duplicate rows: 0\n"
     ]
    }
   ],
   "source": [
    "# Count the number of duplicate rows\n",
    "duplicate_count = df.duplicated().sum()\n",
    "\n",
    "print(f'Number of duplicate rows: {duplicate_count}')\n"
   ]
  },
  {
   "cell_type": "markdown",
   "id": "81b8ffb7-7582-4969-bf0f-d618d8777f9f",
   "metadata": {},
   "source": [
    "We do not have any duplicate values in our dataset."
   ]
  },
  {
   "cell_type": "markdown",
   "id": "11b781b2-a19d-4523-9e3c-356b81258fa3",
   "metadata": {},
   "source": [
    "Now let's findout the unique values in each column"
   ]
  },
  {
   "cell_type": "markdown",
   "id": "af5c1838-eca2-4484-b2fb-d2735cc754cc",
   "metadata": {},
   "source": [
    "### 1. match_id\n",
    "\n",
    "The `match_id` column uniquely identifies each IPL match. This column helps to group deliveries by match to analyze match-level statistics such as total runs, wickets, and performance trends across different matches.\n"
   ]
  },
  {
   "cell_type": "code",
   "execution_count": 19,
   "id": "4053434c-1d7f-49bd-af01-1f53ebda33a2",
   "metadata": {},
   "outputs": [
    {
     "data": {
      "text/plain": [
       "0          335982\n",
       "1          335982\n",
       "2          335982\n",
       "3          335982\n",
       "4          335982\n",
       "           ...   \n",
       "260915    1426312\n",
       "260916    1426312\n",
       "260917    1426312\n",
       "260918    1426312\n",
       "260919    1426312\n",
       "Name: match_id, Length: 260920, dtype: int64"
      ]
     },
     "execution_count": 19,
     "metadata": {},
     "output_type": "execute_result"
    }
   ],
   "source": [
    "# Exploring match_id\n",
    "df['match_id']\n"
   ]
  },
  {
   "cell_type": "code",
   "execution_count": 20,
   "id": "844517bf-4262-4808-ad22-7bdf2f50fd6f",
   "metadata": {},
   "outputs": [
    {
     "data": {
      "text/plain": [
       "array([ 335982,  335983,  335984, ..., 1426310, 1426311, 1426312],\n",
       "      dtype=int64)"
      ]
     },
     "execution_count": 20,
     "metadata": {},
     "output_type": "execute_result"
    }
   ],
   "source": [
    "df['match_id'].unique()"
   ]
  },
  {
   "cell_type": "code",
   "execution_count": 21,
   "id": "276297af-1c5c-4693-8d24-6a0e3f71feb6",
   "metadata": {},
   "outputs": [
    {
     "data": {
      "text/plain": [
       "1095"
      ]
     },
     "execution_count": 21,
     "metadata": {},
     "output_type": "execute_result"
    }
   ],
   "source": [
    "df['match_id'].nunique()"
   ]
  },
  {
   "cell_type": "markdown",
   "id": "09d647a9-4f9b-48f0-8a20-55e24d2e492d",
   "metadata": {},
   "source": [
    "We have 1095 unique match_ids in the dataset. This means the dataset contains data for 1095 IPL matches. The total number of rows (260,920) is much higher because each row represents a single delivery in a match, not the match itself.\n",
    "\n",
    "So, we will consider this column for match-level analysis going forward."
   ]
  },
  {
   "cell_type": "markdown",
   "id": "c414287d-aaff-4a38-b293-fc6ee31490c7",
   "metadata": {},
   "source": [
    "### 2. inning\n",
    "\n",
    "The `inning` column indicates whether the delivery occurred in the 1st or 2nd inning of the match. This is useful for comparing team performance across both innings — for example, how run rates or wicket patterns differ between the 1st and 2nd innings.\n"
   ]
  },
  {
   "cell_type": "code",
   "execution_count": 24,
   "id": "593fd30e-aaa2-402e-96aa-334e1246eb25",
   "metadata": {},
   "outputs": [
    {
     "data": {
      "text/plain": [
       "0         1\n",
       "1         1\n",
       "2         1\n",
       "3         1\n",
       "4         1\n",
       "         ..\n",
       "260915    2\n",
       "260916    2\n",
       "260917    2\n",
       "260918    2\n",
       "260919    2\n",
       "Name: inning, Length: 260920, dtype: int64"
      ]
     },
     "execution_count": 24,
     "metadata": {},
     "output_type": "execute_result"
    }
   ],
   "source": [
    "df['inning']"
   ]
  },
  {
   "cell_type": "code",
   "execution_count": 25,
   "id": "9be6f44e-6a81-49e1-bf7b-601e85f6c0b0",
   "metadata": {},
   "outputs": [
    {
     "data": {
      "text/plain": [
       "array([1, 2, 3, 4, 5, 6], dtype=int64)"
      ]
     },
     "execution_count": 25,
     "metadata": {},
     "output_type": "execute_result"
    }
   ],
   "source": [
    "#checking out the unique values\n",
    "df['inning'].unique()"
   ]
  },
  {
   "cell_type": "code",
   "execution_count": 26,
   "id": "fcd412a3-62b8-4356-bc0d-27ffe665e01f",
   "metadata": {},
   "outputs": [
    {
     "data": {
      "text/plain": [
       "6"
      ]
     },
     "execution_count": 26,
     "metadata": {},
     "output_type": "execute_result"
    }
   ],
   "source": [
    "df['inning'].nunique()"
   ]
  },
  {
   "cell_type": "markdown",
   "id": "59d2cb96-f7e2-4723-bd46-67f7ded8edcb",
   "metadata": {},
   "source": [
    "We found 6 unique values in the inning column, even though a typical IPL match has only 2 innings — one for each team.\n",
    "\n",
    "This suggests that some matches included Super Overs, which are played to break ties and are recorded as additional innings (usually the 3rd and 4th). The presence of the 5th and 6th innings likely indicates rare cases with multiple Super Overs.\n",
    "\n",
    "This is important to keep in mind during analysis, especially when comparing performance metrics between regular innings and Super Over scenarios. So, we will consider this column for further analysis."
   ]
  },
  {
   "cell_type": "markdown",
   "id": "041df086-77de-4918-bb41-3066b4e521a1",
   "metadata": {},
   "source": [
    "### 3.  batting_team\n",
    "\n",
    "The `batting_team` column shows the team that was batting during each delivery. Analyzing this helps us understand team-wise batting contributions and delivery patterns over seasons. We can also identify high-scoring teams or teams with deep batting line-ups.\n"
   ]
  },
  {
   "cell_type": "code",
   "execution_count": 29,
   "id": "abd0e503-ec48-42b4-9d82-8bdaf6ae7090",
   "metadata": {},
   "outputs": [
    {
     "data": {
      "text/plain": [
       "0         Kolkata Knight Riders\n",
       "1         Kolkata Knight Riders\n",
       "2         Kolkata Knight Riders\n",
       "3         Kolkata Knight Riders\n",
       "4         Kolkata Knight Riders\n",
       "                  ...          \n",
       "260915    Kolkata Knight Riders\n",
       "260916    Kolkata Knight Riders\n",
       "260917    Kolkata Knight Riders\n",
       "260918    Kolkata Knight Riders\n",
       "260919    Kolkata Knight Riders\n",
       "Name: batting_team, Length: 260920, dtype: object"
      ]
     },
     "execution_count": 29,
     "metadata": {},
     "output_type": "execute_result"
    }
   ],
   "source": [
    "df['batting_team']"
   ]
  },
  {
   "cell_type": "code",
   "execution_count": 30,
   "id": "74fc4e30-782c-412f-a578-a7a7183ec9f3",
   "metadata": {},
   "outputs": [
    {
     "data": {
      "text/plain": [
       "array(['Kolkata Knight Riders', 'Royal Challengers Bangalore',\n",
       "       'Chennai Super Kings', 'Kings XI Punjab', 'Rajasthan Royals',\n",
       "       'Delhi Daredevils', 'Mumbai Indians', 'Deccan Chargers',\n",
       "       'Kochi Tuskers Kerala', 'Pune Warriors', 'Sunrisers Hyderabad',\n",
       "       'Rising Pune Supergiants', 'Gujarat Lions',\n",
       "       'Rising Pune Supergiant', 'Delhi Capitals', 'Punjab Kings',\n",
       "       'Lucknow Super Giants', 'Gujarat Titans',\n",
       "       'Royal Challengers Bengaluru'], dtype=object)"
      ]
     },
     "execution_count": 30,
     "metadata": {},
     "output_type": "execute_result"
    }
   ],
   "source": [
    "df['batting_team'].unique()"
   ]
  },
  {
   "cell_type": "code",
   "execution_count": 31,
   "id": "4590eb63-a6ca-4bc2-8ca6-d4e809a99a4f",
   "metadata": {},
   "outputs": [
    {
     "data": {
      "text/plain": [
       "19"
      ]
     },
     "execution_count": 31,
     "metadata": {},
     "output_type": "execute_result"
    }
   ],
   "source": [
    "df['batting_team'].nunique()"
   ]
  },
  {
   "cell_type": "markdown",
   "id": "d52ce61c-17b7-4dd0-92d7-ffdb3268070d",
   "metadata": {},
   "source": [
    "The batting_team column contains 19 unique teams, reflecting all franchises that have participated in the IPL over different seasons. This includes both active teams (like Mumbai Indians and Chennai Super Kings) and other teams (like Deccan Chargers, Delhi Daredevils, and Rising Pune Supergiant).\n",
    "\n",
    "Analyzing this column helps us understand team-wise batting performances, compare run patterns, and evaluate the strength of different batting line-ups across seasons.\n",
    "\n",
    "Therefore, we will consider this column for team-level performance analysis in our exploration."
   ]
  },
  {
   "cell_type": "markdown",
   "id": "71f96b2a-6e5b-494f-8022-701bc1466481",
   "metadata": {},
   "source": [
    "### 4. bowling_team\n",
    "\n",
    "The `bowling_team` column shows which team was bowling during the delivery. This allows us to assess bowling strength, defensive capabilities, and team-wise wicket-taking patterns.\n"
   ]
  },
  {
   "cell_type": "code",
   "execution_count": 34,
   "id": "c6598122-1c32-453f-9ea9-ad8a062e142d",
   "metadata": {},
   "outputs": [
    {
     "data": {
      "text/plain": [
       "0         Royal Challengers Bangalore\n",
       "1         Royal Challengers Bangalore\n",
       "2         Royal Challengers Bangalore\n",
       "3         Royal Challengers Bangalore\n",
       "4         Royal Challengers Bangalore\n",
       "                     ...             \n",
       "260915            Sunrisers Hyderabad\n",
       "260916            Sunrisers Hyderabad\n",
       "260917            Sunrisers Hyderabad\n",
       "260918            Sunrisers Hyderabad\n",
       "260919            Sunrisers Hyderabad\n",
       "Name: bowling_team, Length: 260920, dtype: object"
      ]
     },
     "execution_count": 34,
     "metadata": {},
     "output_type": "execute_result"
    }
   ],
   "source": [
    "df['bowling_team']"
   ]
  },
  {
   "cell_type": "code",
   "execution_count": 35,
   "id": "b34ede5e-becb-4488-b57c-2aa80fb981cd",
   "metadata": {},
   "outputs": [
    {
     "data": {
      "text/plain": [
       "array(['Royal Challengers Bangalore', 'Kolkata Knight Riders',\n",
       "       'Kings XI Punjab', 'Chennai Super Kings', 'Delhi Daredevils',\n",
       "       'Rajasthan Royals', 'Mumbai Indians', 'Deccan Chargers',\n",
       "       'Kochi Tuskers Kerala', 'Pune Warriors', 'Sunrisers Hyderabad',\n",
       "       'Rising Pune Supergiants', 'Gujarat Lions',\n",
       "       'Rising Pune Supergiant', 'Delhi Capitals', 'Punjab Kings',\n",
       "       'Gujarat Titans', 'Lucknow Super Giants',\n",
       "       'Royal Challengers Bengaluru'], dtype=object)"
      ]
     },
     "execution_count": 35,
     "metadata": {},
     "output_type": "execute_result"
    }
   ],
   "source": [
    "df['bowling_team'].unique()"
   ]
  },
  {
   "cell_type": "code",
   "execution_count": 36,
   "id": "0c4ed138-25bb-4fb1-b3be-035a17c9ae38",
   "metadata": {},
   "outputs": [
    {
     "data": {
      "text/plain": [
       "19"
      ]
     },
     "execution_count": 36,
     "metadata": {},
     "output_type": "execute_result"
    }
   ],
   "source": [
    "df['bowling_team'].nunique()"
   ]
  },
  {
   "cell_type": "markdown",
   "id": "ceb32600-937f-4b8a-9b58-5164e3b9cacf",
   "metadata": {},
   "source": [
    "The bowling_team column contains 19 unique teams, just like the batting_team column. This reflects all the franchises that have bowled in the IPL, including both current and former teams (like Mumbai Indians, Chennai Super Kings, Deccan Chargers, and Delhi Daredevils).\n",
    "\n",
    "Analyzing this column will help us evaluate the bowling strength of different teams, their defensive capabilities, and patterns in wicket-taking over the seasons.\n",
    "\n",
    "So, we will consider this column for team-level bowling performance analysis going forward."
   ]
  },
  {
   "cell_type": "markdown",
   "id": "2861c518-a880-4173-a62e-5420ddde6c6d",
   "metadata": {},
   "source": [
    "### 5. over \n",
    "\n",
    "The `over` column represents the over number within an innings. This is key in analyzing scoring patterns — like death overs, powerplay performances, and middle-over pressure handling.\n"
   ]
  },
  {
   "cell_type": "code",
   "execution_count": 39,
   "id": "2f34929e-68c9-4850-b922-3db267134a7f",
   "metadata": {},
   "outputs": [
    {
     "data": {
      "text/plain": [
       "0          0\n",
       "1          0\n",
       "2          0\n",
       "3          0\n",
       "4          0\n",
       "          ..\n",
       "260915     9\n",
       "260916     9\n",
       "260917    10\n",
       "260918    10\n",
       "260919    10\n",
       "Name: over, Length: 260920, dtype: int64"
      ]
     },
     "execution_count": 39,
     "metadata": {},
     "output_type": "execute_result"
    }
   ],
   "source": [
    "df['over']"
   ]
  },
  {
   "cell_type": "code",
   "execution_count": 40,
   "id": "c1d9c67a-2b82-4bc8-b56f-357f66e3fe65",
   "metadata": {},
   "outputs": [
    {
     "data": {
      "text/plain": [
       "array([ 0,  1,  2,  3,  4,  5,  6,  7,  8,  9, 10, 11, 12, 13, 14, 15, 16,\n",
       "       17, 18, 19], dtype=int64)"
      ]
     },
     "execution_count": 40,
     "metadata": {},
     "output_type": "execute_result"
    }
   ],
   "source": [
    "df['over'].unique()"
   ]
  },
  {
   "cell_type": "code",
   "execution_count": 41,
   "id": "a68f1027-d942-4968-98d3-1070260ce8e5",
   "metadata": {},
   "outputs": [
    {
     "data": {
      "text/plain": [
       "20"
      ]
     },
     "execution_count": 41,
     "metadata": {},
     "output_type": "execute_result"
    }
   ],
   "source": [
    "df['over'].nunique()"
   ]
  },
  {
   "cell_type": "markdown",
   "id": "52742500-78cb-453c-9221-d6408383279f",
   "metadata": {},
   "source": [
    "The over column has 20 unique values, ranging from 0 to 19. The over number indicates the over within an innings, with 0 representing the first delivery of the innings and 19 representing the last delivery in the 20th over.\n",
    "\n",
    "This column is important for analyzing scoring patterns, like how teams perform during the powerplay overs (the first 6 overs), middle overs, and death overs (the last few overs of the innings).\n",
    "\n",
    "So, we will consider this column for over-based analysis to study team performance in different phases of the match.\n",
    "\n"
   ]
  },
  {
   "cell_type": "markdown",
   "id": "50b87077-bf08-41ff-86a1-42d8219659fa",
   "metadata": {},
   "source": [
    "### 6. ball \n",
    "\n",
    "The `ball` column shows which delivery of the over was bowled (1 to 6, sometimes more in case of extras). It helps in micro-analysis of overs, such as evaluating bowler consistency and pressure deliveries.\n"
   ]
  },
  {
   "cell_type": "code",
   "execution_count": 44,
   "id": "db0c0e91-1bfd-4d03-a0f7-91df76cb177c",
   "metadata": {},
   "outputs": [
    {
     "data": {
      "text/plain": [
       "0         1\n",
       "1         2\n",
       "2         3\n",
       "3         4\n",
       "4         5\n",
       "         ..\n",
       "260915    5\n",
       "260916    6\n",
       "260917    1\n",
       "260918    2\n",
       "260919    3\n",
       "Name: ball, Length: 260920, dtype: int64"
      ]
     },
     "execution_count": 44,
     "metadata": {},
     "output_type": "execute_result"
    }
   ],
   "source": [
    "df['ball']"
   ]
  },
  {
   "cell_type": "code",
   "execution_count": 45,
   "id": "42da56e4-f861-4903-a5cd-351164584623",
   "metadata": {},
   "outputs": [
    {
     "data": {
      "text/plain": [
       "array([ 1,  2,  3,  4,  5,  6,  7,  8,  9, 10, 11], dtype=int64)"
      ]
     },
     "execution_count": 45,
     "metadata": {},
     "output_type": "execute_result"
    }
   ],
   "source": [
    "df['ball'].unique()"
   ]
  },
  {
   "cell_type": "code",
   "execution_count": 46,
   "id": "05ac104f-1af9-4a5d-b9d6-4125cf49d8f0",
   "metadata": {},
   "outputs": [
    {
     "data": {
      "text/plain": [
       "11"
      ]
     },
     "execution_count": 46,
     "metadata": {},
     "output_type": "execute_result"
    }
   ],
   "source": [
    "df['ball'].nunique()"
   ]
  },
  {
   "cell_type": "markdown",
   "id": "879d9a86-9bd6-478e-8944-b704809177f1",
   "metadata": {},
   "source": [
    "\n",
    "The `ball` column indicates the delivery number within an over — usually ranging from **1 to 6**, representing the six standard legal deliveries. However, due to **extras** like wides and no-balls, some overs contain more deliveries, which explains values going up to **11** in this dataset.\n",
    "\n",
    "Analyzing this column allows for:\n",
    "- **Micro-analysis of overs**: spotting pressure points or momentum shifts.\n",
    "- **Bowler performance under pressure**: such as 5th or 6th ball effectiveness.\n",
    "- **Impact of extras**: identifying bowlers who concede more extra deliveries.\n",
    "\n",
    " `df['ball'].nunique()` returns **11**, confirming the presence of overs that extended due to extras.\n",
    "\n",
    "So we will consider this column for further analysis."
   ]
  },
  {
   "cell_type": "markdown",
   "id": "29dc5114-be0f-48c4-b53b-846cc77b39c0",
   "metadata": {},
   "source": [
    "### 7. batter\n",
    "\n",
    "The `batter` column shows the player on strike for the delivery. This allows batter-wise performance analysis, such as total runs, boundaries, strike rates, and dismissal types.\n"
   ]
  },
  {
   "cell_type": "code",
   "execution_count": 49,
   "id": "bb4c142a-c092-47ba-981d-c1849b74689d",
   "metadata": {},
   "outputs": [
    {
     "data": {
      "text/plain": [
       "0          SC Ganguly\n",
       "1         BB McCullum\n",
       "2         BB McCullum\n",
       "3         BB McCullum\n",
       "4         BB McCullum\n",
       "             ...     \n",
       "260915        SS Iyer\n",
       "260916        VR Iyer\n",
       "260917        VR Iyer\n",
       "260918        SS Iyer\n",
       "260919        VR Iyer\n",
       "Name: batter, Length: 260920, dtype: object"
      ]
     },
     "execution_count": 49,
     "metadata": {},
     "output_type": "execute_result"
    }
   ],
   "source": [
    "df['batter']"
   ]
  },
  {
   "cell_type": "code",
   "execution_count": 50,
   "id": "30ccf905-317b-4814-850c-9c782202ddde",
   "metadata": {},
   "outputs": [
    {
     "data": {
      "text/plain": [
       "array(['SC Ganguly', 'BB McCullum', 'RT Ponting', 'DJ Hussey',\n",
       "       'Mohammad Hafeez', 'R Dravid', 'W Jaffer', 'V Kohli', 'JH Kallis',\n",
       "       'CL White', 'MV Boucher', 'B Akhil', 'AA Noffke', 'P Kumar',\n",
       "       'Z Khan', 'SB Joshi', 'PA Patel', 'ML Hayden', 'MEK Hussey',\n",
       "       'MS Dhoni', 'SK Raina', 'JDP Oram', 'S Badrinath', 'K Goel',\n",
       "       'JR Hopes', 'KC Sangakkara', 'Yuvraj Singh', 'SM Katich',\n",
       "       'IK Pathan', 'T Kohli', 'YK Pathan', 'SR Watson', 'M Kaif',\n",
       "       'DS Lehmann', 'RA Jadeja', 'M Rawat', 'D Salunkhe', 'SK Warne',\n",
       "       'SK Trivedi', 'G Gambhir', 'V Sehwag', 'S Dhawan', 'L Ronchi',\n",
       "       'ST Jayasuriya', 'DJ Thornely', 'RV Uthappa', 'PR Shah',\n",
       "       'AM Nayar', 'SM Pollock', 'Harbhajan Singh', 'S Chanderpaul',\n",
       "       'LRPL Taylor', 'AC Gilchrist', 'Y Venugopal Rao', 'VVS Laxman',\n",
       "       'A Symonds', 'RG Sharma', 'SB Styris', 'AS Yadav', 'SB Bangar',\n",
       "       'WPUJC Vaas', 'RP Singh', 'WP Saha', 'LR Shukla',\n",
       "       'DPMD Jayawardene', 'S Sohal', 'B Lee', 'PP Chawla', 'WA Mota',\n",
       "       'Kamran Akmal', 'Shahid Afridi', 'DJ Bravo', 'MA Khote', 'A Nehra',\n",
       "       'GC Smith', 'Pankaj Singh', 'RR Sarwan', 'S Sreesanth',\n",
       "       'VRV Singh', 'SS Tiwary', 'DS Kulkarni', 'R Vinay Kumar',\n",
       "       'AB Agarkar', 'M Kartik', 'I Sharma', 'AM Rahane', 'Shoaib Malik',\n",
       "       'MK Tiwary', 'KD Karthik', 'R Bhatia', 'MF Maharoof', 'VY Mahesh',\n",
       "       'TM Srivastava', 'B Chipli', 'DW Steyn', 'DB Das', 'MK Pandey',\n",
       "       'HH Gibbs', 'DNT Zoysa', 'D Kalyankrishna', 'SE Marsh',\n",
       "       'SA Asnodkar', 'Sohail Tanvir', 'Salman Butt', 'BJ Hodge',\n",
       "       'Umar Gul', 'AB Dinda', 'SP Fleming', 'S Vidyut', 'JA Morkel',\n",
       "       'AB de Villiers', 'LPC Silva', 'DB Ravi Teja', 'Misbah-ul-Haq',\n",
       "       'YV Takawale', 'RR Raje', 'PJ Sangwan', 'Mohammad Asif',\n",
       "       'GD McGrath', 'Joginder Sharma', 'MS Gony', 'M Muralitharan',\n",
       "       'M Ntini', 'DT Patil', 'A Kumble', 'S Anirudha', 'MM Patel',\n",
       "       'CK Kapugedera', 'A Chopra', 'T Taibu', 'J Arunkumar', 'PP Ojha',\n",
       "       'SP Goswami', 'SR Tendulkar', 'U Kaul', 'TM Dilshan', 'A Mishra',\n",
       "       'AD Mascarenhas', 'NK Patel', 'LA Pomersbach', 'Iqbal Abdulla',\n",
       "       'Younis Khan', 'PM Sarvesh Kumar', 'DP Vijaykumar',\n",
       "       'Shoaib Akhtar', 'Abdur Razzak', 'H Das', 'DR Smith', 'SD Chitnis',\n",
       "       'CRD Fernando', 'VS Yeligati', 'L Balaji', 'A Mukund', 'RR Powar',\n",
       "       'JP Duminy', 'A Flintoff', 'T Thushara', 'JD Ryder',\n",
       "       'KP Pietersen', 'T Henderson', 'Kamran Khan', 'RS Bopara',\n",
       "       'CH Gayle', 'MC Henriques', 'R Bishnoi', 'FH Edwards', 'KV Sharma',\n",
       "       'PC Valthaty', 'RJ Quiney', 'AS Raut', 'Yashpal Singh', 'M Manhas',\n",
       "       'AA Bilakhia', 'AN Ghosh', 'BAW Mendis', 'DL Vettori',\n",
       "       'MN van Wyk', 'RE van der Merwe', 'TL Suman', 'Shoaib Ahmed',\n",
       "       'GR Napier', 'KP Appanna', 'LA Carseldine', 'NV Ojha',\n",
       "       'SM Harwood', 'M Vijay', 'SB Jakati', 'DA Warner', 'RJ Harris',\n",
       "       'D du Preez', 'M Morkel', 'AD Mathews', 'J Botha', 'C Nanda',\n",
       "       'SL Malinga', 'Mashrafe Mortaza', 'A Singh', 'GJ Bailey',\n",
       "       'AB McDonald', 'Y Nagar', 'SS Shaikh', 'R Ashwin',\n",
       "       'Mohammad Ashraful', 'CA Pujara', 'OA Shah', 'Anirudh Singh',\n",
       "       'Jaskaran Singh', 'AP Tare', 'AT Rayudu', 'R Sathish', 'R McLaren',\n",
       "       'AA Jhunjhunwala', 'P Dogra', 'A Uniyal', 'MS Bisla', 'YA Abdulla',\n",
       "       'EJG Morgan', 'JM Kemp', 'S Tyagi', 'RS Gavaskar', 'SE Bond',\n",
       "       'KA Pollard', 'S Ladda', 'DP Nannes', 'MJ Lumb', 'DR Martyn',\n",
       "       'S Narwal', 'AB Barath', 'Bipul Sharma', 'FY Fazal', 'AC Voges',\n",
       "       'MD Mishra', 'UT Yadav', 'J Theron', 'SJ Srivastava', 'R Sharma',\n",
       "       'Mandeep Singh', 'KM Jadhav', 'SW Tait', 'KB Arun Karthik',\n",
       "       'KAJ Roach', 'PD Collingwood', 'CK Langeveldt', 'VS Malik',\n",
       "       'A Mithun', 'AP Dole', 'AN Ahmed', 'RS Sodhi', 'DE Bollinger',\n",
       "       'S Sriram', 'B Sumanth', 'C Madan', 'AG Paunikar', 'MR Marsh',\n",
       "       'AJ Finch', 'STR Binny', 'Harmeet Singh', 'IR Jaggi',\n",
       "       'DT Christian', 'RV Gomez', 'MA Agarwal', 'AUK Pathan',\n",
       "       'UBT Chand', 'DJ Jacobs', 'Sunny Singh', 'NJ Rimmington',\n",
       "       'AL Menaria', 'WD Parnell', 'JJ van der Wath', 'R Ninan',\n",
       "       'S Aravind', 'MS Wade', 'TD Paine', 'SB Wagh', 'AC Thomas',\n",
       "       'JEC Franklin', 'Shakib Al Hasan', 'DH Yagnik', 'S Randiv',\n",
       "       'BJ Haddin', 'NLTC Perera', 'NL McCullum', 'JE Taylor',\n",
       "       'J Syed Mohammad', 'RN ten Doeschate', 'TR Birt', 'AG Murtaza',\n",
       "       'Harpreet Singh', 'M Klinger', 'AC Blizzard', 'I Malhotra',\n",
       "       'L Ablish', 'CA Ingram', 'S Nadeem', 'P Parameswaran',\n",
       "       'CJ Ferguson', 'VR Aaron', 'AA Chavan', 'ND Doshi', 'B Kumar',\n",
       "       'Y Gnaneswara Rao', 'S Rana', 'BA Bhatt', 'F du Plessis',\n",
       "       'RE Levi', 'GJ Maxwell', 'SPD Smith', 'MN Samuels', 'SA Yadav',\n",
       "       'KK Cooper', 'JP Faulkner', 'HV Patel', 'DAJ Bracewell',\n",
       "       'DJ Harris', 'Ankit Sharma', 'SP Narine', 'GB Hogg', 'RR Bhatkal',\n",
       "       'CJ McKay', 'N Saini', 'DA Miller', 'Azhar Mahmood', 'P Negi',\n",
       "       'RJ Peterson', 'KMDN Kulasekara', 'A Ashish Reddy',\n",
       "       'V Pratap Singh', 'BB Samantray', 'MJ Clarke', 'Gurkeerat Singh',\n",
       "       'AP Majumdar', 'PA Reddy', 'K Upadhyay', 'P Awana', 'AD Russell',\n",
       "       'A Chandila', 'CA Lynn', 'Sunny Gupta', 'MC Juneja', 'KK Nair',\n",
       "       'GH Vihari', 'MDKJ Perera', 'R Shukla', 'B Laughlin', 'AS Rajpoot',\n",
       "       'M Vohra', 'JD Unadkat', 'Mohammed Shami', 'BMAJ Mendis',\n",
       "       'R Rampaul', 'CH Morris', 'SV Samson', 'SMSM Senanayake',\n",
       "       'BJ Rohrer', 'KL Rahul', 'Q de Kock', 'R Dhawan', 'MG Johnson',\n",
       "       'LJ Wright', 'IC Pandey', 'CM Gautam', 'X Thalaivan Sargunam',\n",
       "       'DJG Sammy', 'KW Richardson', 'MM Sharma', 'UA Birla',\n",
       "       'Parvez Rasool', 'Sandeep Sharma', 'S Kaul', 'Sachin Baby',\n",
       "       'PV Tambe', 'NM Coulter-Nile', 'CJ Anderson', 'NJ Maddinson',\n",
       "       'AR Patel', 'JJ Bumrah', 'JDS Neesham', 'TG Southee', 'MA Starc',\n",
       "       'BR Dunk', 'RR Rossouw', 'Shivam Sharma', 'YS Chahal',\n",
       "       'LMP Simmons', 'VH Zol', 'BCJ Cutting', 'Imran Tahir',\n",
       "       'BE Hendricks', 'S Gopal', 'M de Lange', 'R Tewatia', 'JO Holder',\n",
       "       'Karanveer Singh', 'SS Iyer', 'DJ Hooda', 'Anureet Singh',\n",
       "       'KS Williamson', 'SA Abbott', 'J Suchith', 'RG More', 'HH Pandya',\n",
       "       'D Wiese', 'SN Khan', 'MJ McClenaghan', 'DJ Muthuswami',\n",
       "       'PJ Cummins', 'SN Thakur', 'JC Buttler', 'CR Brathwaite',\n",
       "       'MP Stoinis', 'Ishan Kishan', 'C Munro', 'P Sahu', 'KH Pandya',\n",
       "       'AD Nath', 'MJ Guptill', 'KJ Abbott', 'TM Head', 'M Ashwin',\n",
       "       'NS Naik', 'RR Pant', 'SW Billings', 'KC Cariappa',\n",
       "       'PSP Handscomb', 'Swapnil Singh', 'J Yadav', 'UT Khawaja',\n",
       "       'HM Amla', 'F Behardien', 'BB Sran', 'A Zampa', 'N Rana',\n",
       "       'S Kaushik', 'ER Dwivedi', 'CJ Jordan', 'TS Mills', 'A Choudhary',\n",
       "       'BA Stokes', 'JJ Roy', 'Vishnu Vinod', 'Basil Thampi', 'CR Woakes',\n",
       "       'RA Tripathi', 'DL Chahar', 'V Shankar', 'Rashid Khan',\n",
       "       'RD Chahar', 'LH Ferguson', 'C de Grandhomme', 'AF Milne',\n",
       "       'S Badree', 'Mohammad Nabi', 'AJ Tye', 'K Rabada', 'Kuldeep Yadav',\n",
       "       'Washington Sundar', 'DM Bravo', 'AR Bawne', 'SP Jackson',\n",
       "       'Ankit Soni', 'TA Boult', 'E Lewis', 'MA Wood', 'RK Singh',\n",
       "       'DJM Short', 'K Gowtham', 'TK Curran', 'M Markande', 'B Stanlake',\n",
       "       'Mujeeb Ur Rahman', 'A Dananjaya', 'Shubman Gill', 'Shivam Mavi',\n",
       "       'Mohammed Siraj', 'H Klaasen', 'RK Bhui', 'JC Archer', 'PP Shaw',\n",
       "       'LE Plunkett', 'Mustafizur Rahman', 'AD Hales', 'MK Lomror',\n",
       "       'DR Shorey', 'MM Ali', 'M Prasidh Krishna', 'P Chopra',\n",
       "       'JPR Scantlebury-Searles', 'Abhishek Sharma', 'IS Sodhi',\n",
       "       'SO Hetmyer', 'S Dube', 'Navdeep Saini', 'JM Bairstow', 'KMA Paul',\n",
       "       'Rasikh Salam', 'N Pooran', 'P Ray Barman', 'SM Curran',\n",
       "       'GC Viljoen', 'Avesh Khan', 'S Lamichhane', 'HF Gurney', 'SD Lad',\n",
       "       'AS Joseph', 'R Parag', 'MJ Santner', 'JL Denly', 'LS Livingstone',\n",
       "       'KK Ahmed', 'AJ Turner', 'Harpreet Brar', 'SE Rutherford',\n",
       "       'Y Prithvi Raj', 'P Simran Singh', 'JL Pattinson', 'A Nortje',\n",
       "       'T Banton', 'D Padikkal', 'YBK Jaiswal', 'RD Gaikwad',\n",
       "       'TU Deshpande', 'Abdul Samad', 'PK Garg', 'JR Philippe',\n",
       "       'Kartik Tyagi', 'KL Nagarkoti', 'CV Varun', 'I Udana',\n",
       "       'Ravi Bishnoi', 'Shahbaz Ahmed', 'AT Carey', 'N Jagadeesan',\n",
       "       'T Natarajan', 'P Dubey', 'SS Cottrell', 'Arshdeep Singh',\n",
       "       'DR Sams', 'M Jansen', 'RM Patidar', 'KA Jamieson',\n",
       "       'M Shahrukh Khan', 'JA Richardson', 'Lalit Yadav', 'Virat Singh',\n",
       "       'FA Allen', 'C Sakariya', 'DJ Malan', 'KS Bharat', 'PWH de Silva',\n",
       "       'VR Iyer', 'GD Phillips', 'GHS Garton', 'AK Markram', 'K Yadav',\n",
       "       'T Shamsi', 'NT Ellis', 'RV Patel', 'TL Seifert',\n",
       "       'Anmolpreet Singh', 'Anuj Rawat', 'TH David', 'DP Conway',\n",
       "       'Tilak Varma', 'R Powell', 'PBB Rajapaksa', 'RA Bawa', 'OF Smith',\n",
       "       'A Badoni', 'PVD Chameera', 'A Manohar', 'R Shepherd', 'DJ Willey',\n",
       "       'D Pretorius', 'JM Sharma', 'VG Arora', 'Mukesh Choudhary',\n",
       "       'Umran Malik', 'D Brevis', 'B Sai Sudharsan', 'Ramandeep Singh',\n",
       "       'HE van der Dussen', 'SS Prabhudessai', 'Akash Deep',\n",
       "       'JR Hazlewood', 'KR Sen', 'Aman Hakim Khan', 'HR Shokeen',\n",
       "       'Yash Dayal', 'DJ Mitchell', 'Shashank Singh', 'B Indrajith',\n",
       "       'Harshit Rana', 'Mohsin Khan', 'Simarjeet Singh', 'M Theekshana',\n",
       "       'AS Roy', 'Fazalhaq Farooqi', 'K Kartikeya', 'RP Meredith',\n",
       "       'KS Sharma', 'T Stubbs', 'R Sanjay Yadav', 'A Tomar', 'PN Mankad',\n",
       "       'OC McCoy', 'Sikandar Raza', 'Rahmanullah Gurbaz', 'KR Mayers',\n",
       "       'Mukesh Kumar', 'HC Brook', 'AU Rashid', 'C Green', 'N Wadhera',\n",
       "       'Arshad Khan', 'Abishek Porel', 'Dhruv Jurel', 'MG Bracewell',\n",
       "       'MW Short', 'Mohit Rathee', 'YV Dhull', 'Yudhvir Singh',\n",
       "       'Atharva Taide', 'Liton Das', 'PD Salt', 'Vijaykumar Vyshak',\n",
       "       'Abdul Basith', 'Arjun Tendulkar', 'JP Behrendorff', 'AJ Hosein',\n",
       "       'Naveen-ul-Haq', 'Noor Ahmad', 'JE Root', 'KM Asif', 'MD Shanaka',\n",
       "       'Sanvir Singh', 'Vivrant Sharma', 'DG Nalkande', 'R Ravindra',\n",
       "       'SD Hope', 'Sumit Kumar', 'Azmatullah Omarzai', 'Naman Dhir',\n",
       "       'G Coetzee', 'SZ Mulani', 'Sameer Rizvi', 'SH Johnson',\n",
       "       'Akash Madhwal', 'SB Dubey', 'Mayank Dagar', 'RJW Topley',\n",
       "       'A Raghuvanshi', 'Ashutosh Sharma', 'Nithish Kumar Reddy',\n",
       "       'Saurav Chauhan', 'Kumar Kushagra', 'BR Sharath', 'WG Jacks',\n",
       "       'J Fraser-McGurk', 'Tanush Kotian', 'KA Maharaj',\n",
       "       'Arshad Khan (2)', 'R Sai Kishore', 'L Wood', 'LB Williams',\n",
       "       'AA Kulkarni', 'MJ Suthar', 'RJ Gleeson', 'Gulbadin Naib',\n",
       "       'D Ferreira', 'A Kamboj', 'T Kohler-Cadmore', 'Shivam Singh',\n",
       "       'V Viyaskanth'], dtype=object)"
      ]
     },
     "execution_count": 50,
     "metadata": {},
     "output_type": "execute_result"
    }
   ],
   "source": [
    "df['batter'].unique()"
   ]
  },
  {
   "cell_type": "code",
   "execution_count": 51,
   "id": "7943d96c-5008-4a4d-87c5-78d8987ab40f",
   "metadata": {},
   "outputs": [
    {
     "data": {
      "text/plain": [
       "673"
      ]
     },
     "execution_count": 51,
     "metadata": {},
     "output_type": "execute_result"
    }
   ],
   "source": [
    "df['batter'].nunique()"
   ]
  },
  {
   "cell_type": "markdown",
   "id": "94bcfa7e-9ed5-40c3-b957-b4ec1b8e4db9",
   "metadata": {},
   "source": [
    "\n",
    "\n",
    "The `batter` column represents the **striker** — the player facing the delivery on each ball. This field is central to analyzing:\n",
    "\n",
    "- **Individual performances**: runs scored, boundaries, strike rates, and dismissals.\n",
    "- **Partnership trends**: tracking contributions and synergy between batters.\n",
    "- **Match context**: understanding how key players perform under pressure or in specific overs.\n",
    "\n",
    " The dataset includes **673 unique batters**, reflecting the rich history and diversity of players who have participated in IPL over the years.\n",
    "\n",
    " So, we will consider this column for batter-based analysis to see how each player performs in different situations.\n"
   ]
  },
  {
   "cell_type": "markdown",
   "id": "9e5bed22-2b0e-443e-a26b-aa536aeb253e",
   "metadata": {},
   "source": [
    "###  8. bowler\n",
    "\n",
    "The `bowler` column contains the name of the bowler who bowled the delivery. It is useful in identifying top-performing bowlers, their economy, and wicket-taking ability across seasons.\n"
   ]
  },
  {
   "cell_type": "code",
   "execution_count": 54,
   "id": "abf45a0d-14a0-40d6-ba22-56baeca34c48",
   "metadata": {},
   "outputs": [
    {
     "data": {
      "text/plain": [
       "0               P Kumar\n",
       "1               P Kumar\n",
       "2               P Kumar\n",
       "3               P Kumar\n",
       "4               P Kumar\n",
       "              ...      \n",
       "260915       AK Markram\n",
       "260916       AK Markram\n",
       "260917    Shahbaz Ahmed\n",
       "260918    Shahbaz Ahmed\n",
       "260919    Shahbaz Ahmed\n",
       "Name: bowler, Length: 260920, dtype: object"
      ]
     },
     "execution_count": 54,
     "metadata": {},
     "output_type": "execute_result"
    }
   ],
   "source": [
    "df['bowler']"
   ]
  },
  {
   "cell_type": "code",
   "execution_count": 55,
   "id": "0c058cf1-a138-4fda-b54f-b2b010fc54e1",
   "metadata": {},
   "outputs": [
    {
     "data": {
      "text/plain": [
       "array(['P Kumar', 'Z Khan', 'AA Noffke', 'JH Kallis', 'SB Joshi',\n",
       "       'CL White', 'AB Dinda', 'I Sharma', 'AB Agarkar', 'SC Ganguly',\n",
       "       'LR Shukla', 'B Lee', 'S Sreesanth', 'JR Hopes', 'IK Pathan',\n",
       "       'K Goel', 'PP Chawla', 'WA Mota', 'JDP Oram', 'MS Gony',\n",
       "       'M Muralitharan', 'P Amarnath', 'Joginder Sharma', 'GD McGrath',\n",
       "       'B Geeves', 'MF Maharoof', 'R Bhatia', 'DL Vettori', 'MM Patel',\n",
       "       'SR Watson', 'SK Trivedi', 'SK Warne', 'YK Pathan', 'D Salunkhe',\n",
       "       'R Vinay Kumar', 'B Akhil', 'A Nehra', 'SM Pollock', 'DS Kulkarni',\n",
       "       'ST Jayasuriya', 'Harbhajan Singh', 'AM Nayar', 'M Kartik',\n",
       "       'Mohammad Hafeez', 'DJ Hussey', 'WPUJC Vaas', 'RP Singh',\n",
       "       'SB Styris', 'SB Bangar', 'A Symonds', 'PP Ojha', 'Pankaj Singh',\n",
       "       'Mohammad Asif', 'VY Mahesh', 'Shahid Afridi', 'DJ Bravo',\n",
       "       'VS Yeligati', 'MA Khote', 'D Kalyankrishna', 'VRV Singh',\n",
       "       'Sohail Tanvir', 'A Kumble', 'DNT Zoysa', 'SD Chitnis',\n",
       "       'Yuvraj Singh', 'Shoaib Malik', 'DW Steyn', 'JA Morkel',\n",
       "       'CRD Fernando', 'V Kohli', 'V Sehwag', 'Gagandeep Singh',\n",
       "       'Y Venugopal Rao', 'Umar Gul', 'PJ Sangwan', 'M Ntini',\n",
       "       'DP Vijaykumar', 'DB Ravi Teja', 'LPC Silva', 'DJ Thornely',\n",
       "       'RR Raje', 'SK Raina', 'S Vidyut', 'L Balaji', 'CK Kapugedera',\n",
       "       'DR Smith', 'AD Mascarenhas', 'A Mishra', 'Shoaib Akhtar',\n",
       "       'Iqbal Abdulla', 'RR Powar', 'PM Sarvesh Kumar', 'Abdur Razzak',\n",
       "       'RA Jadeja', 'TM Dilshan', 'RG Sharma', 'A Nel', 'BAW Mendis',\n",
       "       'T Thushara', 'A Flintoff', 'SL Malinga', 'Kamran Khan',\n",
       "       'T Henderson', 'JD Ryder', 'DP Nannes', 'AM Salvi', 'YA Abdulla',\n",
       "       'VS Malik', 'FH Edwards', 'Harmeet Singh', 'CH Gayle',\n",
       "       'MC Henriques', 'KP Pietersen', 'LRPL Taylor', 'RS Bopara',\n",
       "       'MK Tiwary', 'Anureet Singh', 'RR Bose', 'KP Appanna',\n",
       "       'Shoaib Ahmed', 'BJ Hodge', 'SR Tendulkar', 'RE van der Merwe',\n",
       "       'JP Duminy', 'S Tyagi', 'GR Napier', 'SM Harwood', 'AS Raut',\n",
       "       'SB Jakati', 'D du Preez', 'RJ Harris', 'TL Suman', 'A Singh',\n",
       "       'M Morkel', 'LA Carseldine', 'A Mithun', 'C Nanda', 'SS Sarkar',\n",
       "       'AD Mathews', 'AM Rahane', 'J Botha', 'Mashrafe Mortaza',\n",
       "       'AB McDonald', 'Y Nagar', 'CK Langeveldt', 'R Ashwin', 'RA Shaikh',\n",
       "       'Jaskaran Singh', 'SW Tait', 'A Uniyal', 'AA Jhunjhunwala',\n",
       "       'R McLaren', 'AG Murtaza', 'R Sathish', 'RS Gavaskar', 'JM Kemp',\n",
       "       'S Ladda', 'Bipul Sharma', 'SE Bond', 'KA Pollard', 'S Narwal',\n",
       "       'UT Yadav', 'SJ Srivastava', 'AC Voges', 'R Sharma', 'J Theron',\n",
       "       'NLTC Perera', 'KAJ Roach', 'PD Collingwood', 'C Ganapathy',\n",
       "       'MB Parmar', 'SB Wagh', 'DE Bollinger', 'JD Unadkat', 'AP Dole',\n",
       "       'AN Ahmed', 'FY Fazal', 'MR Marsh', 'L Ablish', 'S Sriram',\n",
       "       'AJ Finch', 'STR Binny', 'ND Doshi', 'TG Southee', 'S Randiv',\n",
       "       'AL Menaria', 'DT Christian', 'AUK Pathan', 'RV Gomez',\n",
       "       'JEC Franklin', 'AC Thomas', 'WD Parnell', 'M Manhas',\n",
       "       'NJ Rimmington', 'RN ten Doeschate', 'S Nadeem', 'BA Bhatt',\n",
       "       'JJ van der Wath', 'S Aravind', 'R Ninan', 'Shakib Al Hasan',\n",
       "       'PC Valthaty', 'S Dhawan', 'J Syed Mohammad', 'VR Aaron',\n",
       "       'NL McCullum', 'JE Taylor', 'KMDN Kulasekara', 'P Parameswaran',\n",
       "       'I Malhotra', 'B Chipli', 'B Kumar', 'AA Kazi', 'Anand Rajan',\n",
       "       'P Prasanth', 'Y Gnaneswara Rao', 'AA Chavan', 'S Rana',\n",
       "       'JP Faulkner', 'SS Mundhe', 'RW Price', 'GJ Maxwell', 'M de Lange',\n",
       "       'MN Samuels', 'KK Cooper', 'DAJ Bracewell', 'HV Patel',\n",
       "       'Ankit Sharma', 'DJ Harris', 'TP Sudhindra', 'F du Plessis',\n",
       "       'SP Narine', 'GB Hogg', 'RR Bhatkal', 'P Awana', 'V Pratap Singh',\n",
       "       'CJ McKay', 'AD Russell', 'A Ashish Reddy', 'Azhar Mahmood',\n",
       "       'A Chandila', 'P Negi', 'LJ Wright', 'RJ Peterson', 'R Shukla',\n",
       "       'MJ Clarke', 'BW Hilfenhaus', 'SPD Smith', 'K Upadhyay',\n",
       "       'Sunny Gupta', 'MG Johnson', 'JJ Bumrah', 'S Badree', 'AS Rajpoot',\n",
       "       'B Laughlin', 'GH Vihari', 'Mohammed Shami', 'BMAJ Mendis',\n",
       "       'CH Morris', 'S Kaul', 'R Dhawan', 'MM Sharma', 'R Rampaul',\n",
       "       'KV Sharma', 'SMSM Senanayake', 'JO Holder', 'IC Pandey',\n",
       "       'Sandeep Sharma', 'YS Chahal', 'DJG Sammy', 'KW Richardson',\n",
       "       'P Suyal', 'PV Tambe', 'BJ Rohrer', 'Parvez Rasool', 'MG Neser',\n",
       "       'NM Coulter-Nile', 'AC Gilchrist', 'CJ Anderson', 'MA Starc',\n",
       "       'JDS Neesham', 'AR Patel', 'M Vijay', 'R Tewatia', 'SA Yadav',\n",
       "       'Shivam Sharma', 'Imran Tahir', 'V Shankar', 'LMP Simmons',\n",
       "       'BCJ Cutting', 'K Santokie', 'S Gopal', 'BE Hendricks',\n",
       "       'PJ Cummins', 'JW Hastings', 'Karanveer Singh', 'DJ Muthuswami',\n",
       "       'TA Boult', 'SA Abbott', 'KC Cariappa', 'DJ Hooda', 'J Suchith',\n",
       "       'RG More', 'D Wiese', 'MJ McClenaghan', 'HH Pandya', 'SN Thakur',\n",
       "       'GS Sandhu', 'Gurkeerat Singh', 'J Yadav', 'BB Sran', 'M Ashwin',\n",
       "       'C Munro', 'CR Brathwaite', 'MP Stoinis', 'P Sahu',\n",
       "       'Mustafizur Rahman', 'AF Milne', 'Kuldeep Yadav', 'KH Pandya',\n",
       "       'KJ Abbott', 'T Shamsi', 'S Kaushik', 'SM Boland', 'Swapnil Singh',\n",
       "       'CJ Jordan', 'A Zampa', 'Sachin Baby', 'N Rana', 'DL Chahar',\n",
       "       'KS Williamson', 'TS Mills', 'A Choudhary', 'TM Head',\n",
       "       'Rashid Khan', 'BA Stokes', 'CR Woakes', 'T Natarajan',\n",
       "       'RD Chahar', 'B Stanlake', 'Tejas Baroka', 'Basil Thampi',\n",
       "       'C de Grandhomme', 'AJ Tye', 'LH Ferguson', 'Mohammad Nabi',\n",
       "       'Mohammed Siraj', 'K Rabada', 'Washington Sundar', 'SS Agarwal',\n",
       "       'NB Singh', 'RA Tripathi', 'Ankit Soni', 'MJ Henry', 'Avesh Khan',\n",
       "       'MA Wood', 'M Markande', 'Mujeeb Ur Rahman', 'K Khejroliya',\n",
       "       'K Gowtham', 'DJM Short', 'TK Curran', 'A Dananjaya',\n",
       "       'Shivam Mavi', 'JC Archer', 'LE Plunkett', 'IS Sodhi', 'MK Lomror',\n",
       "       'L Ngidi', 'KM Asif', 'DJ Willey', 'M Prasidh Krishna', 'MM Ali',\n",
       "       'JPR Scantlebury-Searles', 'S Lamichhane', 'CJ Dala', 'KK Ahmed',\n",
       "       'Navdeep Saini', 'S Dube', 'Rasikh Salam', 'KMA Paul', 'SM Curran',\n",
       "       'CV Varun', 'GC Viljoen', 'Mandeep Singh', 'P Ray Barman',\n",
       "       'MJ Santner', 'JP Behrendorff', 'SC Kuggeleijn', 'AS Joseph',\n",
       "       'HF Gurney', 'S Midhun', 'R Parag', 'LS Livingstone', 'SN Khan',\n",
       "       'Abhishek Sharma', 'Arshdeep Singh', 'SE Rutherford',\n",
       "       'Harpreet Brar', 'Y Prithvi Raj', 'O Thomas', 'AS Roy',\n",
       "       'S Sandeep Warrier', 'JL Pattinson', 'SS Cottrell', 'Ravi Bishnoi',\n",
       "       'A Nortje', 'I Udana', 'TU Deshpande', 'KL Nagarkoti',\n",
       "       'Kartik Tyagi', 'DR Sams', 'Shahbaz Ahmed', 'Abdul Samad',\n",
       "       'JR Hazlewood', 'DA Warner', 'CJ Green', 'P Dubey', 'Monu Kumar',\n",
       "       'KA Jamieson', 'M Jansen', 'C Sakariya', 'JA Richardson',\n",
       "       'RP Meredith', 'LI Meriwala', 'Lalit Yadav', 'Jalaj S Saxena',\n",
       "       'FA Allen', 'PWH de Silva', 'Umran Malik', 'Akash Singh',\n",
       "       'GD Phillips', 'AK Markram', 'GHS Garton', 'VR Iyer', 'K Yadav',\n",
       "       'NT Ellis', 'RV Patel', 'IC Porel', 'AU Rashid', 'OF Smith',\n",
       "       'Akash Deep', 'PVD Chameera', 'Mohsin Khan', 'R Shepherd',\n",
       "       'Mukesh Choudhary', 'D Pretorius', 'VG Arora', 'YBK Jaiswal',\n",
       "       'Tilak Varma', 'DG Nalkande', 'M Theekshana', 'D Brevis',\n",
       "       'R Powell', 'KR Sen', 'Yash Dayal', 'Shashank Singh',\n",
       "       'Aman Hakim Khan', 'OC McCoy', 'HR Shokeen', 'A Badoni',\n",
       "       'DJ Mitchell', 'Harshit Rana', 'SS Iyer', 'K Kartikeya',\n",
       "       'Simarjeet Singh', 'Fazalhaq Farooqi', 'R Sai Kishore',\n",
       "       'Ramandeep Singh', 'PH Solanki', 'M Pathirana', 'R Sanjay Yadav',\n",
       "       'J Little', 'RS Hangargekar', 'Sikandar Raza', 'Mukesh Kumar',\n",
       "       'KR Mayers', 'NA Saini', 'RJW Topley', 'MG Bracewell',\n",
       "       'Arshad Khan', 'C Green', 'Yash Thakur', 'Suyash Sharma',\n",
       "       'SSB Magala', 'Mohit Rathee', 'MW Short', 'Vijaykumar Vyshak',\n",
       "       'Yudhvir Singh', 'Arjun Tendulkar', 'D Jansen', 'Noor Ahmad',\n",
       "       'Naveen-ul-Haq', 'Mayank Dagar', 'Gurnoor Brar', 'AJ Hosein',\n",
       "       'Akash Madhwal', 'R Goyal', 'T Stubbs', 'Vivrant Sharma',\n",
       "       'JE Root', 'Nithish Kumar Reddy', 'H Sharma', 'Sumit Kumar',\n",
       "       'N Burger', 'L Wood', 'SZ Mulani', 'Naman Dhir', 'G Coetzee',\n",
       "       'Azmatullah Omarzai', 'SH Johnson', 'KT Maphaka', 'M Siddharth',\n",
       "       'MP Yadav', 'R Ravindra', 'KA Maharaj', 'WG Jacks', 'S Joseph',\n",
       "       'Arshad Khan (2)', 'M Shahrukh Khan', 'N Thushara', 'LB Williams',\n",
       "       'RJ Gleeson', 'MJ Suthar', 'A Kamboj', 'V Viyaskanth',\n",
       "       'V Kaverappa', 'Gulbadin Naib', 'N Wadhera', 'Atharva Taide'],\n",
       "      dtype=object)"
      ]
     },
     "execution_count": 55,
     "metadata": {},
     "output_type": "execute_result"
    }
   ],
   "source": [
    "df['bowler'].unique()"
   ]
  },
  {
   "cell_type": "code",
   "execution_count": 56,
   "id": "ee0689a0-1bbf-4c66-b8fe-333df5fcc2ae",
   "metadata": {},
   "outputs": [
    {
     "data": {
      "text/plain": [
       "530"
      ]
     },
     "execution_count": 56,
     "metadata": {},
     "output_type": "execute_result"
    }
   ],
   "source": [
    "df['bowler'].nunique()"
   ]
  },
  {
   "cell_type": "markdown",
   "id": "a5c52ff2-e244-4729-b9e4-17a221194cc9",
   "metadata": {},
   "source": [
    "we got 530 unique values for the bowler column. We will consider this column for further analysis."
   ]
  },
  {
   "cell_type": "markdown",
   "id": "3a286f64-94ac-476d-83ba-73e91d00c289",
   "metadata": {},
   "source": [
    "### 9. non-Striker\n",
    "The `non_striker` column in the dataset captures the name of the batter who is positioned at the **non-striker's end** during a particular delivery. This batter is not facing the ball but plays an essential role in the game. Their contributions include:\n",
    "\n",
    "1. **Running Between the Wickets**: The non-striker runs toward the striker's end when a run is taken.\n",
    "2. **Partnership Analysis**: The column helps track the partnership between two batters, providing insights into their combined performance.\n",
    "3. **Strategic Role**: The non-striker can influence the batting team's strategy, including rotating the strike or supporting the striker during a challenging phase of play.\n",
    "\n",
    "This column is crucial for analyzing batter pairings, rotation of strike, and other aspects of batting performance that go beyond individual runs scored.\n",
    "We will consider this column for further analysis.\n"
   ]
  },
  {
   "cell_type": "code",
   "execution_count": 59,
   "id": "8e30ea37-8c63-4577-9205-7459188ad6e2",
   "metadata": {},
   "outputs": [
    {
     "data": {
      "text/plain": [
       "0         BB McCullum\n",
       "1          SC Ganguly\n",
       "2          SC Ganguly\n",
       "3          SC Ganguly\n",
       "4          SC Ganguly\n",
       "             ...     \n",
       "260915        VR Iyer\n",
       "260916        SS Iyer\n",
       "260917        SS Iyer\n",
       "260918        VR Iyer\n",
       "260919        SS Iyer\n",
       "Name: non_striker, Length: 260920, dtype: object"
      ]
     },
     "execution_count": 59,
     "metadata": {},
     "output_type": "execute_result"
    }
   ],
   "source": [
    "df['non_striker']"
   ]
  },
  {
   "cell_type": "code",
   "execution_count": 60,
   "id": "420d525c-ab3b-4b2f-b92f-3a8030a02fa5",
   "metadata": {},
   "outputs": [
    {
     "data": {
      "text/plain": [
       "array(['BB McCullum', 'SC Ganguly', 'RT Ponting', 'DJ Hussey',\n",
       "       'Mohammad Hafeez', 'W Jaffer', 'R Dravid', 'V Kohli', 'JH Kallis',\n",
       "       'CL White', 'MV Boucher', 'B Akhil', 'AA Noffke', 'P Kumar',\n",
       "       'Z Khan', 'SB Joshi', 'ML Hayden', 'PA Patel', 'MEK Hussey',\n",
       "       'MS Dhoni', 'SK Raina', 'JDP Oram', 'S Badrinath', 'JR Hopes',\n",
       "       'K Goel', 'KC Sangakkara', 'Yuvraj Singh', 'SM Katich',\n",
       "       'IK Pathan', 'YK Pathan', 'T Kohli', 'SR Watson', 'M Kaif',\n",
       "       'DS Lehmann', 'RA Jadeja', 'M Rawat', 'D Salunkhe', 'SK Warne',\n",
       "       'SK Trivedi', 'V Sehwag', 'G Gambhir', 'S Dhawan', 'ST Jayasuriya',\n",
       "       'L Ronchi', 'DJ Thornely', 'RV Uthappa', 'PR Shah', 'AM Nayar',\n",
       "       'SM Pollock', 'Harbhajan Singh', 'S Chanderpaul', 'LRPL Taylor',\n",
       "       'Y Venugopal Rao', 'AC Gilchrist', 'VVS Laxman', 'A Symonds',\n",
       "       'SB Styris', 'AS Yadav', 'SB Bangar', 'WPUJC Vaas', 'RP Singh',\n",
       "       'PP Ojha', 'WP Saha', 'LR Shukla', 'DPMD Jayawardene', 'S Sohal',\n",
       "       'PP Chawla', 'WA Mota', 'Kamran Akmal', 'RG Sharma',\n",
       "       'Shahid Afridi', 'DJ Bravo', 'MA Khote', 'A Nehra', 'GC Smith',\n",
       "       'Pankaj Singh', 'RR Sarwan', 'B Lee', 'S Sreesanth', 'VRV Singh',\n",
       "       'SS Tiwary', 'DS Kulkarni', 'R Vinay Kumar', 'AB Agarkar',\n",
       "       'M Kartik', 'I Sharma', 'AB Dinda', 'AM Rahane', 'Shoaib Malik',\n",
       "       'MK Tiwary', 'KD Karthik', 'R Bhatia', 'MF Maharoof', 'VY Mahesh',\n",
       "       'TM Srivastava', 'B Chipli', 'DW Steyn', 'DB Das', 'MK Pandey',\n",
       "       'HH Gibbs', 'DNT Zoysa', 'D Kalyankrishna', 'SE Marsh',\n",
       "       'SA Asnodkar', 'Sohail Tanvir', 'Salman Butt', 'BJ Hodge',\n",
       "       'Umar Gul', 'SP Fleming', 'S Vidyut', 'JA Morkel',\n",
       "       'Joginder Sharma', 'AB de Villiers', 'LPC Silva', 'DB Ravi Teja',\n",
       "       'DP Vijaykumar', 'Misbah-ul-Haq', 'YV Takawale', 'RR Raje',\n",
       "       'PJ Sangwan', 'Mohammad Asif', 'GD McGrath', 'MS Gony', 'M Ntini',\n",
       "       'DT Patil', 'A Kumble', 'S Anirudha', 'MM Patel', 'CK Kapugedera',\n",
       "       'A Chopra', 'T Taibu', 'J Arunkumar', 'SP Goswami', 'SR Tendulkar',\n",
       "       'TM Dilshan', 'A Mishra', 'AD Mascarenhas', 'NK Patel',\n",
       "       'LA Pomersbach', 'Iqbal Abdulla', 'Younis Khan',\n",
       "       'PM Sarvesh Kumar', 'Shoaib Akhtar', 'Abdur Razzak', 'H Das',\n",
       "       'DR Smith', 'SD Chitnis', 'CRD Fernando', 'A Nel', 'RR Powar',\n",
       "       'JP Duminy', 'A Flintoff', 'KP Pietersen', 'T Henderson',\n",
       "       'Kamran Khan', 'RS Bopara', 'CH Gayle', 'MC Henriques',\n",
       "       'R Bishnoi', 'FH Edwards', 'KV Sharma', 'DL Vettori', 'L Balaji',\n",
       "       'M Muralitharan', 'PC Valthaty', 'AS Raut', 'Yashpal Singh',\n",
       "       'JD Ryder', 'M Manhas', 'RJ Quiney', 'AA Bilakhia', 'AN Ghosh',\n",
       "       'BAW Mendis', 'MN van Wyk', 'RE van der Merwe', 'TL Suman',\n",
       "       'GR Napier', 'KP Appanna', 'LA Carseldine', 'NV Ojha',\n",
       "       'SM Harwood', 'M Vijay', 'SB Jakati', 'S Tyagi', 'DA Warner',\n",
       "       'RJ Harris', 'Shoaib Ahmed', 'D du Preez', 'SL Malinga',\n",
       "       'M Morkel', 'AD Mathews', 'J Botha', 'Mashrafe Mortaza',\n",
       "       'Jaskaran Singh', 'GJ Bailey', 'AB McDonald', 'Y Nagar', 'A Singh',\n",
       "       'SS Shaikh', 'R Ashwin', 'T Thushara', 'Mohammad Ashraful',\n",
       "       'CA Pujara', 'OA Shah', 'Anirudh Singh', 'AP Tare', 'AT Rayudu',\n",
       "       'R Sathish', 'R McLaren', 'AA Jhunjhunwala', 'P Dogra', 'MS Bisla',\n",
       "       'YA Abdulla', 'EJG Morgan', 'JM Kemp', 'A Uniyal', 'RS Gavaskar',\n",
       "       'SE Bond', 'KA Pollard', 'S Ladda', 'DP Nannes', 'MJ Lumb',\n",
       "       'DR Martyn', 'AB Barath', 'Bipul Sharma', 'FY Fazal', 'AC Voges',\n",
       "       'MD Mishra', 'UT Yadav', 'J Theron', 'SJ Srivastava',\n",
       "       'Mandeep Singh', 'KM Jadhav', 'S Narwal', 'SW Tait',\n",
       "       'KB Arun Karthik', 'KAJ Roach', 'PD Collingwood', 'VS Malik',\n",
       "       'C Ganapathy', 'R Sharma', 'A Mithun', 'AP Dole', 'Harmeet Singh',\n",
       "       'AN Ahmed', 'RS Sodhi', 'S Sriram', 'B Sumanth', 'C Madan',\n",
       "       'AG Paunikar', 'DE Bollinger', 'MR Marsh', 'AJ Finch', 'STR Binny',\n",
       "       'IR Jaggi', 'DT Christian', 'RV Gomez', 'MA Agarwal', 'AUK Pathan',\n",
       "       'DJ Jacobs', 'Sunny Singh', 'NJ Rimmington', 'UBT Chand',\n",
       "       'AL Menaria', 'WD Parnell', 'R Ninan', 'S Aravind',\n",
       "       'JJ van der Wath', 'MS Wade', 'S Nadeem', 'TD Paine', 'SB Wagh',\n",
       "       'AC Thomas', 'JEC Franklin', 'Shakib Al Hasan', 'DH Yagnik',\n",
       "       'S Randiv', 'BJ Haddin', 'NLTC Perera', 'NL McCullum', 'JE Taylor',\n",
       "       'J Syed Mohammad', 'RN ten Doeschate', 'TR Birt', 'AG Murtaza',\n",
       "       'Harpreet Singh', 'M Klinger', 'AC Blizzard', 'I Malhotra',\n",
       "       'L Ablish', 'P Parameswaran', 'CJ Ferguson', 'CA Ingram',\n",
       "       'VR Aaron', 'AA Chavan', 'ND Doshi', 'B Kumar', 'CK Langeveldt',\n",
       "       'Y Gnaneswara Rao', 'S Rana', 'BA Bhatt', 'F du Plessis',\n",
       "       'RE Levi', 'GJ Maxwell', 'SPD Smith', 'MN Samuels', 'SA Yadav',\n",
       "       'JP Faulkner', 'DAJ Bracewell', 'DJ Harris', 'Ankit Sharma',\n",
       "       'TP Sudhindra', 'KK Cooper', 'HV Patel', 'GB Hogg', 'RR Bhatkal',\n",
       "       'CJ McKay', 'N Saini', 'DA Miller', 'Azhar Mahmood', 'P Negi',\n",
       "       'RJ Peterson', 'P Awana', 'KMDN Kulasekara', 'A Ashish Reddy',\n",
       "       'BB Samantray', 'MJ Clarke', 'Gurkeerat Singh', 'AP Majumdar',\n",
       "       'PA Reddy', 'K Upadhyay', 'SP Narine', 'AD Russell', 'CA Lynn',\n",
       "       'Sunny Gupta', 'MC Juneja', 'KK Nair', 'GH Vihari', 'MDKJ Perera',\n",
       "       'B Laughlin', 'AS Rajpoot', 'M Vohra', 'JD Unadkat',\n",
       "       'Mohammed Shami', 'BMAJ Mendis', 'R Rampaul', 'CH Morris',\n",
       "       'SV Samson', 'SMSM Senanayake', 'BJ Rohrer', 'KL Rahul',\n",
       "       'Q de Kock', 'R Dhawan', 'MG Johnson', 'A Chandila', 'LJ Wright',\n",
       "       'CM Gautam', 'X Thalaivan Sargunam', 'DJG Sammy', 'A Mukund',\n",
       "       'KW Richardson', 'UA Birla', 'Parvez Rasool', 'Sandeep Sharma',\n",
       "       'S Kaul', 'Sachin Baby', 'PV Tambe', 'NM Coulter-Nile',\n",
       "       'MM Sharma', 'CJ Anderson', 'NJ Maddinson', 'AR Patel',\n",
       "       'JJ Bumrah', 'JDS Neesham', 'BW Hilfenhaus', 'TG Southee',\n",
       "       'MA Starc', 'YS Chahal', 'BR Dunk', 'RR Rossouw', 'R Shukla',\n",
       "       'LMP Simmons', 'VH Zol', 'BCJ Cutting', 'Imran Tahir',\n",
       "       'BE Hendricks', 'S Gopal', 'M de Lange', 'R Tewatia', 'JO Holder',\n",
       "       'Karanveer Singh', 'SS Iyer', 'DJ Muthuswami', 'DJ Hooda',\n",
       "       'Anureet Singh', 'KS Williamson', 'SA Abbott', 'J Suchith',\n",
       "       'RG More', 'HH Pandya', 'D Wiese', 'SN Khan', 'MJ McClenaghan',\n",
       "       'SN Thakur', 'JC Buttler', 'CR Brathwaite', 'MP Stoinis',\n",
       "       'Ishan Kishan', 'C Munro', 'P Sahu', 'KH Pandya', 'AD Nath',\n",
       "       'KJ Abbott', 'TM Head', 'NS Naik', 'RR Pant', 'SW Billings',\n",
       "       'KC Cariappa', 'S Kaushik', 'PSP Handscomb', 'Swapnil Singh',\n",
       "       'J Yadav', 'UT Khawaja', 'HM Amla', 'F Behardien', 'BB Sran',\n",
       "       'N Rana', 'MJ Guptill', 'ER Dwivedi', 'CJ Jordan', 'TS Mills',\n",
       "       'A Choudhary', 'BA Stokes', 'JJ Roy', 'Vishnu Vinod', 'PJ Cummins',\n",
       "       'Basil Thampi', 'CR Woakes', 'RA Tripathi', 'DL Chahar', 'A Zampa',\n",
       "       'V Shankar', 'Rashid Khan', 'LH Ferguson', 'RD Chahar',\n",
       "       'C de Grandhomme', 'AF Milne', 'S Badree', 'Mohammad Nabi',\n",
       "       'AJ Tye', 'K Rabada', 'Kuldeep Yadav', 'DM Bravo', 'AR Bawne',\n",
       "       'SP Jackson', 'Ankit Soni', 'Washington Sundar', 'TA Boult',\n",
       "       'E Lewis', 'MA Wood', 'RK Singh', 'DJM Short', 'K Gowtham',\n",
       "       'TK Curran', 'M Markande', 'B Stanlake', 'Mujeeb Ur Rahman',\n",
       "       'A Dananjaya', 'Shubman Gill', 'Shivam Mavi', 'Mohammed Siraj',\n",
       "       'H Klaasen', 'JC Archer', 'PP Shaw', 'LE Plunkett',\n",
       "       'Mustafizur Rahman', 'AD Hales', 'MK Lomror', 'DR Shorey',\n",
       "       'MM Ali', 'M Prasidh Krishna', 'P Chopra',\n",
       "       'JPR Scantlebury-Searles', 'Abhishek Sharma', 'IS Sodhi',\n",
       "       'SO Hetmyer', 'S Dube', 'Navdeep Saini', 'JM Bairstow', 'KMA Paul',\n",
       "       'Rasikh Salam', 'N Pooran', 'P Ray Barman', 'SM Curran',\n",
       "       'GC Viljoen', 'Avesh Khan', 'AS Joseph', 'HF Gurney', 'SD Lad',\n",
       "       'R Parag', 'LS Livingstone', 'RK Bhui', 'AJ Turner',\n",
       "       'Harpreet Brar', 'SE Rutherford', 'Y Prithvi Raj', 'M Ashwin',\n",
       "       'MJ Santner', 'P Simran Singh', 'JL Pattinson', 'T Banton',\n",
       "       'D Padikkal', 'YBK Jaiswal', 'TU Deshpande', 'A Nortje',\n",
       "       'Ravi Bishnoi', 'Abdul Samad', 'PK Garg', 'T Natarajan',\n",
       "       'JR Philippe', 'Kartik Tyagi', 'I Udana', 'KL Nagarkoti',\n",
       "       'Shahbaz Ahmed', 'RD Gaikwad', 'AT Carey', 'CV Varun',\n",
       "       'N Jagadeesan', 'P Dubey', 'SS Cottrell', 'M Jansen', 'RM Patidar',\n",
       "       'KA Jamieson', 'M Shahrukh Khan', 'JA Richardson', 'Lalit Yadav',\n",
       "       'RP Meredith', 'Virat Singh', 'KK Ahmed', 'C Sakariya', 'FA Allen',\n",
       "       'Arshdeep Singh', 'DR Sams', 'DJ Malan', 'KS Bharat', 'VR Iyer',\n",
       "       'GD Phillips', 'AK Markram', 'K Yadav', 'GHS Garton', 'T Shamsi',\n",
       "       'NT Ellis', 'RV Patel', 'TL Seifert', 'Anmolpreet Singh',\n",
       "       'Anuj Rawat', 'TH David', 'PWH de Silva', 'DP Conway',\n",
       "       'Tilak Varma', 'PBB Rajapaksa', 'OF Smith', 'A Badoni',\n",
       "       'PVD Chameera', 'A Manohar', 'R Shepherd', 'DJ Willey', 'RA Bawa',\n",
       "       'R Powell', 'JM Sharma', 'VG Arora', 'D Pretorius',\n",
       "       'Mukesh Choudhary', 'Umran Malik', 'D Brevis', 'B Sai Sudharsan',\n",
       "       'Ramandeep Singh', 'HE van der Dussen', 'SS Prabhudessai',\n",
       "       'JR Hazlewood', 'Aman Hakim Khan', 'HR Shokeen', 'DJ Mitchell',\n",
       "       'Shashank Singh', 'B Indrajith', 'Mohsin Khan', 'Simarjeet Singh',\n",
       "       'Fazalhaq Farooqi', 'K Kartikeya', 'KS Sharma', 'M Theekshana',\n",
       "       'T Stubbs', 'A Tomar', 'PN Mankad', 'OC McCoy', 'Sikandar Raza',\n",
       "       'Rahmanullah Gurbaz', 'KR Mayers', 'HC Brook', 'AU Rashid',\n",
       "       'C Green', 'N Wadhera', 'Arshad Khan', 'Abishek Porel',\n",
       "       'Dhruv Jurel', 'MG Bracewell', 'Akash Deep', 'Mukesh Kumar',\n",
       "       'MW Short', 'Mohit Rathee', 'YV Dhull', 'Liton Das', 'PD Salt',\n",
       "       'Atharva Taide', 'Abdul Basith', 'Arjun Tendulkar',\n",
       "       'JP Behrendorff', 'Vijaykumar Vyshak', 'AJ Hosein',\n",
       "       'Naveen-ul-Haq', 'AS Roy', 'Noor Ahmad', 'JE Root', 'MD Shanaka',\n",
       "       'Sanvir Singh', 'Vivrant Sharma', 'R Ravindra', 'SD Hope',\n",
       "       'Sumit Kumar', 'Azmatullah Omarzai', 'Naman Dhir', 'G Coetzee',\n",
       "       'SZ Mulani', 'Sameer Rizvi', 'SH Johnson', 'Akash Madhwal',\n",
       "       'SB Dubey', 'Mayank Dagar', 'RJW Topley', 'A Raghuvanshi',\n",
       "       'Ashutosh Sharma', 'Nithish Kumar Reddy', 'Saurav Chauhan',\n",
       "       'BR Sharath', 'DG Nalkande', 'WG Jacks', 'J Fraser-McGurk',\n",
       "       'Tanush Kotian', 'KA Maharaj', 'Arshad Khan (2)', 'R Sai Kishore',\n",
       "       'L Wood', 'Kumar Kushagra', 'LB Williams', 'AA Kulkarni',\n",
       "       'MJ Suthar', 'Yudhvir Singh', 'Gulbadin Naib', 'A Kamboj',\n",
       "       'T Kohler-Cadmore', 'D Ferreira', 'Shivam Singh', 'V Viyaskanth'],\n",
       "      dtype=object)"
      ]
     },
     "execution_count": 60,
     "metadata": {},
     "output_type": "execute_result"
    }
   ],
   "source": [
    "df['non_striker'].unique()"
   ]
  },
  {
   "cell_type": "code",
   "execution_count": 61,
   "id": "d1d67095-ef6d-407c-9d83-a883774d6ebe",
   "metadata": {},
   "outputs": [
    {
     "data": {
      "text/plain": [
       "663"
      ]
     },
     "execution_count": 61,
     "metadata": {},
     "output_type": "execute_result"
    }
   ],
   "source": [
    "df['non_striker'].nunique()"
   ]
  },
  {
   "cell_type": "markdown",
   "id": "ca6b8e27-6587-434d-96d2-302bd3e3347b",
   "metadata": {},
   "source": [
    "\n",
    "The `non_striker` column represents the name of the batter at the non-striker's end, which is essential for analyzing partnerships, runner statistics, and batter pair trends in cricket matches.\n",
    "\n",
    "- The unique values in this column represent the players who have been at the non-striker's end during matches.\n",
    "- There are a total of **663 unique non-strikers** recorded in this dataset.\n",
    "- Some notable players in this column include well-known cricketers such as `BB McCullum`, `SC Ganguly`, `RT Ponting`, `MS Dhoni`, `V Kohli`, and many others.\n",
    "  \n",
    "We will consider this column for further analysis."
   ]
  },
  {
   "cell_type": "markdown",
   "id": "9127664e-7153-4e3a-895e-50e4adf438c5",
   "metadata": {},
   "source": [
    "### 10. batsman_runs\n",
    "\n",
    "The `batsman_runs` column contains the number of runs scored off the bat for that delivery. This is the main metric for calculating strike rates, partnerships, and individual performance of a batter.\n"
   ]
  },
  {
   "cell_type": "code",
   "execution_count": 64,
   "id": "35680c75-a674-42bf-b6e5-b957a96f9f60",
   "metadata": {},
   "outputs": [
    {
     "data": {
      "text/plain": [
       "0         0\n",
       "1         0\n",
       "2         0\n",
       "3         0\n",
       "4         0\n",
       "         ..\n",
       "260915    1\n",
       "260916    1\n",
       "260917    1\n",
       "260918    1\n",
       "260919    1\n",
       "Name: batsman_runs, Length: 260920, dtype: int64"
      ]
     },
     "execution_count": 64,
     "metadata": {},
     "output_type": "execute_result"
    }
   ],
   "source": [
    "df['batsman_runs']"
   ]
  },
  {
   "cell_type": "code",
   "execution_count": 65,
   "id": "a70c35e2-6759-42aa-ad73-fb2f66925057",
   "metadata": {},
   "outputs": [
    {
     "data": {
      "text/plain": [
       "array([0, 4, 6, 1, 2, 5, 3], dtype=int64)"
      ]
     },
     "execution_count": 65,
     "metadata": {},
     "output_type": "execute_result"
    }
   ],
   "source": [
    "df['batsman_runs'].unique()"
   ]
  },
  {
   "cell_type": "code",
   "execution_count": 66,
   "id": "d659d8f1-fd16-45ed-bc87-afa7a9379e20",
   "metadata": {},
   "outputs": [
    {
     "data": {
      "text/plain": [
       "7"
      ]
     },
     "execution_count": 66,
     "metadata": {},
     "output_type": "execute_result"
    }
   ],
   "source": [
    "df['batsman_runs'].nunique()"
   ]
  },
  {
   "cell_type": "markdown",
   "id": "0496c280-0d4c-4ab6-94d3-bbd5d240510a",
   "metadata": {},
   "source": [
    "\n",
    "- **Unique Values:** `[0, 4, 6, 1, 2, 5, 3]`\n",
    "- **Total Unique Run Types:** `7`\n",
    "\n",
    "These values reflect all possible run outcomes off the bat, including boundaries and odd run instances like 5s, helping in detailed performance analysis.\n",
    "\n",
    "We will consider this column for further analysis.\n"
   ]
  },
  {
   "cell_type": "markdown",
   "id": "ac23e50c-3963-43e4-9061-2f7683bdd4f0",
   "metadata": {},
   "source": [
    "### 11. extra_runs\n",
    "\n",
    "This column indicates the number of runs awarded as extras (wides, no-balls, etc.). Analyzing extra runs helps in evaluating bowling discipline and its impact on total score.\n"
   ]
  },
  {
   "cell_type": "code",
   "execution_count": 69,
   "id": "260f0026-96de-4459-88cb-bda776114f36",
   "metadata": {},
   "outputs": [
    {
     "data": {
      "text/plain": [
       "0         1\n",
       "1         0\n",
       "2         1\n",
       "3         0\n",
       "4         0\n",
       "         ..\n",
       "260915    0\n",
       "260916    0\n",
       "260917    0\n",
       "260918    0\n",
       "260919    0\n",
       "Name: extra_runs, Length: 260920, dtype: int64"
      ]
     },
     "execution_count": 69,
     "metadata": {},
     "output_type": "execute_result"
    }
   ],
   "source": [
    "df['extra_runs']"
   ]
  },
  {
   "cell_type": "code",
   "execution_count": 70,
   "id": "080fa14a-6582-43a7-82cf-c4a5781fd6d9",
   "metadata": {},
   "outputs": [
    {
     "data": {
      "text/plain": [
       "array([1, 0, 5, 4, 2, 3, 7], dtype=int64)"
      ]
     },
     "execution_count": 70,
     "metadata": {},
     "output_type": "execute_result"
    }
   ],
   "source": [
    "df['extra_runs'].unique()"
   ]
  },
  {
   "cell_type": "code",
   "execution_count": 71,
   "id": "2fb6dbfe-855a-4fba-a09a-adfeb891ef76",
   "metadata": {},
   "outputs": [
    {
     "data": {
      "text/plain": [
       "7"
      ]
     },
     "execution_count": 71,
     "metadata": {},
     "output_type": "execute_result"
    }
   ],
   "source": [
    "df['extra_runs'].nunique()"
   ]
  },
  {
   "cell_type": "markdown",
   "id": "f1aca9ed-cb00-4e5d-9f79-a10d42a1a7d0",
   "metadata": {},
   "source": [
    "\n",
    "\n",
    "The output `df['extra_runs'].nunique()` returns **7**, which means there are **7 unique values** in the `extra_runs` column. These values represent the number of runs awarded as extras in a delivery, and they range from 0 to 7. The presence of extras like wides, no-balls, and byes can significantly impact the total score, especially in closely contested matches. Monitoring and minimizing extra runs is crucial for maintaining bowling discipline and improving team performance.\n",
    "\n",
    "We will consider this column for further analysis."
   ]
  },
  {
   "cell_type": "markdown",
   "id": "7af0947c-5eac-4ac7-9929-331390a8d7f2",
   "metadata": {},
   "source": [
    "###  12. total_runs\n",
    "\n",
    "The `total_runs` column is the sum of batsman runs and extra runs. It reflects the total score update for that delivery and is key for innings-level, match-level, and over-wise run analysis.\n"
   ]
  },
  {
   "cell_type": "code",
   "execution_count": 74,
   "id": "1cc219ab-d3e8-46c6-b5b4-9f7dc0fe581f",
   "metadata": {},
   "outputs": [
    {
     "data": {
      "text/plain": [
       "0         1\n",
       "1         0\n",
       "2         1\n",
       "3         0\n",
       "4         0\n",
       "         ..\n",
       "260915    1\n",
       "260916    1\n",
       "260917    1\n",
       "260918    1\n",
       "260919    1\n",
       "Name: total_runs, Length: 260920, dtype: int64"
      ]
     },
     "execution_count": 74,
     "metadata": {},
     "output_type": "execute_result"
    }
   ],
   "source": [
    "df['total_runs']"
   ]
  },
  {
   "cell_type": "code",
   "execution_count": 75,
   "id": "6224a6f8-56db-4612-af2f-bca169ef0efc",
   "metadata": {},
   "outputs": [
    {
     "data": {
      "text/plain": [
       "array([1, 0, 4, 6, 5, 2, 3, 7], dtype=int64)"
      ]
     },
     "execution_count": 75,
     "metadata": {},
     "output_type": "execute_result"
    }
   ],
   "source": [
    "df['total_runs'].unique()"
   ]
  },
  {
   "cell_type": "code",
   "execution_count": 76,
   "id": "ef91b840-a691-4418-a9a3-f3b940b20c1c",
   "metadata": {},
   "outputs": [
    {
     "data": {
      "text/plain": [
       "8"
      ]
     },
     "execution_count": 76,
     "metadata": {},
     "output_type": "execute_result"
    }
   ],
   "source": [
    "df['total_runs'].nunique()"
   ]
  },
  {
   "cell_type": "markdown",
   "id": "f6b690ab-a249-417c-83b8-8e642a0d292f",
   "metadata": {},
   "source": [
    "\n",
    "\n",
    "The output `df['total_runs'].nunique()` returns **8**, indicating there are **8 unique values** in the `total_runs` column. This column represents the **complete run contribution** for each delivery, including both the batsman’s runs and any extras. The values range from 0 to 7, showing the variety of scoring outcomes per ball. Analyzing `total_runs` is essential for understanding how runs accumulate during an innings, assessing player contributions, and evaluating over-by-over or match-level scoring patterns.\n",
    "\n",
    "We will consider this column for further analysis."
   ]
  },
  {
   "cell_type": "markdown",
   "id": "d2b23e3c-745d-4c10-8ba2-ca678ed8446a",
   "metadata": {},
   "source": [
    "### 13.  extras_type\n",
    "\n",
    "This column details the type of extra (like wide, no-ball, bye, etc.). It is useful to assess what kind of extras bowlers are conceding and which teams are more prone to giving away free runs.\n"
   ]
  },
  {
   "cell_type": "code",
   "execution_count": 79,
   "id": "1f6d4f98-3138-4005-b7e6-d4388c8379b3",
   "metadata": {},
   "outputs": [
    {
     "data": {
      "text/plain": [
       "0         legbyes\n",
       "1             NaN\n",
       "2           wides\n",
       "3             NaN\n",
       "4             NaN\n",
       "           ...   \n",
       "260915        NaN\n",
       "260916        NaN\n",
       "260917        NaN\n",
       "260918        NaN\n",
       "260919        NaN\n",
       "Name: extras_type, Length: 260920, dtype: object"
      ]
     },
     "execution_count": 79,
     "metadata": {},
     "output_type": "execute_result"
    }
   ],
   "source": [
    "df['extras_type']"
   ]
  },
  {
   "cell_type": "code",
   "execution_count": 80,
   "id": "0060bbcb-9f17-4c0e-94d5-e74926082ff1",
   "metadata": {},
   "outputs": [
    {
     "data": {
      "text/plain": [
       "array(['legbyes', nan, 'wides', 'byes', 'noballs', 'penalty'],\n",
       "      dtype=object)"
      ]
     },
     "execution_count": 80,
     "metadata": {},
     "output_type": "execute_result"
    }
   ],
   "source": [
    "df['extras_type'].unique()"
   ]
  },
  {
   "cell_type": "code",
   "execution_count": 81,
   "id": "a7423946-3b43-44ed-a874-2ee1aa7a87ee",
   "metadata": {},
   "outputs": [
    {
     "data": {
      "text/plain": [
       "5"
      ]
     },
     "execution_count": 81,
     "metadata": {},
     "output_type": "execute_result"
    }
   ],
   "source": [
    "df['extras_type'].nunique()"
   ]
  },
  {
   "cell_type": "markdown",
   "id": "d13c72b7-4671-4d0d-84e1-e6d963a2a582",
   "metadata": {},
   "source": [
    "\n",
    "The output `df['extras_type'].nunique()` returns **5**, indicating that there are **5 distinct types of extras** recorded in the dataset (excluding `NaN` values where no extra was recorded). Understanding the variety and frequency of these extras helps evaluate bowling discipline and team performance in terms of conceding free runs.\n",
    "\n",
    "Here’s what each extras type means:\n",
    "\n",
    "- **legbyes**: Runs taken while the ball hits the batsman's body or pads (not the bat), and no attempt is made to hit the ball.\n",
    "- **wides**: A delivery bowled too far from the batsman to hit, resulting in an extra run and an additional ball in the over.\n",
    "- **byes**: Runs scored when the batsman misses the ball completely and the ball eludes the wicketkeeper.\n",
    "- **noballs**: An illegal delivery (e.g., overstepping the crease), awarding an extra run and a free hit in limited-overs formats.\n",
    "- **penalty**: Rare extras awarded by the umpire for serious rule violations (e.g., ball tampering or time wasting).\n",
    "\n",
    "These categories help in pinpointing not just how many extras are given, but also **what kinds**—which is critical for performance improvement and strategy refinement.\n",
    "\n",
    "We consider this column for further analysis."
   ]
  },
  {
   "cell_type": "markdown",
   "id": "87f0c384-ddc0-41b0-af4c-ff8fe92bbdd4",
   "metadata": {},
   "source": [
    "### 14. is_wicket\n",
    "\n",
    "This column shows whether a wicket fell on the delivery (1 for yes, 0 for no). It's useful for calculating dismissal patterns, average balls per wicket, and bowler effectiveness.\n"
   ]
  },
  {
   "cell_type": "code",
   "execution_count": 84,
   "id": "15dd37c3-1a87-4849-ac60-65c1564d756c",
   "metadata": {},
   "outputs": [
    {
     "data": {
      "text/plain": [
       "0         0\n",
       "1         0\n",
       "2         0\n",
       "3         0\n",
       "4         0\n",
       "         ..\n",
       "260915    0\n",
       "260916    0\n",
       "260917    0\n",
       "260918    0\n",
       "260919    0\n",
       "Name: is_wicket, Length: 260920, dtype: int64"
      ]
     },
     "execution_count": 84,
     "metadata": {},
     "output_type": "execute_result"
    }
   ],
   "source": [
    "df['is_wicket']"
   ]
  },
  {
   "cell_type": "code",
   "execution_count": 85,
   "id": "01ac1358-eb1d-40c0-afd0-f0f7f2e1928f",
   "metadata": {},
   "outputs": [
    {
     "data": {
      "text/plain": [
       "array([0, 1], dtype=int64)"
      ]
     },
     "execution_count": 85,
     "metadata": {},
     "output_type": "execute_result"
    }
   ],
   "source": [
    "df['is_wicket'].unique()"
   ]
  },
  {
   "cell_type": "code",
   "execution_count": 86,
   "id": "5f898f58-c60b-47d1-8bf2-046200ef0707",
   "metadata": {},
   "outputs": [
    {
     "data": {
      "text/plain": [
       "2"
      ]
     },
     "execution_count": 86,
     "metadata": {},
     "output_type": "execute_result"
    }
   ],
   "source": [
    "df['is_wicket'].nunique()"
   ]
  },
  {
   "cell_type": "markdown",
   "id": "3d7c4b10-8e2c-43cc-b69b-8e32ff6e51b9",
   "metadata": {},
   "source": [
    "\n",
    "\n",
    "The output `df['is_wicket'].nunique()` returns **2**, indicating that there are **2 unique values** in the `is_wicket` column: **0** and **1**. \n",
    "\n",
    "- **1** signifies that a wicket fell on that delivery.\n",
    "- **0** means no wicket fell.\n",
    "\n",
    "This binary column is crucial for analyzing bowler effectiveness, calculating **balls per wicket**, and understanding **wicket-taking patterns** across the innings. By assessing the frequency of wickets, we can evaluate a bowler's impact on the game, and also examine team strategies that may influence wicket-taking opportunities.\n",
    "\n",
    "We consider this column for further analysis."
   ]
  },
  {
   "cell_type": "markdown",
   "id": "791e1cb3-d9c8-4e58-9d44-24e34a64dfb3",
   "metadata": {},
   "source": [
    "### 15. player_dismissed\n",
    "\n",
    "This column contains the name of the batter who got out (if any) on the delivery. It is used for player-wise wicket analysis and to understand which players are most frequently dismissed.\n"
   ]
  },
  {
   "cell_type": "code",
   "execution_count": 89,
   "id": "2230ea5c-8afc-4ed8-8b04-23079f85cf2f",
   "metadata": {},
   "outputs": [
    {
     "data": {
      "text/plain": [
       "0         NaN\n",
       "1         NaN\n",
       "2         NaN\n",
       "3         NaN\n",
       "4         NaN\n",
       "         ... \n",
       "260915    NaN\n",
       "260916    NaN\n",
       "260917    NaN\n",
       "260918    NaN\n",
       "260919    NaN\n",
       "Name: player_dismissed, Length: 260920, dtype: object"
      ]
     },
     "execution_count": 89,
     "metadata": {},
     "output_type": "execute_result"
    }
   ],
   "source": [
    "df['player_dismissed']"
   ]
  },
  {
   "cell_type": "code",
   "execution_count": 90,
   "id": "a4734b69-7004-4896-b0a9-e028d3c14764",
   "metadata": {},
   "outputs": [
    {
     "data": {
      "text/plain": [
       "array([nan, 'SC Ganguly', 'RT Ponting', 'DJ Hussey', 'R Dravid',\n",
       "       'V Kohli', 'JH Kallis', 'W Jaffer', 'MV Boucher', 'B Akhil',\n",
       "       'CL White', 'AA Noffke', 'Z Khan', 'SB Joshi', 'PA Patel',\n",
       "       'ML Hayden', 'MS Dhoni', 'SK Raina', 'JDP Oram', 'K Goel',\n",
       "       'JR Hopes', 'Yuvraj Singh', 'KC Sangakkara', 'T Kohli',\n",
       "       'YK Pathan', 'SR Watson', 'DS Lehmann', 'M Kaif', 'M Rawat',\n",
       "       'RA Jadeja', 'SK Warne', 'V Sehwag', 'L Ronchi', 'DJ Thornely',\n",
       "       'ST Jayasuriya', 'PR Shah', 'RV Uthappa', 'AM Nayar', 'SM Pollock',\n",
       "       'S Chanderpaul', 'LRPL Taylor', 'Y Venugopal Rao', 'VVS Laxman',\n",
       "       'AC Gilchrist', 'RG Sharma', 'SB Styris', 'AS Yadav', 'A Symonds',\n",
       "       'WPUJC Vaas', 'SB Bangar', 'PP Ojha', 'BB McCullum', 'WP Saha',\n",
       "       'Mohammad Hafeez', 'DPMD Jayawardene', 'IK Pathan', 'B Lee',\n",
       "       'S Sohal', 'Kamran Akmal', 'Shahid Afridi', 'G Gambhir',\n",
       "       'MEK Hussey', 'DJ Bravo', 'MA Khote', 'Harbhajan Singh',\n",
       "       'GC Smith', 'D Salunkhe', 'RR Sarwan', 'PP Chawla', 'S Sreesanth',\n",
       "       'VRV Singh', 'SS Tiwary', 'P Kumar', 'AB Agarkar', 'M Kartik',\n",
       "       'LR Shukla', 'AM Rahane', 'S Dhawan', 'Shoaib Malik', 'KD Karthik',\n",
       "       'R Bhatia', 'MK Tiwary', 'MF Maharoof', 'SM Katich',\n",
       "       'TM Srivastava', 'B Chipli', 'DW Steyn', 'DB Das', 'MK Pandey',\n",
       "       'HH Gibbs', 'DNT Zoysa', 'D Kalyankrishna', 'SA Asnodkar',\n",
       "       'Salman Butt', 'BJ Hodge', 'Umar Gul', 'AB Dinda', 'SP Fleming',\n",
       "       'S Vidyut', 'JA Morkel', 'LPC Silva', 'DB Ravi Teja', 'RP Singh',\n",
       "       'Misbah-ul-Haq', 'SE Marsh', 'YV Takawale', 'AB de Villiers',\n",
       "       'PJ Sangwan', 'Mohammad Asif', 'GD McGrath', 'S Badrinath',\n",
       "       'Joginder Sharma', 'M Muralitharan', 'M Ntini', 'DT Patil',\n",
       "       'A Kumble', 'S Anirudha', 'Sohail Tanvir', 'SK Trivedi',\n",
       "       'CK Kapugedera', 'A Chopra', 'T Taibu', 'J Arunkumar',\n",
       "       'SP Goswami', 'R Vinay Kumar', 'A Mishra', 'AD Mascarenhas',\n",
       "       'TM Dilshan', 'VY Mahesh', 'SR Tendulkar', 'Younis Khan',\n",
       "       'NK Patel', 'I Sharma', 'Shoaib Akhtar', 'H Das', 'DR Smith',\n",
       "       'SD Chitnis', 'A Nehra', 'VS Yeligati', 'MS Gony', 'L Balaji',\n",
       "       'LA Pomersbach', 'A Nel', 'A Mukund', 'WA Mota', 'JP Duminy',\n",
       "       'A Flintoff', 'JD Ryder', 'KP Pietersen', 'T Henderson',\n",
       "       'MM Patel', 'Kamran Khan', 'RS Bopara', 'CH Gayle', 'MC Henriques',\n",
       "       'R Bishnoi', 'KV Sharma', 'PC Valthaty', 'RJ Quiney',\n",
       "       'Yashpal Singh', 'Pankaj Singh', 'FH Edwards', 'AS Raut',\n",
       "       'AN Ghosh', 'BAW Mendis', 'DL Vettori', 'RE van der Merwe',\n",
       "       'RR Powar', 'AA Bilakhia', 'TL Suman', 'Shoaib Ahmed', 'GR Napier',\n",
       "       'MN van Wyk', 'NV Ojha', 'LA Carseldine', 'M Vijay', 'SB Jakati',\n",
       "       'DA Warner', 'M Manhas', 'RJ Harris', 'D du Preez', 'RR Raje',\n",
       "       'DS Kulkarni', 'M Morkel', 'AD Mathews', 'S Tyagi', 'C Nanda',\n",
       "       'SL Malinga', 'J Botha', 'A Singh', 'GJ Bailey', 'AB McDonald',\n",
       "       'Y Nagar', 'SS Shaikh', 'R Ashwin', 'T Thushara',\n",
       "       'Mohammad Ashraful', 'CA Pujara', 'Anirudh Singh', 'AP Tare',\n",
       "       'AT Rayudu', 'R Sathish', 'AA Jhunjhunwala', 'P Dogra', 'A Uniyal',\n",
       "       'MS Bisla', 'EJG Morgan', 'JM Kemp', 'OA Shah', 'RS Gavaskar',\n",
       "       'SE Bond', 'KA Pollard', 'DP Nannes', 'MJ Lumb', 'DR Martyn',\n",
       "       'S Narwal', 'AB Barath', 'FY Fazal', 'MD Mishra', 'S Ladda',\n",
       "       'J Theron', 'SJ Srivastava', 'R Sharma', 'Mandeep Singh',\n",
       "       'AC Voges', 'Jaskaran Singh', 'KAJ Roach', 'PD Collingwood',\n",
       "       'CK Langeveldt', 'VS Malik', 'KM Jadhav', 'SW Tait', 'A Mithun',\n",
       "       'AP Dole', 'Harmeet Singh', 'R McLaren', 'S Sriram', 'KP Appanna',\n",
       "       'C Madan', 'AG Paunikar', 'MR Marsh', 'AJ Finch', 'STR Binny',\n",
       "       'B Sumanth', 'IR Jaggi', 'DT Christian', 'RV Gomez', 'MA Agarwal',\n",
       "       'UBT Chand', 'UT Yadav', 'DJ Jacobs', 'Sunny Singh', 'AL Menaria',\n",
       "       'AUK Pathan', 'WD Parnell', 'JJ van der Wath', 'R Ninan',\n",
       "       'MS Wade', 'TD Paine', 'SB Wagh', 'JEC Franklin',\n",
       "       'Shakib Al Hasan', 'S Randiv', 'BJ Haddin', 'NLTC Perera',\n",
       "       'JE Taylor', 'NL McCullum', 'RN ten Doeschate', 'TR Birt',\n",
       "       'M Klinger', 'Harpreet Singh', 'Bipul Sharma', 'AC Blizzard',\n",
       "       'CA Ingram', 'S Nadeem', 'DH Yagnik', 'KB Arun Karthik',\n",
       "       'AA Chavan', 'ND Doshi', 'CJ Ferguson', 'Y Gnaneswara Rao',\n",
       "       'S Rana', 'BA Bhatt', 'F du Plessis', 'DE Bollinger', 'RE Levi',\n",
       "       'MN Samuels', 'B Kumar', 'SPD Smith', 'SA Yadav', 'HV Patel',\n",
       "       'GJ Maxwell', 'DJ Harris', 'Ankit Sharma', 'SP Narine',\n",
       "       'JP Faulkner', 'KK Cooper', 'GB Hogg', 'RR Bhatkal', 'CJ McKay',\n",
       "       'N Saini', 'DA Miller', 'P Negi', 'Azhar Mahmood', 'AC Thomas',\n",
       "       'RJ Peterson', 'A Ashish Reddy', 'V Pratap Singh', 'MJ Clarke',\n",
       "       'Gurkeerat Singh', 'VR Aaron', 'AP Majumdar', 'PA Reddy',\n",
       "       'AD Russell', 'CA Lynn', 'Sunny Gupta', 'MC Juneja', 'KK Nair',\n",
       "       'GH Vihari', 'MDKJ Perera', 'B Laughlin', 'Mohammed Shami',\n",
       "       'BMAJ Mendis', 'M Vohra', 'R Rampaul', 'P Awana',\n",
       "       'SMSM Senanayake', 'BJ Rohrer', 'KL Rahul', 'J Syed Mohammad',\n",
       "       'Q de Kock', 'BB Samantray', 'R Dhawan', 'MG Johnson', 'LJ Wright',\n",
       "       'AG Murtaza', 'IC Pandey', 'X Thalaivan Sargunam', 'DJG Sammy',\n",
       "       'SV Samson', 'KW Richardson', 'CH Morris', 'MM Sharma',\n",
       "       'CM Gautam', 'UA Birla', 'Parvez Rasool', 'Sachin Baby',\n",
       "       'NM Coulter-Nile', 'CJ Anderson', 'NJ Maddinson', 'AR Patel',\n",
       "       'JDS Neesham', 'TG Southee', 'PV Tambe', 'MA Starc', 'BR Dunk',\n",
       "       'RR Rossouw', 'Shivam Sharma', 'LMP Simmons', 'VH Zol',\n",
       "       'BCJ Cutting', 'Imran Tahir', 'R Shukla', 'BE Hendricks',\n",
       "       'M de Lange', 'S Gopal', 'R Tewatia', 'JO Holder', 'JD Unadkat',\n",
       "       'SS Iyer', 'DJ Hooda', 'SA Abbott', 'AN Ahmed', 'KS Williamson',\n",
       "       'Iqbal Abdulla', 'SN Khan', 'D Wiese', 'HH Pandya',\n",
       "       'MJ McClenaghan', 'Anureet Singh', 'DJ Muthuswami', 'PJ Cummins',\n",
       "       'Karanveer Singh', 'Sandeep Sharma', 'J Suchith', 'JC Buttler',\n",
       "       'CR Brathwaite', 'MP Stoinis', 'Ishan Kishan', 'C Munro',\n",
       "       'AD Nath', 'MJ Guptill', 'P Sahu', 'TM Head', 'M Ashwin',\n",
       "       'KH Pandya', 'NS Naik', 'RR Pant', 'SW Billings', 'KC Cariappa',\n",
       "       'PSP Handscomb', 'Swapnil Singh', 'J Yadav', 'UT Khawaja',\n",
       "       'HM Amla', 'JJ Bumrah', 'A Zampa', 'N Rana', 'S Kaushik',\n",
       "       'F Behardien', 'KJ Abbott', 'ER Dwivedi', 'CJ Jordan', 'S Aravind',\n",
       "       'TS Mills', 'YS Chahal', 'BA Stokes', 'JJ Roy', 'Vishnu Vinod',\n",
       "       'CR Woakes', 'RA Tripathi', 'DL Chahar', 'V Shankar',\n",
       "       'Rashid Khan', 'SN Thakur', 'C de Grandhomme', 'S Badree',\n",
       "       'AF Milne', 'Mohammad Nabi', 'K Rabada', 'AJ Tye', 'Kuldeep Yadav',\n",
       "       'SP Jackson', 'Ankit Soni', 'A Choudhary', 'AS Rajpoot',\n",
       "       'Washington Sundar', 'E Lewis', 'MA Wood', 'RK Singh', 'DJM Short',\n",
       "       'K Gowtham', 'S Kaul', 'Mujeeb Ur Rahman', 'Shubman Gill',\n",
       "       'Shivam Mavi', 'TK Curran', 'TA Boult', 'H Klaasen', 'RK Bhui',\n",
       "       'JC Archer', 'PP Shaw', 'LE Plunkett', 'Basil Thampi',\n",
       "       'M Markande', 'Mustafizur Rahman', 'BB Sran', 'AD Hales',\n",
       "       'MK Lomror', 'Mohammed Siraj', 'DR Shorey', 'MM Ali', 'P Chopra',\n",
       "       'IS Sodhi', 'Abhishek Sharma', 'JPR Scantlebury-Searles',\n",
       "       'SO Hetmyer', 'S Dube', 'Navdeep Saini', 'JM Bairstow', 'KMA Paul',\n",
       "       'N Pooran', 'P Ray Barman', 'SM Curran', 'GC Viljoen',\n",
       "       'S Lamichhane', 'RD Chahar', 'M Prasidh Krishna', 'SD Lad',\n",
       "       'R Parag', 'JL Denly', 'LS Livingstone', 'KK Ahmed', 'AJ Turner',\n",
       "       'SE Rutherford', 'MJ Santner', 'P Simran Singh', 'JL Pattinson',\n",
       "       'T Banton', 'D Padikkal', 'YBK Jaiswal', 'RD Gaikwad',\n",
       "       'TU Deshpande', 'Abdul Samad', 'PK Garg', 'JR Philippe',\n",
       "       'KL Nagarkoti', 'CV Varun', 'I Udana', 'Ravi Bishnoi', 'AT Carey',\n",
       "       'N Jagadeesan', 'A Nortje', 'Kartik Tyagi', 'SS Cottrell',\n",
       "       'Arshdeep Singh', 'DR Sams', 'M Jansen', 'RM Patidar',\n",
       "       'Shahbaz Ahmed', 'KA Jamieson', 'JA Richardson', 'Lalit Yadav',\n",
       "       'M Shahrukh Khan', 'Virat Singh', 'FA Allen', 'C Sakariya',\n",
       "       'DJ Malan', 'KS Bharat', 'PWH de Silva', 'GHS Garton',\n",
       "       'AK Markram', 'Avesh Khan', 'VR Iyer', 'GD Phillips', 'TL Seifert',\n",
       "       'Anmolpreet Singh', 'Anuj Rawat', 'NT Ellis', 'RV Patel',\n",
       "       'TH David', 'DP Conway', 'Tilak Varma', 'R Powell',\n",
       "       'PBB Rajapaksa', 'RA Bawa', 'A Badoni', 'R Shepherd', 'DJ Willey',\n",
       "       'D Pretorius', 'Harpreet Brar', 'A Manohar', 'JM Sharma',\n",
       "       'OF Smith', 'D Brevis', 'VG Arora', 'B Sai Sudharsan',\n",
       "       'Ramandeep Singh', 'Rasikh Salam', 'HE van der Dussen',\n",
       "       'PVD Chameera', 'SS Prabhudessai', 'Akash Deep', 'Aman Hakim Khan',\n",
       "       'AS Joseph', 'HR Shokeen', 'LH Ferguson', 'Yash Dayal',\n",
       "       'DJ Mitchell', 'B Indrajith', 'Shashank Singh', 'AS Roy',\n",
       "       'Harshit Rana', 'Umran Malik', 'K Kartikeya', 'KS Sharma',\n",
       "       'Mohsin Khan', 'Simarjeet Singh', 'M Theekshana',\n",
       "       'Mukesh Choudhary', 'T Stubbs', 'R Sanjay Yadav', 'A Tomar',\n",
       "       'OC McCoy', 'Sikandar Raza', 'Rahmanullah Gurbaz', 'KR Mayers',\n",
       "       'HC Brook', 'AU Rashid', 'C Green', 'N Wadhera', 'Abishek Porel',\n",
       "       'MG Bracewell', 'Arshad Khan', 'MW Short', 'YV Dhull',\n",
       "       'Dhruv Jurel', 'Yudhvir Singh', 'Atharva Taide', 'Liton Das',\n",
       "       'PD Salt', 'Vijaykumar Vyshak', 'Arjun Tendulkar', 'Naveen-ul-Haq',\n",
       "       'Noor Ahmad', 'P Dubey', 'JE Root', 'KM Asif', 'Sanvir Singh',\n",
       "       'PN Mankad', 'Vivrant Sharma', 'MD Shanaka', 'DG Nalkande',\n",
       "       'R Ravindra', 'SD Hope', 'Sumit Kumar', 'Azmatullah Omarzai',\n",
       "       'Naman Dhir', 'G Coetzee', 'Sameer Rizvi', 'Mayank Dagar',\n",
       "       'A Raghuvanshi', 'Ashutosh Sharma', 'Saurav Chauhan',\n",
       "       'Kumar Kushagra', 'BR Sharath', 'Nithish Kumar Reddy', 'WG Jacks',\n",
       "       'J Fraser-McGurk', 'Tanush Kotian', 'KA Maharaj',\n",
       "       'Arshad Khan (2)', 'R Sai Kishore', 'AA Kulkarni', 'MJ Suthar',\n",
       "       'Gulbadin Naib', 'SB Dubey', 'D Ferreira', 'Mukesh Kumar',\n",
       "       'T Kohler-Cadmore'], dtype=object)"
      ]
     },
     "execution_count": 90,
     "metadata": {},
     "output_type": "execute_result"
    }
   ],
   "source": [
    "df['player_dismissed'].unique()"
   ]
  },
  {
   "cell_type": "code",
   "execution_count": 91,
   "id": "d400a678-ff7b-414a-9ff5-7bcff5d0577a",
   "metadata": {},
   "outputs": [
    {
     "data": {
      "text/plain": [
       "629"
      ]
     },
     "execution_count": 91,
     "metadata": {},
     "output_type": "execute_result"
    }
   ],
   "source": [
    "df['player_dismissed'].nunique()"
   ]
  },
  {
   "cell_type": "markdown",
   "id": "bfa0714c-7644-4556-8b79-39b4432d5b1e",
   "metadata": {},
   "source": [
    "\n",
    "\n",
    "The output `df['player_dismissed'].nunique()` returns **629**, indicating that a total of **629 unique players** have been dismissed across the dataset. This column provides valuable insights into **player-wise dismissal patterns**, allowing us to analyze which players have been most frequently dismissed and understand the types of wickets they are getting out on.\n",
    "\n",
    "By examining the players' names, we can assess the impact of specific batsmen on the match and evaluate the consistency or vulnerability of players facing different bowlers or conditions. This information is helpful for team strategies and for tracking player performance across various matches.\n"
   ]
  },
  {
   "cell_type": "code",
   "execution_count": 93,
   "id": "3b1d15f7-36fa-40b2-aa21-a631bfffe0dc",
   "metadata": {},
   "outputs": [
    {
     "data": {
      "text/html": [
       "<div>\n",
       "<style scoped>\n",
       "    .dataframe tbody tr th:only-of-type {\n",
       "        vertical-align: middle;\n",
       "    }\n",
       "\n",
       "    .dataframe tbody tr th {\n",
       "        vertical-align: top;\n",
       "    }\n",
       "\n",
       "    .dataframe thead th {\n",
       "        text-align: right;\n",
       "    }\n",
       "</style>\n",
       "<table border=\"1\" class=\"dataframe\">\n",
       "  <thead>\n",
       "    <tr style=\"text-align: right;\">\n",
       "      <th></th>\n",
       "      <th>match_id</th>\n",
       "      <th>inning</th>\n",
       "      <th>batting_team</th>\n",
       "      <th>bowling_team</th>\n",
       "      <th>over</th>\n",
       "      <th>ball</th>\n",
       "      <th>batter</th>\n",
       "      <th>bowler</th>\n",
       "      <th>non_striker</th>\n",
       "      <th>batsman_runs</th>\n",
       "      <th>extra_runs</th>\n",
       "      <th>total_runs</th>\n",
       "      <th>extras_type</th>\n",
       "      <th>is_wicket</th>\n",
       "      <th>player_dismissed</th>\n",
       "      <th>dismissal_kind</th>\n",
       "      <th>fielder</th>\n",
       "    </tr>\n",
       "  </thead>\n",
       "  <tbody>\n",
       "    <tr>\n",
       "      <th>0</th>\n",
       "      <td>False</td>\n",
       "      <td>False</td>\n",
       "      <td>False</td>\n",
       "      <td>False</td>\n",
       "      <td>False</td>\n",
       "      <td>False</td>\n",
       "      <td>False</td>\n",
       "      <td>False</td>\n",
       "      <td>False</td>\n",
       "      <td>False</td>\n",
       "      <td>False</td>\n",
       "      <td>False</td>\n",
       "      <td>False</td>\n",
       "      <td>False</td>\n",
       "      <td>True</td>\n",
       "      <td>True</td>\n",
       "      <td>True</td>\n",
       "    </tr>\n",
       "    <tr>\n",
       "      <th>1</th>\n",
       "      <td>False</td>\n",
       "      <td>False</td>\n",
       "      <td>False</td>\n",
       "      <td>False</td>\n",
       "      <td>False</td>\n",
       "      <td>False</td>\n",
       "      <td>False</td>\n",
       "      <td>False</td>\n",
       "      <td>False</td>\n",
       "      <td>False</td>\n",
       "      <td>False</td>\n",
       "      <td>False</td>\n",
       "      <td>True</td>\n",
       "      <td>False</td>\n",
       "      <td>True</td>\n",
       "      <td>True</td>\n",
       "      <td>True</td>\n",
       "    </tr>\n",
       "    <tr>\n",
       "      <th>2</th>\n",
       "      <td>False</td>\n",
       "      <td>False</td>\n",
       "      <td>False</td>\n",
       "      <td>False</td>\n",
       "      <td>False</td>\n",
       "      <td>False</td>\n",
       "      <td>False</td>\n",
       "      <td>False</td>\n",
       "      <td>False</td>\n",
       "      <td>False</td>\n",
       "      <td>False</td>\n",
       "      <td>False</td>\n",
       "      <td>False</td>\n",
       "      <td>False</td>\n",
       "      <td>True</td>\n",
       "      <td>True</td>\n",
       "      <td>True</td>\n",
       "    </tr>\n",
       "    <tr>\n",
       "      <th>3</th>\n",
       "      <td>False</td>\n",
       "      <td>False</td>\n",
       "      <td>False</td>\n",
       "      <td>False</td>\n",
       "      <td>False</td>\n",
       "      <td>False</td>\n",
       "      <td>False</td>\n",
       "      <td>False</td>\n",
       "      <td>False</td>\n",
       "      <td>False</td>\n",
       "      <td>False</td>\n",
       "      <td>False</td>\n",
       "      <td>True</td>\n",
       "      <td>False</td>\n",
       "      <td>True</td>\n",
       "      <td>True</td>\n",
       "      <td>True</td>\n",
       "    </tr>\n",
       "    <tr>\n",
       "      <th>4</th>\n",
       "      <td>False</td>\n",
       "      <td>False</td>\n",
       "      <td>False</td>\n",
       "      <td>False</td>\n",
       "      <td>False</td>\n",
       "      <td>False</td>\n",
       "      <td>False</td>\n",
       "      <td>False</td>\n",
       "      <td>False</td>\n",
       "      <td>False</td>\n",
       "      <td>False</td>\n",
       "      <td>False</td>\n",
       "      <td>True</td>\n",
       "      <td>False</td>\n",
       "      <td>True</td>\n",
       "      <td>True</td>\n",
       "      <td>True</td>\n",
       "    </tr>\n",
       "    <tr>\n",
       "      <th>...</th>\n",
       "      <td>...</td>\n",
       "      <td>...</td>\n",
       "      <td>...</td>\n",
       "      <td>...</td>\n",
       "      <td>...</td>\n",
       "      <td>...</td>\n",
       "      <td>...</td>\n",
       "      <td>...</td>\n",
       "      <td>...</td>\n",
       "      <td>...</td>\n",
       "      <td>...</td>\n",
       "      <td>...</td>\n",
       "      <td>...</td>\n",
       "      <td>...</td>\n",
       "      <td>...</td>\n",
       "      <td>...</td>\n",
       "      <td>...</td>\n",
       "    </tr>\n",
       "    <tr>\n",
       "      <th>260915</th>\n",
       "      <td>False</td>\n",
       "      <td>False</td>\n",
       "      <td>False</td>\n",
       "      <td>False</td>\n",
       "      <td>False</td>\n",
       "      <td>False</td>\n",
       "      <td>False</td>\n",
       "      <td>False</td>\n",
       "      <td>False</td>\n",
       "      <td>False</td>\n",
       "      <td>False</td>\n",
       "      <td>False</td>\n",
       "      <td>True</td>\n",
       "      <td>False</td>\n",
       "      <td>True</td>\n",
       "      <td>True</td>\n",
       "      <td>True</td>\n",
       "    </tr>\n",
       "    <tr>\n",
       "      <th>260916</th>\n",
       "      <td>False</td>\n",
       "      <td>False</td>\n",
       "      <td>False</td>\n",
       "      <td>False</td>\n",
       "      <td>False</td>\n",
       "      <td>False</td>\n",
       "      <td>False</td>\n",
       "      <td>False</td>\n",
       "      <td>False</td>\n",
       "      <td>False</td>\n",
       "      <td>False</td>\n",
       "      <td>False</td>\n",
       "      <td>True</td>\n",
       "      <td>False</td>\n",
       "      <td>True</td>\n",
       "      <td>True</td>\n",
       "      <td>True</td>\n",
       "    </tr>\n",
       "    <tr>\n",
       "      <th>260917</th>\n",
       "      <td>False</td>\n",
       "      <td>False</td>\n",
       "      <td>False</td>\n",
       "      <td>False</td>\n",
       "      <td>False</td>\n",
       "      <td>False</td>\n",
       "      <td>False</td>\n",
       "      <td>False</td>\n",
       "      <td>False</td>\n",
       "      <td>False</td>\n",
       "      <td>False</td>\n",
       "      <td>False</td>\n",
       "      <td>True</td>\n",
       "      <td>False</td>\n",
       "      <td>True</td>\n",
       "      <td>True</td>\n",
       "      <td>True</td>\n",
       "    </tr>\n",
       "    <tr>\n",
       "      <th>260918</th>\n",
       "      <td>False</td>\n",
       "      <td>False</td>\n",
       "      <td>False</td>\n",
       "      <td>False</td>\n",
       "      <td>False</td>\n",
       "      <td>False</td>\n",
       "      <td>False</td>\n",
       "      <td>False</td>\n",
       "      <td>False</td>\n",
       "      <td>False</td>\n",
       "      <td>False</td>\n",
       "      <td>False</td>\n",
       "      <td>True</td>\n",
       "      <td>False</td>\n",
       "      <td>True</td>\n",
       "      <td>True</td>\n",
       "      <td>True</td>\n",
       "    </tr>\n",
       "    <tr>\n",
       "      <th>260919</th>\n",
       "      <td>False</td>\n",
       "      <td>False</td>\n",
       "      <td>False</td>\n",
       "      <td>False</td>\n",
       "      <td>False</td>\n",
       "      <td>False</td>\n",
       "      <td>False</td>\n",
       "      <td>False</td>\n",
       "      <td>False</td>\n",
       "      <td>False</td>\n",
       "      <td>False</td>\n",
       "      <td>False</td>\n",
       "      <td>True</td>\n",
       "      <td>False</td>\n",
       "      <td>True</td>\n",
       "      <td>True</td>\n",
       "      <td>True</td>\n",
       "    </tr>\n",
       "  </tbody>\n",
       "</table>\n",
       "<p>260920 rows × 17 columns</p>\n",
       "</div>"
      ],
      "text/plain": [
       "        match_id  inning  batting_team  bowling_team   over   ball  batter  \\\n",
       "0          False   False         False         False  False  False   False   \n",
       "1          False   False         False         False  False  False   False   \n",
       "2          False   False         False         False  False  False   False   \n",
       "3          False   False         False         False  False  False   False   \n",
       "4          False   False         False         False  False  False   False   \n",
       "...          ...     ...           ...           ...    ...    ...     ...   \n",
       "260915     False   False         False         False  False  False   False   \n",
       "260916     False   False         False         False  False  False   False   \n",
       "260917     False   False         False         False  False  False   False   \n",
       "260918     False   False         False         False  False  False   False   \n",
       "260919     False   False         False         False  False  False   False   \n",
       "\n",
       "        bowler  non_striker  batsman_runs  extra_runs  total_runs  \\\n",
       "0        False        False         False       False       False   \n",
       "1        False        False         False       False       False   \n",
       "2        False        False         False       False       False   \n",
       "3        False        False         False       False       False   \n",
       "4        False        False         False       False       False   \n",
       "...        ...          ...           ...         ...         ...   \n",
       "260915   False        False         False       False       False   \n",
       "260916   False        False         False       False       False   \n",
       "260917   False        False         False       False       False   \n",
       "260918   False        False         False       False       False   \n",
       "260919   False        False         False       False       False   \n",
       "\n",
       "        extras_type  is_wicket  player_dismissed  dismissal_kind  fielder  \n",
       "0             False      False              True            True     True  \n",
       "1              True      False              True            True     True  \n",
       "2             False      False              True            True     True  \n",
       "3              True      False              True            True     True  \n",
       "4              True      False              True            True     True  \n",
       "...             ...        ...               ...             ...      ...  \n",
       "260915         True      False              True            True     True  \n",
       "260916         True      False              True            True     True  \n",
       "260917         True      False              True            True     True  \n",
       "260918         True      False              True            True     True  \n",
       "260919         True      False              True            True     True  \n",
       "\n",
       "[260920 rows x 17 columns]"
      ]
     },
     "execution_count": 93,
     "metadata": {},
     "output_type": "execute_result"
    }
   ],
   "source": [
    "df.isnull()"
   ]
  },
  {
   "cell_type": "code",
   "execution_count": 94,
   "id": "4db55f96-2fec-472e-9981-c9e99b4b78c7",
   "metadata": {},
   "outputs": [
    {
     "data": {
      "text/plain": [
       "match_id                 0\n",
       "inning                   0\n",
       "batting_team             0\n",
       "bowling_team             0\n",
       "over                     0\n",
       "ball                     0\n",
       "batter                   0\n",
       "bowler                   0\n",
       "non_striker              0\n",
       "batsman_runs             0\n",
       "extra_runs               0\n",
       "total_runs               0\n",
       "extras_type         246795\n",
       "is_wicket                0\n",
       "player_dismissed    247970\n",
       "dismissal_kind      247970\n",
       "fielder             251566\n",
       "dtype: int64"
      ]
     },
     "execution_count": 94,
     "metadata": {},
     "output_type": "execute_result"
    }
   ],
   "source": [
    "df.isnull().sum()"
   ]
  },
  {
   "cell_type": "markdown",
   "id": "25259c03-00c1-498a-b690-71dfcbcb211a",
   "metadata": {},
   "source": [
    "### 16. dismissal_kind\n",
    "\n",
    "Gives the method of dismissal — bowled, caught, LBW, etc. Helps identify bowling strategies and fielder involvement.\n"
   ]
  },
  {
   "cell_type": "code",
   "execution_count": 96,
   "id": "ac632418-934f-4c2e-b54d-34d89eebbf82",
   "metadata": {},
   "outputs": [
    {
     "name": "stdout",
     "output_type": "stream",
     "text": [
      "Dismissal types: [nan 'caught' 'bowled' 'run out' 'lbw' 'retired hurt' 'stumped'\n",
      " 'caught and bowled' 'hit wicket' 'obstructing the field' 'retired out']\n"
     ]
    },
    {
     "data": {
      "text/plain": [
       "dismissal_kind\n",
       "caught                   8063\n",
       "bowled                   2212\n",
       "run out                  1114\n",
       "lbw                       800\n",
       "caught and bowled         367\n",
       "stumped                   358\n",
       "retired hurt               15\n",
       "hit wicket                 15\n",
       "obstructing the field       3\n",
       "retired out                 3\n",
       "Name: count, dtype: int64"
      ]
     },
     "execution_count": 96,
     "metadata": {},
     "output_type": "execute_result"
    }
   ],
   "source": [
    "# Exploring dismissal_kind\n",
    "print(\"Dismissal types:\", df['dismissal_kind'].unique())\n",
    "df['dismissal_kind'].value_counts()\n"
   ]
  },
  {
   "cell_type": "code",
   "execution_count": 97,
   "id": "d079e2b1-8a08-468d-b692-a85e52a12081",
   "metadata": {},
   "outputs": [
    {
     "data": {
      "text/plain": [
       "0         NaN\n",
       "1         NaN\n",
       "2         NaN\n",
       "3         NaN\n",
       "4         NaN\n",
       "         ... \n",
       "260915    NaN\n",
       "260916    NaN\n",
       "260917    NaN\n",
       "260918    NaN\n",
       "260919    NaN\n",
       "Name: dismissal_kind, Length: 260920, dtype: object"
      ]
     },
     "execution_count": 97,
     "metadata": {},
     "output_type": "execute_result"
    }
   ],
   "source": [
    "df['dismissal_kind']"
   ]
  },
  {
   "cell_type": "code",
   "execution_count": 98,
   "id": "29374635-9801-4cf9-82be-822e4b49278b",
   "metadata": {},
   "outputs": [
    {
     "data": {
      "text/plain": [
       "array([nan, 'caught', 'bowled', 'run out', 'lbw', 'retired hurt',\n",
       "       'stumped', 'caught and bowled', 'hit wicket',\n",
       "       'obstructing the field', 'retired out'], dtype=object)"
      ]
     },
     "execution_count": 98,
     "metadata": {},
     "output_type": "execute_result"
    }
   ],
   "source": [
    "df['dismissal_kind'].unique()"
   ]
  },
  {
   "cell_type": "code",
   "execution_count": 99,
   "id": "f9d972d4-f456-4faa-ab99-ba7200710502",
   "metadata": {},
   "outputs": [
    {
     "data": {
      "text/plain": [
       "10"
      ]
     },
     "execution_count": 99,
     "metadata": {},
     "output_type": "execute_result"
    }
   ],
   "source": [
    "df['dismissal_kind'].nunique()"
   ]
  },
  {
   "cell_type": "markdown",
   "id": "4aeb02c9-0d20-44de-b57c-47af32f028fe",
   "metadata": {},
   "source": [
    "### Analysis of `dismissal_kind` Column\n",
    "\n",
    "The `dismissal_kind` column contains the method of dismissal for each delivery (if applicable). It can provide insights into **bowling strategies** and **fielder involvement** throughout the match. The possible dismissal methods include:\n",
    "\n",
    "- **Caught**\n",
    "- **Bowled**\n",
    "- **Run Out**\n",
    "- **LBW (Leg Before Wicket)**\n",
    "- **Retired Hurt**\n",
    "- **Stumped**\n",
    "- **Caught and Bowled**\n",
    "- **Hit Wicket**\n",
    "- **Obstructing the Field**\n",
    "- **Retired Out**\n",
    "\n",
    "#### Unique Dismissal Types:\n",
    "The unique dismissal methods found in the dataset are as follows:\n",
    "\n",
    "- `nan` (no dismissal)\n",
    "- `caught`\n",
    "- `bowled`\n",
    "- `run out`\n",
    "- `lbw`\n",
    "- `retired hurt`\n",
    "- `stumped`\n",
    "- `caught and bowled`\n",
    "- `hit wicket`\n",
    "- `obstructing the field`\n",
    "- `retired out`\n",
    "\n",
    "#### Dismissal Frequency:\n",
    "Here is a brief look at the distribution of different types of dismissals:\n",
    "\n",
    "- **Caught:** A significant number of dismissals, showing the importance of fielding and bowling strategies to induce shots leading to catches.\n",
    "- **Bowled and LBW:** Indicates bowlers' effectiveness, showing how many times the batter was dismissed due to the bowlers' skill.\n",
    "- **Run Out & Stumped:** These are largely due to fielding precision and wicketkeeping skills.\n",
    "- **Retired Hurt/Out, Hit Wicket, and Obstructing the Field:** These are rarer dismissals, which may indicate unusual situations or strategies.\n",
    "\n",
    "By analyzing the `dismissal_kind` column, we can assess which dismissals occur most frequently and gain insights into the match's dynamics, including the roles of both bowlers and fielders.\n",
    "\n",
    "We will consider this column for further analysis. "
   ]
  },
  {
   "cell_type": "markdown",
   "id": "eff09fe0-f2c3-4784-bfce-1a0a9c068604",
   "metadata": {},
   "source": [
    "### 17. fielder\n",
    "\n",
    "If a dismissal involves a fielder, their name is shown here. It helps assess fielding efficiency and impact.\n"
   ]
  },
  {
   "cell_type": "code",
   "execution_count": 102,
   "id": "0595ed30-dacf-4d4a-b731-93238201643b",
   "metadata": {},
   "outputs": [
    {
     "data": {
      "text/plain": [
       "0         NaN\n",
       "1         NaN\n",
       "2         NaN\n",
       "3         NaN\n",
       "4         NaN\n",
       "         ... \n",
       "260915    NaN\n",
       "260916    NaN\n",
       "260917    NaN\n",
       "260918    NaN\n",
       "260919    NaN\n",
       "Name: fielder, Length: 260920, dtype: object"
      ]
     },
     "execution_count": 102,
     "metadata": {},
     "output_type": "execute_result"
    }
   ],
   "source": [
    "df['fielder']"
   ]
  },
  {
   "cell_type": "code",
   "execution_count": 103,
   "id": "d7a315fa-358d-4d63-a23c-ae137a109e63",
   "metadata": {},
   "outputs": [
    {
     "data": {
      "text/plain": [
       "array([nan, 'JH Kallis', 'P Kumar', 'CL White', 'M Kartik', 'RT Ponting',\n",
       "       'WP Saha', 'AB Agarkar', 'BB McCullum', 'KC Sangakkara',\n",
       "       'IK Pathan', 'PA Patel', 'Joginder Sharma', 'P Amarnath',\n",
       "       'M Manhas', 'B Geeves', 'V Kohli', 'Z Khan', 'MV Boucher',\n",
       "       'AM Nayar', 'L Ronchi', 'LR Shukla', 'Mohammad Hafeez', 'AB Dinda',\n",
       "       'DJ Hussey', 'SC Ganguly', 'RG Sharma', 'SB Styris', 'A Symonds',\n",
       "       'Kamran Akmal', 'RA Jadeja', 'PP Chawla', 'S Dhawan', 'KD Karthik',\n",
       "       'MK Tiwary', 'GD McGrath', 'G Gambhir', 'AC Gilchrist', 'DJ Bravo',\n",
       "       'Harbhajan Singh', 'S Badrinath', 'JDP Oram', 'SK Raina',\n",
       "       'D Salunkhe', 'SB Bangar', 'D Kalyankrishna', 'VVS Laxman',\n",
       "       'DS Kulkarni', 'AM Rahane', 'A Nehra', 'B Lee', 'RR Sarwan',\n",
       "       'Yuvraj Singh', 'MM Patel', 'GC Smith', 'M Rawat', 'Sohail Tanvir',\n",
       "       'A Kumble', 'M Muralitharan', 'MS Dhoni', 'I Sharma', 'PP Ojha',\n",
       "       'DPMD Jayawardene', 'V Sehwag', 'W Jaffer', 'R Vinay Kumar',\n",
       "       'R Dravid', 'MEK Hussey', 'ST Jayasuriya', 'RV Uthappa', 'PR Shah',\n",
       "       'LRPL Taylor', 'VY Mahesh', 'K Goel', 'S Sreesanth', 'SE Marsh',\n",
       "       'Umar Gul', 'SK Trivedi', 'M Kaif', 'SR Watson', 'T Kohli',\n",
       "       'Shoaib Malik', 'PJ Sangwan', 'SP Goswami', 'B Akhil', 'DW Steyn',\n",
       "       'B Chipli', 'AS Yadav', 'LPC Silva', 'DB Ravi Teja', 'BJ Hodge',\n",
       "       'DB Das', 'JR Hopes', 'AB de Villiers', 'SM Pollock', 'SS Tiwary',\n",
       "       'DJ Thornely', 'SK Warne', 'M Ntini', 'U Kaul', 'DT Patil',\n",
       "       'RP Singh', 'Shahid Afridi', 'HH Gibbs', 'YV Takawale',\n",
       "       'YK Pathan', 'SA Asnodkar', 'CK Kapugedera', 'SR Tendulkar',\n",
       "       'CRD Fernando', 'JA Morkel', 'SP Fleming', 'S Vidyut',\n",
       "       'Salman Butt', 'A Chopra', 'NK Patel', 'MF Maharoof', 'TM Dilshan',\n",
       "       'T Taibu', 'RR Raje', 'Younis Khan', 'WA Mota', 'LA Pomersbach',\n",
       "       'RR Powar', 'Misbah-ul-Haq', 'MS Gony', 'R Bhatia', 'DR Smith',\n",
       "       'TM Srivastava', 'VRV Singh', 'SD Chitnis', 'A Mukund',\n",
       "       'Pankaj Singh', 'MK Pandey', 'L Balaji', 'ML Hayden', 'T Thushara',\n",
       "       'R Ashwin', 'JD Ryder', 'DL Vettori', 'DP Nannes', 'Harmeet Singh',\n",
       "       'MC Henriques', 'R Bishnoi', 'A Flintoff', 'CH Gayle',\n",
       "       'Yashpal Singh', 'KP Pietersen', 'KV Sharma', 'Y Venugopal Rao',\n",
       "       'DA Warner', 'Kamran Khan', 'AS Raut', 'RJ Quiney', 'RS Bopara',\n",
       "       'A Mishra', 'Shoaib Ahmed', 'BAW Mendis', 'AN Ghosh', 'JP Duminy',\n",
       "       'MN van Wyk', 'AD Mascarenhas', 'SL Malinga', 'SM Katich',\n",
       "       'RE van der Merwe', 'VS Malik', 'SB Jakati', 'M Vijay',\n",
       "       'SM Harwood', 'NV Ojha', 'RJ Harris', 'LA Carseldine', 'M Morkel',\n",
       "       'TL Suman', 'AD Mathews', 'S Tyagi', 'S Sohal', 'Mashrafe Mortaza',\n",
       "       'AM Salvi', 'SS Shaikh', 'J Botha', 'Mohammad Ashraful',\n",
       "       'Anirudh Singh', 'P Dogra', 'R Sathish', 'MS Bisla', 'EJG Morgan',\n",
       "       'FY Fazal', 'Y Nagar', 'AT Rayudu', 'AP Tare', 'JM Kemp',\n",
       "       'Bipul Sharma', 'CA Pujara', 'AC Voges', 'KA Pollard',\n",
       "       'WPUJC Vaas', 'GJ Bailey', 'J Theron', 'KP Appanna',\n",
       "       'SJ Srivastava', 'MJ Lumb', 'AA Jhunjhunwala', 'SW Tait',\n",
       "       'UT Yadav', 'R McLaren', 'S Ladda', 'KAJ Roach', 'S Narwal',\n",
       "       'S Anirudha', 'DE Bollinger', 'PD Collingwood', 'AA Bilakhia',\n",
       "       'AP Dole', 'Iqbal Abdulla', 'B Sumanth', 'MD Mishra', 'RS Sodhi',\n",
       "       'AG Murtaza', 'JD Unadkat', 'MR Marsh', 'AG Paunikar',\n",
       "       'AL Menaria', 'DJ Jacobs', 'JEC Franklin', 'R Sharma', 'IR Jaggi',\n",
       "       'RN ten Doeschate', 'PC Valthaty', 'S Randiv', 'WD Parnell',\n",
       "       'RV Gomez', 'DT Christian', 'MA Agarwal', 'R Ninan', 'Sunny Singh',\n",
       "       'AJ Finch', 'SB Wagh', 'Shakib Al Hasan', 'NLTC Perera',\n",
       "       'AC Thomas', 'KM Jadhav', 'DH Yagnik', 'STR Binny', 'NL McCullum',\n",
       "       'A Mithun', 'Harpreet Singh', 'J Syed Mohammad', 'F du Plessis',\n",
       "       'AC Blizzard', 'AUK Pathan', 'KB Arun Karthik', 'B Kumar',\n",
       "       'CJ Ferguson', 'Mandeep Singh', 'OA Shah', 'Y Gnaneswara Rao',\n",
       "       'AA Chavan', 'Anand Rajan', 'KH Devdhar', 'AN Ahmed', 'S Aravind',\n",
       "       'JP Faulkner', 'KK Cooper', 'A Singh', 'DAJ Bracewell', 'HV Patel',\n",
       "       'DJ Harris', 'SPD Smith', 'RE Levi', 'RR Bhatkal', 'P Awana',\n",
       "       'S Nadeem', 'T Mishra', 'KMDN Kulasekara', 'N Saini', 'DA Miller',\n",
       "       'LJ Wright', 'Azhar Mahmood', 'GB Hogg', 'RJ Peterson',\n",
       "       'Gurkeerat Singh', 'MJ Clarke', 'A Ashish Reddy', 'P Negi',\n",
       "       'VR Aaron', 'CA Lynn', 'A Chandila', 'UBT Chand', 'SP Narine',\n",
       "       'MG Johnson', 'MN Samuels', 'Ankit Sharma', 'Mohammed Shami',\n",
       "       'R Shukla', 'BMAJ Mendis', 'R Dhawan', 'CH Morris', 'KL Rahul',\n",
       "       'PA Reddy', 'GH Vihari', 'SV Samson', 'BB Samantray', 'Q de Kock',\n",
       "       'MM Sharma', 'SMSM Senanayake', 'R Rampaul', 'AD Russell',\n",
       "       'M Vohra', 'S Kaul', 'BJ Rohrer', 'DJG Sammy', 'P Suyal',\n",
       "       'UA Birla', 'Sachin Baby', 'JO Holder', 'K Upadhyay', 'GJ Maxwell',\n",
       "       'NM Coulter-Nile', 'AR Patel', 'CJ Anderson', 'KW Richardson',\n",
       "       'YS Chahal', 'NJ Maddinson', 'S Rana', 'BW Hilfenhaus', 'MA Starc',\n",
       "       'CM Gautam', 'TG Southee', 'AV Wankhade', 'IC Pandey', 'SA Yadav',\n",
       "       'KK Nair', 'BR Dunk', 'LMP Simmons', 'RR Rossouw', 'Shivam Sharma',\n",
       "       'BCJ Cutting', 'K Santokie', 'BE Hendricks', 'Parvez Rasool',\n",
       "       'Sandeep Sharma', 'Karanveer Singh', 'SS Iyer', 'TA Boult',\n",
       "       'J Suchith', 'KS Williamson', 'PJ Cummins', 'RG More',\n",
       "       'Anureet Singh', 'Imran Tahir', 'R Tewatia', 'J Yadav', 'D Wiese',\n",
       "       'HH Pandya', 'DJ Hooda', 'B Aparajith', 'MJ McClenaghan',\n",
       "       'SN Khan', 'AF Milne', 'C Munro', 'CR Brathwaite', 'KH Pandya',\n",
       "       'Mustafizur Rahman', 'NS Naik', 'JC Buttler', 'PV Tambe',\n",
       "       'BB Sran', 'Ishan Kishan', 'KC Cariappa', 'RR Pant', 'SW Billings',\n",
       "       'V Shankar', 'JJ Bumrah', 'UT Khawaja', 'CJ Jordan', 'ER Dwivedi',\n",
       "       'AS Rajpoot', 'DL Chahar', 'F Behardien', 'Kuldeep Yadav',\n",
       "       'N Rana', 'MP Stoinis', 'BA Stokes', 'B Stanlake', 'Rashid Khan',\n",
       "       'CR Woakes', 'RD Chahar', 'C de Grandhomme', 'JJ Roy',\n",
       "       'RA Tripathi', 'K Rabada', 'Basil Thampi', 'S Badree', 'TS Mills',\n",
       "       'Washington Sundar', 'SN Thakur', 'SP Jackson', 'LH Ferguson',\n",
       "       'TM Head', 'Ankit Soni', 'Mohammed Siraj', 'R Powell',\n",
       "       'MJ Guptill', 'Vishnu Vinod', 'MA Wood', 'E Lewis', 'AJ Tye',\n",
       "       'RK Singh', 'B Laughlin', 'Shivam Mavi', 'K Gowtham',\n",
       "       'Mujeeb Ur Rahman', 'DJM Short', 'TK Curran', 'H Klaasen',\n",
       "       'Avesh Khan', 'LE Plunkett', 'PP Shaw', 'M Markande', 'AD Hales',\n",
       "       'Shubman Gill', 'DJ Willey', 'AD Nath', 'JPR Scantlebury-Searles',\n",
       "       'M Prasidh Krishna', 'Abhishek Sharma', 'MM Ali', 'JC Archer',\n",
       "       'DR Shorey', 'S Dube', 'Rasikh Salam', 'SO Hetmyer',\n",
       "       'Navdeep Saini', 'P Chopra', 'M Ashwin', 'JM Bairstow',\n",
       "       'Mohammad Nabi', 'SM Curran', 'S Lamichhane', 'CA Ingram',\n",
       "       'S Midhun', 'S Gopal', 'KMA Paul', 'Milind Kumar', 'N Pooran',\n",
       "       'SE Rutherford', 'R Parag', 'MJ Santner', 'P Simran Singh',\n",
       "       'LS Livingstone', 'MK Lomror', 'O Thomas', 'S Sandeep Warrier',\n",
       "       'Anmolpreet Singh', 'JL Pattinson', 'D Padikkal', 'PK Garg',\n",
       "       'TU Deshpande', 'KL Nagarkoti', 'KK Ahmed', 'YBK Jaiswal',\n",
       "       'I Udana', 'JDS Neesham', 'CV Varun', 'RD Gaikwad', 'A Nortje',\n",
       "       'AT Carey', 'Ravi Bishnoi', 'AS Roy', 'Abdul Samad',\n",
       "       'Shahbaz Ahmed', 'CJ Green', 'T Natarajan', 'Arshdeep Singh',\n",
       "       'Kartik Tyagi', 'Lalit Yadav', 'DR Sams', 'A Zampa', 'P Dubey',\n",
       "       'C Sakariya', 'M Jansen', 'M Shahrukh Khan', 'Virat Singh',\n",
       "       'RV Patel', 'JA Richardson', 'L Ngidi', 'FA Allen', 'KA Jamieson',\n",
       "       'RM Patidar', 'Harpreet Brar', 'Anuj Rawat', 'DJ Malan',\n",
       "       'GD Phillips', 'JR Hazlewood', 'VR Iyer', 'GHS Garton',\n",
       "       'KS Bharat', 'AK Markram', 'TL Seifert', 'Tilak Varma', 'TH David',\n",
       "       'MS Wade', 'Akash Deep', 'OF Smith', 'A Manohar', 'D Pretorius',\n",
       "       'JM Sharma', 'A Badoni', 'D Brevis', 'Umran Malik',\n",
       "       'Ramandeep Singh', 'B Sai Sudharsan', 'SS Prabhudessai',\n",
       "       'VG Arora', 'HE van der Dussen', 'Shashank Singh', 'PVD Chameera',\n",
       "       'PWH de Silva', 'NT Ellis', 'Mukesh Choudhary', 'RP Meredith',\n",
       "       'HR Shokeen', 'KR Sen', 'AS Joseph', 'B Indrajith', 'DJ Mitchell',\n",
       "       'Simarjeet Singh', 'DP Conway', 'PBB Rajapaksa', 'R Sai Kishore',\n",
       "       'Yash Dayal', 'M Pathirana', 'PN Mankad', 'Mohsin Khan',\n",
       "       'OC McCoy', 'Rahmanullah Gurbaz', 'Sikandar Raza', 'KR Mayers',\n",
       "       'Fazalhaq Farooqi', 'KM Asif', 'Yash Thakur', 'J Little',\n",
       "       'Abishek Porel', 'MW Short', 'N Jagadeesan', 'C Green',\n",
       "       'JP Behrendorff', 'N Wadhera', 'Arshad Khan', 'Mukesh Kumar',\n",
       "       'SSB Magala', 'Aman Hakim Khan', 'YV Dhull', 'D Jansen',\n",
       "       'M Theekshana', 'Atharva Taide', 'Akash Singh', 'Naveen-ul-Haq',\n",
       "       'HC Brook', 'PD Salt', 'Vijaykumar Vyshak', 'Harshit Rana',\n",
       "       'SK Rasheed', 'Sonu Yadav', 'R Goyal', 'Noor Ahmad', 'JE Root',\n",
       "       'Dhruv Jurel', 'MG Bracewell', 'MD Shanaka', 'D Ferreira',\n",
       "       'K Kartikeya', 'Nithish Kumar Reddy', 'Subhransu Senapati',\n",
       "       'R Ravindra', 'Tanay Thyagarajan', 'Suyash Sharma', 'N Burger',\n",
       "       'Naman Dhir', 'Sameer Rizvi', 'T Stubbs', 'DG Nalkande',\n",
       "       'Mayank Dagar', 'J Fraser-McGurk', 'BR Sharath', 'Akash Madhwal',\n",
       "       'RJW Topley', 'Tanush Kotian', 'KA Maharaj', 'A Raghuvanshi',\n",
       "       'Sumit Kumar', 'SH Johnson', 'Ashutosh Sharma', 'SD Hope',\n",
       "       'LB Williams', 'MP Yadav', 'N Thushara', 'G Coetzee',\n",
       "       'Swapnil Singh', 'A Kamboj', 'Sanvir Singh', 'WG Jacks',\n",
       "       'Kumar Kushagra', 'Gulbadin Naib', 'Shivam Singh', 'V Viyaskanth',\n",
       "       'T Kohler-Cadmore'], dtype=object)"
      ]
     },
     "execution_count": 103,
     "metadata": {},
     "output_type": "execute_result"
    }
   ],
   "source": [
    "df['fielder'].unique()"
   ]
  },
  {
   "cell_type": "code",
   "execution_count": 104,
   "id": "699248f5-611e-4602-9f05-d3d6a9f0871d",
   "metadata": {},
   "outputs": [
    {
     "data": {
      "text/plain": [
       "607"
      ]
     },
     "execution_count": 104,
     "metadata": {},
     "output_type": "execute_result"
    }
   ],
   "source": [
    "df['fielder'].nunique()"
   ]
  },
  {
   "cell_type": "markdown",
   "id": "720dec15-ccac-44b6-956e-9458860d1074",
   "metadata": {},
   "source": [
    "\n",
    "- There are **607 unique fielders** in this dataset, with each fielder representing a player involved in dismissals through methods such as **Caught**, **Run Out**, or **Caught and Bowled**.\n",
    "\n",
    "- This column helps identify which fielders are most involved in dismissals and allows for the assessment of fielding contributions across matches and seasons.\n",
    "- The dataset includes a diverse set of players, ranging from well-known international cricketers to emerging talents.\n",
    "\n",
    "The `fielder` column can also serve as a measure of fielding efficiency, highlighting players who are more often part of key dismissals, whether they are catching, running out, or contributing in other ways.\n",
    "\n",
    "We will consider this column for further analysis"
   ]
  },
  {
   "cell_type": "markdown",
   "id": "5819b879-3c21-40fe-86b0-5d16693b6d56",
   "metadata": {},
   "source": [
    "### Step 4: Handle Missing Values "
   ]
  },
  {
   "cell_type": "code",
   "execution_count": 183,
   "id": "7d4e010f-2703-41a8-ba42-c05c6dd3449e",
   "metadata": {},
   "outputs": [
    {
     "data": {
      "text/html": [
       "<div>\n",
       "<style scoped>\n",
       "    .dataframe tbody tr th:only-of-type {\n",
       "        vertical-align: middle;\n",
       "    }\n",
       "\n",
       "    .dataframe tbody tr th {\n",
       "        vertical-align: top;\n",
       "    }\n",
       "\n",
       "    .dataframe thead th {\n",
       "        text-align: right;\n",
       "    }\n",
       "</style>\n",
       "<table border=\"1\" class=\"dataframe\">\n",
       "  <thead>\n",
       "    <tr style=\"text-align: right;\">\n",
       "      <th></th>\n",
       "      <th>match_id</th>\n",
       "      <th>inning</th>\n",
       "      <th>batting_team</th>\n",
       "      <th>bowling_team</th>\n",
       "      <th>over</th>\n",
       "      <th>ball</th>\n",
       "      <th>batter</th>\n",
       "      <th>bowler</th>\n",
       "      <th>non_striker</th>\n",
       "      <th>batsman_runs</th>\n",
       "      <th>extra_runs</th>\n",
       "      <th>total_runs</th>\n",
       "      <th>extras_type</th>\n",
       "      <th>is_wicket</th>\n",
       "      <th>player_dismissed</th>\n",
       "      <th>dismissal_kind</th>\n",
       "      <th>fielder</th>\n",
       "    </tr>\n",
       "  </thead>\n",
       "  <tbody>\n",
       "    <tr>\n",
       "      <th>0</th>\n",
       "      <td>False</td>\n",
       "      <td>False</td>\n",
       "      <td>False</td>\n",
       "      <td>False</td>\n",
       "      <td>False</td>\n",
       "      <td>False</td>\n",
       "      <td>False</td>\n",
       "      <td>False</td>\n",
       "      <td>False</td>\n",
       "      <td>False</td>\n",
       "      <td>False</td>\n",
       "      <td>False</td>\n",
       "      <td>False</td>\n",
       "      <td>False</td>\n",
       "      <td>True</td>\n",
       "      <td>True</td>\n",
       "      <td>True</td>\n",
       "    </tr>\n",
       "    <tr>\n",
       "      <th>1</th>\n",
       "      <td>False</td>\n",
       "      <td>False</td>\n",
       "      <td>False</td>\n",
       "      <td>False</td>\n",
       "      <td>False</td>\n",
       "      <td>False</td>\n",
       "      <td>False</td>\n",
       "      <td>False</td>\n",
       "      <td>False</td>\n",
       "      <td>False</td>\n",
       "      <td>False</td>\n",
       "      <td>False</td>\n",
       "      <td>True</td>\n",
       "      <td>False</td>\n",
       "      <td>True</td>\n",
       "      <td>True</td>\n",
       "      <td>True</td>\n",
       "    </tr>\n",
       "    <tr>\n",
       "      <th>2</th>\n",
       "      <td>False</td>\n",
       "      <td>False</td>\n",
       "      <td>False</td>\n",
       "      <td>False</td>\n",
       "      <td>False</td>\n",
       "      <td>False</td>\n",
       "      <td>False</td>\n",
       "      <td>False</td>\n",
       "      <td>False</td>\n",
       "      <td>False</td>\n",
       "      <td>False</td>\n",
       "      <td>False</td>\n",
       "      <td>False</td>\n",
       "      <td>False</td>\n",
       "      <td>True</td>\n",
       "      <td>True</td>\n",
       "      <td>True</td>\n",
       "    </tr>\n",
       "    <tr>\n",
       "      <th>3</th>\n",
       "      <td>False</td>\n",
       "      <td>False</td>\n",
       "      <td>False</td>\n",
       "      <td>False</td>\n",
       "      <td>False</td>\n",
       "      <td>False</td>\n",
       "      <td>False</td>\n",
       "      <td>False</td>\n",
       "      <td>False</td>\n",
       "      <td>False</td>\n",
       "      <td>False</td>\n",
       "      <td>False</td>\n",
       "      <td>True</td>\n",
       "      <td>False</td>\n",
       "      <td>True</td>\n",
       "      <td>True</td>\n",
       "      <td>True</td>\n",
       "    </tr>\n",
       "    <tr>\n",
       "      <th>4</th>\n",
       "      <td>False</td>\n",
       "      <td>False</td>\n",
       "      <td>False</td>\n",
       "      <td>False</td>\n",
       "      <td>False</td>\n",
       "      <td>False</td>\n",
       "      <td>False</td>\n",
       "      <td>False</td>\n",
       "      <td>False</td>\n",
       "      <td>False</td>\n",
       "      <td>False</td>\n",
       "      <td>False</td>\n",
       "      <td>True</td>\n",
       "      <td>False</td>\n",
       "      <td>True</td>\n",
       "      <td>True</td>\n",
       "      <td>True</td>\n",
       "    </tr>\n",
       "    <tr>\n",
       "      <th>...</th>\n",
       "      <td>...</td>\n",
       "      <td>...</td>\n",
       "      <td>...</td>\n",
       "      <td>...</td>\n",
       "      <td>...</td>\n",
       "      <td>...</td>\n",
       "      <td>...</td>\n",
       "      <td>...</td>\n",
       "      <td>...</td>\n",
       "      <td>...</td>\n",
       "      <td>...</td>\n",
       "      <td>...</td>\n",
       "      <td>...</td>\n",
       "      <td>...</td>\n",
       "      <td>...</td>\n",
       "      <td>...</td>\n",
       "      <td>...</td>\n",
       "    </tr>\n",
       "    <tr>\n",
       "      <th>260915</th>\n",
       "      <td>False</td>\n",
       "      <td>False</td>\n",
       "      <td>False</td>\n",
       "      <td>False</td>\n",
       "      <td>False</td>\n",
       "      <td>False</td>\n",
       "      <td>False</td>\n",
       "      <td>False</td>\n",
       "      <td>False</td>\n",
       "      <td>False</td>\n",
       "      <td>False</td>\n",
       "      <td>False</td>\n",
       "      <td>True</td>\n",
       "      <td>False</td>\n",
       "      <td>True</td>\n",
       "      <td>True</td>\n",
       "      <td>True</td>\n",
       "    </tr>\n",
       "    <tr>\n",
       "      <th>260916</th>\n",
       "      <td>False</td>\n",
       "      <td>False</td>\n",
       "      <td>False</td>\n",
       "      <td>False</td>\n",
       "      <td>False</td>\n",
       "      <td>False</td>\n",
       "      <td>False</td>\n",
       "      <td>False</td>\n",
       "      <td>False</td>\n",
       "      <td>False</td>\n",
       "      <td>False</td>\n",
       "      <td>False</td>\n",
       "      <td>True</td>\n",
       "      <td>False</td>\n",
       "      <td>True</td>\n",
       "      <td>True</td>\n",
       "      <td>True</td>\n",
       "    </tr>\n",
       "    <tr>\n",
       "      <th>260917</th>\n",
       "      <td>False</td>\n",
       "      <td>False</td>\n",
       "      <td>False</td>\n",
       "      <td>False</td>\n",
       "      <td>False</td>\n",
       "      <td>False</td>\n",
       "      <td>False</td>\n",
       "      <td>False</td>\n",
       "      <td>False</td>\n",
       "      <td>False</td>\n",
       "      <td>False</td>\n",
       "      <td>False</td>\n",
       "      <td>True</td>\n",
       "      <td>False</td>\n",
       "      <td>True</td>\n",
       "      <td>True</td>\n",
       "      <td>True</td>\n",
       "    </tr>\n",
       "    <tr>\n",
       "      <th>260918</th>\n",
       "      <td>False</td>\n",
       "      <td>False</td>\n",
       "      <td>False</td>\n",
       "      <td>False</td>\n",
       "      <td>False</td>\n",
       "      <td>False</td>\n",
       "      <td>False</td>\n",
       "      <td>False</td>\n",
       "      <td>False</td>\n",
       "      <td>False</td>\n",
       "      <td>False</td>\n",
       "      <td>False</td>\n",
       "      <td>True</td>\n",
       "      <td>False</td>\n",
       "      <td>True</td>\n",
       "      <td>True</td>\n",
       "      <td>True</td>\n",
       "    </tr>\n",
       "    <tr>\n",
       "      <th>260919</th>\n",
       "      <td>False</td>\n",
       "      <td>False</td>\n",
       "      <td>False</td>\n",
       "      <td>False</td>\n",
       "      <td>False</td>\n",
       "      <td>False</td>\n",
       "      <td>False</td>\n",
       "      <td>False</td>\n",
       "      <td>False</td>\n",
       "      <td>False</td>\n",
       "      <td>False</td>\n",
       "      <td>False</td>\n",
       "      <td>True</td>\n",
       "      <td>False</td>\n",
       "      <td>True</td>\n",
       "      <td>True</td>\n",
       "      <td>True</td>\n",
       "    </tr>\n",
       "  </tbody>\n",
       "</table>\n",
       "<p>260920 rows × 17 columns</p>\n",
       "</div>"
      ],
      "text/plain": [
       "        match_id  inning  batting_team  bowling_team   over   ball  batter  \\\n",
       "0          False   False         False         False  False  False   False   \n",
       "1          False   False         False         False  False  False   False   \n",
       "2          False   False         False         False  False  False   False   \n",
       "3          False   False         False         False  False  False   False   \n",
       "4          False   False         False         False  False  False   False   \n",
       "...          ...     ...           ...           ...    ...    ...     ...   \n",
       "260915     False   False         False         False  False  False   False   \n",
       "260916     False   False         False         False  False  False   False   \n",
       "260917     False   False         False         False  False  False   False   \n",
       "260918     False   False         False         False  False  False   False   \n",
       "260919     False   False         False         False  False  False   False   \n",
       "\n",
       "        bowler  non_striker  batsman_runs  extra_runs  total_runs  \\\n",
       "0        False        False         False       False       False   \n",
       "1        False        False         False       False       False   \n",
       "2        False        False         False       False       False   \n",
       "3        False        False         False       False       False   \n",
       "4        False        False         False       False       False   \n",
       "...        ...          ...           ...         ...         ...   \n",
       "260915   False        False         False       False       False   \n",
       "260916   False        False         False       False       False   \n",
       "260917   False        False         False       False       False   \n",
       "260918   False        False         False       False       False   \n",
       "260919   False        False         False       False       False   \n",
       "\n",
       "        extras_type  is_wicket  player_dismissed  dismissal_kind  fielder  \n",
       "0             False      False              True            True     True  \n",
       "1              True      False              True            True     True  \n",
       "2             False      False              True            True     True  \n",
       "3              True      False              True            True     True  \n",
       "4              True      False              True            True     True  \n",
       "...             ...        ...               ...             ...      ...  \n",
       "260915         True      False              True            True     True  \n",
       "260916         True      False              True            True     True  \n",
       "260917         True      False              True            True     True  \n",
       "260918         True      False              True            True     True  \n",
       "260919         True      False              True            True     True  \n",
       "\n",
       "[260920 rows x 17 columns]"
      ]
     },
     "execution_count": 183,
     "metadata": {},
     "output_type": "execute_result"
    }
   ],
   "source": [
    "df.isnull()"
   ]
  },
  {
   "cell_type": "code",
   "execution_count": 185,
   "id": "f6c8dcc4-5692-4676-b180-ec4b9e824819",
   "metadata": {},
   "outputs": [
    {
     "data": {
      "text/plain": [
       "match_id                 0\n",
       "inning                   0\n",
       "batting_team             0\n",
       "bowling_team             0\n",
       "over                     0\n",
       "ball                     0\n",
       "batter                   0\n",
       "bowler                   0\n",
       "non_striker              0\n",
       "batsman_runs             0\n",
       "extra_runs               0\n",
       "total_runs               0\n",
       "extras_type         246795\n",
       "is_wicket                0\n",
       "player_dismissed    247970\n",
       "dismissal_kind      247970\n",
       "fielder             251566\n",
       "dtype: int64"
      ]
     },
     "execution_count": 185,
     "metadata": {},
     "output_type": "execute_result"
    }
   ],
   "source": [
    "df.isnull().sum()"
   ]
  },
  {
   "cell_type": "markdown",
   "id": "ec8bdae4-61bf-499d-8c97-ca0ec1b98e6f",
   "metadata": {},
   "source": [
    "We found that the columns such as 'extras_type', 'player_dismissed', 'dismissal_kind',  'fielder' are having large number of null values. But here I am not ignoring these 4 columns instead i replace the null values with a value because these 4 columns plays a crucial role in this analysis part.      "
   ]
  },
  {
   "cell_type": "markdown",
   "id": "977fd997-3a63-4423-8bec-e122e423a363",
   "metadata": {},
   "source": [
    "#### Handling  Missing Values (Final Clean)"
   ]
  },
  {
   "cell_type": "code",
   "execution_count": 203,
   "id": "882eb633-3c3a-48fe-8a19-5a9c00b82393",
   "metadata": {},
   "outputs": [],
   "source": [
    "df = df.copy()  # Ensures we work on original, not a view\n",
    "\n",
    "df.fillna({\n",
    "    'extras_type': 'No Extra',\n",
    "    'player_dismissed': 'Not Out',\n",
    "    'dismissal_kind': 'None',\n",
    "    'fielder': 'None'\n",
    "}, inplace=True)\n"
   ]
  },
  {
   "cell_type": "code",
   "execution_count": 205,
   "id": "ea8349f6-a7ad-4af6-bf6a-0719a0363349",
   "metadata": {},
   "outputs": [
    {
     "data": {
      "text/plain": [
       "match_id            0\n",
       "inning              0\n",
       "batting_team        0\n",
       "bowling_team        0\n",
       "over                0\n",
       "ball                0\n",
       "batter              0\n",
       "bowler              0\n",
       "non_striker         0\n",
       "batsman_runs        0\n",
       "extra_runs          0\n",
       "total_runs          0\n",
       "extras_type         0\n",
       "is_wicket           0\n",
       "player_dismissed    0\n",
       "dismissal_kind      0\n",
       "fielder             0\n",
       "dtype: int64"
      ]
     },
     "execution_count": 205,
     "metadata": {},
     "output_type": "execute_result"
    }
   ],
   "source": [
    "# Re-check if any nulls left\n",
    "df.isnull().sum()\n"
   ]
  },
  {
   "cell_type": "code",
   "execution_count": 207,
   "id": "741afc2b-4a5a-47ea-92ec-9cd9235833fe",
   "metadata": {},
   "outputs": [
    {
     "data": {
      "text/html": [
       "<div>\n",
       "<style scoped>\n",
       "    .dataframe tbody tr th:only-of-type {\n",
       "        vertical-align: middle;\n",
       "    }\n",
       "\n",
       "    .dataframe tbody tr th {\n",
       "        vertical-align: top;\n",
       "    }\n",
       "\n",
       "    .dataframe thead th {\n",
       "        text-align: right;\n",
       "    }\n",
       "</style>\n",
       "<table border=\"1\" class=\"dataframe\">\n",
       "  <thead>\n",
       "    <tr style=\"text-align: right;\">\n",
       "      <th></th>\n",
       "      <th>match_id</th>\n",
       "      <th>inning</th>\n",
       "      <th>batting_team</th>\n",
       "      <th>bowling_team</th>\n",
       "      <th>over</th>\n",
       "      <th>ball</th>\n",
       "      <th>batter</th>\n",
       "      <th>bowler</th>\n",
       "      <th>non_striker</th>\n",
       "      <th>batsman_runs</th>\n",
       "      <th>extra_runs</th>\n",
       "      <th>total_runs</th>\n",
       "      <th>extras_type</th>\n",
       "      <th>is_wicket</th>\n",
       "      <th>player_dismissed</th>\n",
       "      <th>dismissal_kind</th>\n",
       "      <th>fielder</th>\n",
       "    </tr>\n",
       "  </thead>\n",
       "  <tbody>\n",
       "    <tr>\n",
       "      <th>0</th>\n",
       "      <td>335982</td>\n",
       "      <td>1</td>\n",
       "      <td>Kolkata Knight Riders</td>\n",
       "      <td>Royal Challengers Bangalore</td>\n",
       "      <td>0</td>\n",
       "      <td>1</td>\n",
       "      <td>SC Ganguly</td>\n",
       "      <td>P Kumar</td>\n",
       "      <td>BB McCullum</td>\n",
       "      <td>0</td>\n",
       "      <td>1</td>\n",
       "      <td>1</td>\n",
       "      <td>legbyes</td>\n",
       "      <td>0</td>\n",
       "      <td>Not Out</td>\n",
       "      <td>None</td>\n",
       "      <td>None</td>\n",
       "    </tr>\n",
       "    <tr>\n",
       "      <th>1</th>\n",
       "      <td>335982</td>\n",
       "      <td>1</td>\n",
       "      <td>Kolkata Knight Riders</td>\n",
       "      <td>Royal Challengers Bangalore</td>\n",
       "      <td>0</td>\n",
       "      <td>2</td>\n",
       "      <td>BB McCullum</td>\n",
       "      <td>P Kumar</td>\n",
       "      <td>SC Ganguly</td>\n",
       "      <td>0</td>\n",
       "      <td>0</td>\n",
       "      <td>0</td>\n",
       "      <td>No Extra</td>\n",
       "      <td>0</td>\n",
       "      <td>Not Out</td>\n",
       "      <td>None</td>\n",
       "      <td>None</td>\n",
       "    </tr>\n",
       "    <tr>\n",
       "      <th>2</th>\n",
       "      <td>335982</td>\n",
       "      <td>1</td>\n",
       "      <td>Kolkata Knight Riders</td>\n",
       "      <td>Royal Challengers Bangalore</td>\n",
       "      <td>0</td>\n",
       "      <td>3</td>\n",
       "      <td>BB McCullum</td>\n",
       "      <td>P Kumar</td>\n",
       "      <td>SC Ganguly</td>\n",
       "      <td>0</td>\n",
       "      <td>1</td>\n",
       "      <td>1</td>\n",
       "      <td>wides</td>\n",
       "      <td>0</td>\n",
       "      <td>Not Out</td>\n",
       "      <td>None</td>\n",
       "      <td>None</td>\n",
       "    </tr>\n",
       "    <tr>\n",
       "      <th>3</th>\n",
       "      <td>335982</td>\n",
       "      <td>1</td>\n",
       "      <td>Kolkata Knight Riders</td>\n",
       "      <td>Royal Challengers Bangalore</td>\n",
       "      <td>0</td>\n",
       "      <td>4</td>\n",
       "      <td>BB McCullum</td>\n",
       "      <td>P Kumar</td>\n",
       "      <td>SC Ganguly</td>\n",
       "      <td>0</td>\n",
       "      <td>0</td>\n",
       "      <td>0</td>\n",
       "      <td>No Extra</td>\n",
       "      <td>0</td>\n",
       "      <td>Not Out</td>\n",
       "      <td>None</td>\n",
       "      <td>None</td>\n",
       "    </tr>\n",
       "    <tr>\n",
       "      <th>4</th>\n",
       "      <td>335982</td>\n",
       "      <td>1</td>\n",
       "      <td>Kolkata Knight Riders</td>\n",
       "      <td>Royal Challengers Bangalore</td>\n",
       "      <td>0</td>\n",
       "      <td>5</td>\n",
       "      <td>BB McCullum</td>\n",
       "      <td>P Kumar</td>\n",
       "      <td>SC Ganguly</td>\n",
       "      <td>0</td>\n",
       "      <td>0</td>\n",
       "      <td>0</td>\n",
       "      <td>No Extra</td>\n",
       "      <td>0</td>\n",
       "      <td>Not Out</td>\n",
       "      <td>None</td>\n",
       "      <td>None</td>\n",
       "    </tr>\n",
       "    <tr>\n",
       "      <th>...</th>\n",
       "      <td>...</td>\n",
       "      <td>...</td>\n",
       "      <td>...</td>\n",
       "      <td>...</td>\n",
       "      <td>...</td>\n",
       "      <td>...</td>\n",
       "      <td>...</td>\n",
       "      <td>...</td>\n",
       "      <td>...</td>\n",
       "      <td>...</td>\n",
       "      <td>...</td>\n",
       "      <td>...</td>\n",
       "      <td>...</td>\n",
       "      <td>...</td>\n",
       "      <td>...</td>\n",
       "      <td>...</td>\n",
       "      <td>...</td>\n",
       "    </tr>\n",
       "    <tr>\n",
       "      <th>260915</th>\n",
       "      <td>1426312</td>\n",
       "      <td>2</td>\n",
       "      <td>Kolkata Knight Riders</td>\n",
       "      <td>Sunrisers Hyderabad</td>\n",
       "      <td>9</td>\n",
       "      <td>5</td>\n",
       "      <td>SS Iyer</td>\n",
       "      <td>AK Markram</td>\n",
       "      <td>VR Iyer</td>\n",
       "      <td>1</td>\n",
       "      <td>0</td>\n",
       "      <td>1</td>\n",
       "      <td>No Extra</td>\n",
       "      <td>0</td>\n",
       "      <td>Not Out</td>\n",
       "      <td>None</td>\n",
       "      <td>None</td>\n",
       "    </tr>\n",
       "    <tr>\n",
       "      <th>260916</th>\n",
       "      <td>1426312</td>\n",
       "      <td>2</td>\n",
       "      <td>Kolkata Knight Riders</td>\n",
       "      <td>Sunrisers Hyderabad</td>\n",
       "      <td>9</td>\n",
       "      <td>6</td>\n",
       "      <td>VR Iyer</td>\n",
       "      <td>AK Markram</td>\n",
       "      <td>SS Iyer</td>\n",
       "      <td>1</td>\n",
       "      <td>0</td>\n",
       "      <td>1</td>\n",
       "      <td>No Extra</td>\n",
       "      <td>0</td>\n",
       "      <td>Not Out</td>\n",
       "      <td>None</td>\n",
       "      <td>None</td>\n",
       "    </tr>\n",
       "    <tr>\n",
       "      <th>260917</th>\n",
       "      <td>1426312</td>\n",
       "      <td>2</td>\n",
       "      <td>Kolkata Knight Riders</td>\n",
       "      <td>Sunrisers Hyderabad</td>\n",
       "      <td>10</td>\n",
       "      <td>1</td>\n",
       "      <td>VR Iyer</td>\n",
       "      <td>Shahbaz Ahmed</td>\n",
       "      <td>SS Iyer</td>\n",
       "      <td>1</td>\n",
       "      <td>0</td>\n",
       "      <td>1</td>\n",
       "      <td>No Extra</td>\n",
       "      <td>0</td>\n",
       "      <td>Not Out</td>\n",
       "      <td>None</td>\n",
       "      <td>None</td>\n",
       "    </tr>\n",
       "    <tr>\n",
       "      <th>260918</th>\n",
       "      <td>1426312</td>\n",
       "      <td>2</td>\n",
       "      <td>Kolkata Knight Riders</td>\n",
       "      <td>Sunrisers Hyderabad</td>\n",
       "      <td>10</td>\n",
       "      <td>2</td>\n",
       "      <td>SS Iyer</td>\n",
       "      <td>Shahbaz Ahmed</td>\n",
       "      <td>VR Iyer</td>\n",
       "      <td>1</td>\n",
       "      <td>0</td>\n",
       "      <td>1</td>\n",
       "      <td>No Extra</td>\n",
       "      <td>0</td>\n",
       "      <td>Not Out</td>\n",
       "      <td>None</td>\n",
       "      <td>None</td>\n",
       "    </tr>\n",
       "    <tr>\n",
       "      <th>260919</th>\n",
       "      <td>1426312</td>\n",
       "      <td>2</td>\n",
       "      <td>Kolkata Knight Riders</td>\n",
       "      <td>Sunrisers Hyderabad</td>\n",
       "      <td>10</td>\n",
       "      <td>3</td>\n",
       "      <td>VR Iyer</td>\n",
       "      <td>Shahbaz Ahmed</td>\n",
       "      <td>SS Iyer</td>\n",
       "      <td>1</td>\n",
       "      <td>0</td>\n",
       "      <td>1</td>\n",
       "      <td>No Extra</td>\n",
       "      <td>0</td>\n",
       "      <td>Not Out</td>\n",
       "      <td>None</td>\n",
       "      <td>None</td>\n",
       "    </tr>\n",
       "  </tbody>\n",
       "</table>\n",
       "<p>260920 rows × 17 columns</p>\n",
       "</div>"
      ],
      "text/plain": [
       "        match_id  inning           batting_team                 bowling_team  \\\n",
       "0         335982       1  Kolkata Knight Riders  Royal Challengers Bangalore   \n",
       "1         335982       1  Kolkata Knight Riders  Royal Challengers Bangalore   \n",
       "2         335982       1  Kolkata Knight Riders  Royal Challengers Bangalore   \n",
       "3         335982       1  Kolkata Knight Riders  Royal Challengers Bangalore   \n",
       "4         335982       1  Kolkata Knight Riders  Royal Challengers Bangalore   \n",
       "...          ...     ...                    ...                          ...   \n",
       "260915   1426312       2  Kolkata Knight Riders          Sunrisers Hyderabad   \n",
       "260916   1426312       2  Kolkata Knight Riders          Sunrisers Hyderabad   \n",
       "260917   1426312       2  Kolkata Knight Riders          Sunrisers Hyderabad   \n",
       "260918   1426312       2  Kolkata Knight Riders          Sunrisers Hyderabad   \n",
       "260919   1426312       2  Kolkata Knight Riders          Sunrisers Hyderabad   \n",
       "\n",
       "        over  ball       batter         bowler  non_striker  batsman_runs  \\\n",
       "0          0     1   SC Ganguly        P Kumar  BB McCullum             0   \n",
       "1          0     2  BB McCullum        P Kumar   SC Ganguly             0   \n",
       "2          0     3  BB McCullum        P Kumar   SC Ganguly             0   \n",
       "3          0     4  BB McCullum        P Kumar   SC Ganguly             0   \n",
       "4          0     5  BB McCullum        P Kumar   SC Ganguly             0   \n",
       "...      ...   ...          ...            ...          ...           ...   \n",
       "260915     9     5      SS Iyer     AK Markram      VR Iyer             1   \n",
       "260916     9     6      VR Iyer     AK Markram      SS Iyer             1   \n",
       "260917    10     1      VR Iyer  Shahbaz Ahmed      SS Iyer             1   \n",
       "260918    10     2      SS Iyer  Shahbaz Ahmed      VR Iyer             1   \n",
       "260919    10     3      VR Iyer  Shahbaz Ahmed      SS Iyer             1   \n",
       "\n",
       "        extra_runs  total_runs extras_type  is_wicket player_dismissed  \\\n",
       "0                1           1     legbyes          0          Not Out   \n",
       "1                0           0    No Extra          0          Not Out   \n",
       "2                1           1       wides          0          Not Out   \n",
       "3                0           0    No Extra          0          Not Out   \n",
       "4                0           0    No Extra          0          Not Out   \n",
       "...            ...         ...         ...        ...              ...   \n",
       "260915           0           1    No Extra          0          Not Out   \n",
       "260916           0           1    No Extra          0          Not Out   \n",
       "260917           0           1    No Extra          0          Not Out   \n",
       "260918           0           1    No Extra          0          Not Out   \n",
       "260919           0           1    No Extra          0          Not Out   \n",
       "\n",
       "       dismissal_kind fielder  \n",
       "0                None    None  \n",
       "1                None    None  \n",
       "2                None    None  \n",
       "3                None    None  \n",
       "4                None    None  \n",
       "...               ...     ...  \n",
       "260915           None    None  \n",
       "260916           None    None  \n",
       "260917           None    None  \n",
       "260918           None    None  \n",
       "260919           None    None  \n",
       "\n",
       "[260920 rows x 17 columns]"
      ]
     },
     "execution_count": 207,
     "metadata": {},
     "output_type": "execute_result"
    }
   ],
   "source": [
    "df  #new modified dataframe after handling null values"
   ]
  },
  {
   "cell_type": "markdown",
   "id": "c42881e3-16fb-4d4e-8500-65cf35ba5d26",
   "metadata": {},
   "source": [
    "We can see that in our new dataframe after handling null values, the null values of **'extras_type'** are replaced by **'No Extra'**,\n",
    "    **'player_dismissed'** are replaced by **'Not Out'**, **'dismissal_kind'** are replaced by **'None'**, **'fielder'** are replaced by **'None'**."
   ]
  },
  {
   "cell_type": "markdown",
   "id": "71b9fc9c-f54f-4abd-8b97-3a03ec8d4d7b",
   "metadata": {},
   "source": [
    "## Exploring the data"
   ]
  },
  {
   "cell_type": "markdown",
   "id": "e2f6fcb3-760a-4086-96d8-2730df582bca",
   "metadata": {},
   "source": [
    "## Step 5: Univariate Analysis (Statistical + Graphical)"
   ]
  },
  {
   "cell_type": "markdown",
   "id": "89c02c0a-f891-4d3d-9f3f-811f30f1f3db",
   "metadata": {},
   "source": [
    "### Univariate Analysis\n",
    "\n",
    "Univariate analysis involves examining a single variable at a time to understand its distribution, central tendency, or frequency using statistics and visualizations (like counts, means, or bar plots)."
   ]
  },
  {
   "cell_type": "markdown",
   "id": "86e21da2-c49c-41af-aefb-23afb60d5703",
   "metadata": {},
   "source": [
    "### Part 1: Top 10 Batsmen (Most Runs Scored)"
   ]
  },
  {
   "cell_type": "code",
   "execution_count": 216,
   "id": "9391d1cb-8cd3-4b24-912c-3ad032dafaa6",
   "metadata": {},
   "outputs": [
    {
     "name": "stdout",
     "output_type": "stream",
     "text": [
      "batter\n",
      "V Kohli           8014\n",
      "S Dhawan          6769\n",
      "RG Sharma         6630\n",
      "DA Warner         6567\n",
      "SK Raina          5536\n",
      "MS Dhoni          5243\n",
      "AB de Villiers    5181\n",
      "CH Gayle          4997\n",
      "RV Uthappa        4954\n",
      "KD Karthik        4843\n",
      "Name: batsman_runs, dtype: int64\n"
     ]
    },
    {
     "name": "stderr",
     "output_type": "stream",
     "text": [
      "C:\\Users\\kuruv\\AppData\\Local\\Temp\\ipykernel_1696\\2149770425.py:9: FutureWarning: \n",
      "\n",
      "Passing `palette` without assigning `hue` is deprecated and will be removed in v0.14.0. Assign the `y` variable to `hue` and set `legend=False` for the same effect.\n",
      "\n",
      "  sns.barplot(x=top_batsmen.values, y=top_batsmen.index, palette='magma')\n"
     ]
    },
    {
     "data": {
      "image/png": "[encoded data removed]",
      "text/plain": [
       "<Figure size 1000x600 with 1 Axes>"
      ]
     },
     "metadata": {},
     "output_type": "display_data"
    }
   ],
   "source": [
    "# Total runs scored by each batsman\n",
    "top_batsmen = df.groupby('batter')['batsman_runs'].sum().sort_values(ascending=False).head(10)\n",
    "\n",
    "# Display the data\n",
    "print(top_batsmen)\n",
    "\n",
    "# Plot it\n",
    "plt.figure(figsize=(10,6))\n",
    "sns.barplot(x=top_batsmen.values, y=top_batsmen.index, palette='magma')\n",
    "plt.title(\"Top 10 Batsmen with Most Runs\")\n",
    "plt.xlabel(\"Total Runs\")\n",
    "plt.ylabel(\"Batsman\")\n",
    "plt.show()\n"
   ]
  },
  {
   "cell_type": "markdown",
   "id": "b7cba77a-d3e3-4201-93cc-e8a8fe387ed7",
   "metadata": {},
   "source": [
    "I grouped the data by each batsman and calculated the total runs they scored. Then, I sorted it in descending order and selected the top 10 batsmen with the most runs."
   ]
  },
  {
   "cell_type": "markdown",
   "id": "9cc950c6-60ed-4c1a-8e1f-3e37d7c799b0",
   "metadata": {},
   "source": [
    "The bar chart highlights the top 10 batsmen in terms of total runs scored in IPL history. This helps identify consistent performers and major contributors with the bat."
   ]
  },
  {
   "cell_type": "markdown",
   "id": "d08c529b-7dd2-4287-b576-572b1144cf65",
   "metadata": {},
   "source": [
    "### Part 2: Top 10 Bowlers (Most Wickets Taken)"
   ]
  },
  {
   "cell_type": "markdown",
   "id": "ba601573-ed76-42d4-a283-519d5b4ecbca",
   "metadata": {},
   "source": [
    "We’ll count how many times each bowler dismissed a batsman (i.e., got a wicket)."
   ]
  },
  {
   "cell_type": "code",
   "execution_count": 224,
   "id": "f2f21b19-dcd3-4b35-ae5c-7ee3be3432d6",
   "metadata": {},
   "outputs": [
    {
     "name": "stdout",
     "output_type": "stream",
     "text": [
      "bowler\n",
      "YS Chahal     213\n",
      "DJ Bravo      207\n",
      "PP Chawla     201\n",
      "SP Narine     200\n",
      "R Ashwin      198\n",
      "B Kumar       195\n",
      "SL Malinga    188\n",
      "A Mishra      183\n",
      "JJ Bumrah     182\n",
      "RA Jadeja     169\n",
      "Name: count, dtype: int64\n"
     ]
    },
    {
     "name": "stderr",
     "output_type": "stream",
     "text": [
      "C:\\Users\\kuruv\\AppData\\Local\\Temp\\ipykernel_1696\\3405479735.py:12: FutureWarning: \n",
      "\n",
      "Passing `palette` without assigning `hue` is deprecated and will be removed in v0.14.0. Assign the `y` variable to `hue` and set `legend=False` for the same effect.\n",
      "\n",
      "  sns.barplot(x=top_bowlers.values, y=top_bowlers.index, palette='viridis')\n"
     ]
    },
    {
     "data": {
      "image/png": "[encoded data removed]",
      "text/plain": [
       "<Figure size 1000x600 with 1 Axes>"
      ]
     },
     "metadata": {},
     "output_type": "display_data"
    }
   ],
   "source": [
    "# Filter only rows where a wicket fell\n",
    "wicket_df = df[df['player_dismissed'] != 'Not Out']\n",
    "\n",
    "# Count dismissals per bowler\n",
    "top_bowlers = wicket_df['bowler'].value_counts().head(10)\n",
    "\n",
    "# Display the data\n",
    "print(top_bowlers)\n",
    "\n",
    "# Plot\n",
    "plt.figure(figsize=(10,6))\n",
    "sns.barplot(x=top_bowlers.values, y=top_bowlers.index, palette='viridis')\n",
    "plt.title(\"Top 10 Bowlers with Most Wickets\")\n",
    "plt.xlabel(\"Wickets Taken\")\n",
    "plt.ylabel(\"Bowler\")\n",
    "plt.show()\n"
   ]
  },
  {
   "cell_type": "markdown",
   "id": "77a25e55-4174-41a1-a239-62dcc02c6858",
   "metadata": {},
   "source": [
    "I filtered the dataset to only include deliveries where a wicket actually fell. This ensures that we only count genuine dismissals when identifying top bowlers."
   ]
  },
  {
   "cell_type": "markdown",
   "id": "f5c5fe75-6dd5-40b7-859f-f720bdb78266",
   "metadata": {},
   "source": [
    "Then I counted how many times each bowler was involved in dismissing a batsman and selected the top 10 wicket-takers."
   ]
  },
  {
   "cell_type": "markdown",
   "id": "0358d376-f150-4478-a66f-df4bf9a1a946",
   "metadata": {},
   "source": [
    "I used a horizontal bar chart to clearly show the top 10 bowlers based on the number of wickets taken. This gives us an insight into the most successful bowlers in IPL."
   ]
  },
  {
   "cell_type": "markdown",
   "id": "af706cdf-961e-4207-8440-9506e44ee96d",
   "metadata": {},
   "source": [
    "### Part 3: Extras Distribution"
   ]
  },
  {
   "cell_type": "markdown",
   "id": "5003e9e9-2a66-421f-9afd-abae45077539",
   "metadata": {},
   "source": [
    "We'll see how many extra runs were given and of which type."
   ]
  },
  {
   "cell_type": "code",
   "execution_count": 233,
   "id": "8573653e-165b-451b-9930-2e5b6975a090",
   "metadata": {},
   "outputs": [
    {
     "name": "stdout",
     "output_type": "stream",
     "text": [
      "extras_type\n",
      "No Extra    246795\n",
      "wides         8380\n",
      "legbyes       4001\n",
      "noballs       1069\n",
      "byes           673\n",
      "penalty          2\n",
      "Name: count, dtype: int64\n"
     ]
    },
    {
     "name": "stderr",
     "output_type": "stream",
     "text": [
      "C:\\Users\\kuruv\\AppData\\Local\\Temp\\ipykernel_1696\\3891477285.py:9: FutureWarning: \n",
      "\n",
      "Passing `palette` without assigning `hue` is deprecated and will be removed in v0.14.0. Assign the `x` variable to `hue` and set `legend=False` for the same effect.\n",
      "\n",
      "  sns.barplot(x=extra_counts.index, y=extra_counts.values, palette='pastel')\n"
     ]
    },
    {
     "data": {
      "image/png": "[encoded data removed]",
      "text/plain": [
       "<Figure size 800x500 with 1 Axes>"
      ]
     },
     "metadata": {},
     "output_type": "display_data"
    }
   ],
   "source": [
    "# Count of each extras type\n",
    "extra_counts = df['extras_type'].value_counts()\n",
    "\n",
    "# Display the counts\n",
    "print(extra_counts)\n",
    "\n",
    "# Plot\n",
    "plt.figure(figsize=(8,5))\n",
    "sns.barplot(x=extra_counts.index, y=extra_counts.values, palette='pastel')\n",
    "plt.title(\"Distribution of Extra Runs by Type\")\n",
    "plt.xlabel(\"Extras Type\")\n",
    "plt.ylabel(\"Count\")\n",
    "plt.show()\n"
   ]
  },
  {
   "cell_type": "markdown",
   "id": "0e89bb4b-0053-447d-85c8-1561530531b8",
   "metadata": {},
   "source": [
    " This chart shows the distribution of extra runs by type. Wide balls appear to be the most common extras in IPL matches, followed by no-balls and leg byes. Understanding extras can help evaluate how disciplined the bowling teams are.\n"
   ]
  },
  {
   "cell_type": "markdown",
   "id": "a40714e5-b60b-49a3-9e07-8f7451d6c74e",
   "metadata": {},
   "source": [
    "### Part 4: Dismissal Types (How Players Get Out)"
   ]
  },
  {
   "cell_type": "markdown",
   "id": "5c920d64-66c7-4e01-b83a-b18baab9fb97",
   "metadata": {},
   "source": [
    "Let’s see what kind of dismissals happen most in IPL."
   ]
  },
  {
   "cell_type": "code",
   "execution_count": 238,
   "id": "0a6c71fa-44f1-4551-975f-4029edc72aeb",
   "metadata": {},
   "outputs": [
    {
     "name": "stdout",
     "output_type": "stream",
     "text": [
      "dismissal_kind\n",
      "caught                   8063\n",
      "bowled                   2212\n",
      "run out                  1114\n",
      "lbw                       800\n",
      "caught and bowled         367\n",
      "stumped                   358\n",
      "retired hurt               15\n",
      "hit wicket                 15\n",
      "obstructing the field       3\n",
      "retired out                 3\n",
      "Name: count, dtype: int64\n"
     ]
    },
    {
     "name": "stderr",
     "output_type": "stream",
     "text": [
      "C:\\Users\\kuruv\\AppData\\Local\\Temp\\ipykernel_1696\\736036294.py:12: FutureWarning: \n",
      "\n",
      "Passing `palette` without assigning `hue` is deprecated and will be removed in v0.14.0. Assign the `x` variable to `hue` and set `legend=False` for the same effect.\n",
      "\n",
      "  sns.barplot(x=dismissal_counts.index, y=dismissal_counts.values, palette='Set2')\n"
     ]
    },
    {
     "data": {
      "image/png": "[encoded data removed]",
      "text/plain": [
       "<Figure size 900x500 with 1 Axes>"
      ]
     },
     "metadata": {},
     "output_type": "display_data"
    }
   ],
   "source": [
    "# Filter only rows where a dismissal happened\n",
    "dismissals = df[df['dismissal_kind'] != 'None']\n",
    "\n",
    "# Count each dismissal type\n",
    "dismissal_counts = dismissals['dismissal_kind'].value_counts()\n",
    "\n",
    "# Show data\n",
    "print(dismissal_counts)\n",
    "\n",
    "# Plot\n",
    "plt.figure(figsize=(9,5))\n",
    "sns.barplot(x=dismissal_counts.index, y=dismissal_counts.values, palette='Set2')\n",
    "plt.title(\"Types of Dismissals in IPL\")\n",
    "plt.xlabel(\"Dismissal Type\")\n",
    "plt.ylabel(\"Count\")\n",
    "plt.xticks(rotation=45)\n",
    "plt.show()\n"
   ]
  },
  {
   "cell_type": "markdown",
   "id": "2668ce0a-f548-4e0d-9970-a4df8185efda",
   "metadata": {},
   "source": [
    "This visualization shows the various types of dismissals that occur in IPL matches. The most common ones include **caught**, **bowled**, and **run out**. These patterns help understand how wickets typically fall and what strategies bowlers might use in different phases of the game.\n"
   ]
  },
  {
   "cell_type": "markdown",
   "id": "fcf90e94-b80b-442f-b669-9fa86d19708e",
   "metadata": {},
   "source": [
    "## Step 6: Bivariate Analysis (Statistical + Graphical)\n"
   ]
  },
  {
   "cell_type": "markdown",
   "id": "c6f80843-8e28-460f-af96-44c065745633",
   "metadata": {},
   "source": [
    "### Bivariate Analysis\n",
    "\n",
    "Bivariate analysis explores the relationship between two variables. It helps identify patterns, correlations, or trends — for example, how one variable affects or relates to another."
   ]
  },
  {
   "cell_type": "markdown",
   "id": "1d59f40b-0a60-424c-bd44-4bef2e26458d",
   "metadata": {},
   "source": [
    "In this section, we explore how two variables interact — such as team performance, over-wise scoring, and bowling efficiency."
   ]
  },
  {
   "cell_type": "markdown",
   "id": "0c79d3e8-05c5-4375-a060-8fda17199c03",
   "metadata": {},
   "source": [
    "### Part 1: Total Runs per Over "
   ]
  },
  {
   "cell_type": "markdown",
   "id": "576406e2-3236-480e-879a-c56106a3ee40",
   "metadata": {},
   "source": [
    "We’ll analyze how many total runs are scored in each over (1–20)."
   ]
  },
  {
   "cell_type": "code",
   "execution_count": 246,
   "id": "c06c665e-486b-40ae-836b-3f15c833527a",
   "metadata": {},
   "outputs": [
    {
     "name": "stdout",
     "output_type": "stream",
     "text": [
      "over\n",
      "0     13651\n",
      "1     16163\n",
      "2     17895\n",
      "3     18415\n",
      "4     18565\n",
      "5     18528\n",
      "6     14839\n",
      "7     15981\n",
      "8     16639\n",
      "9     16353\n",
      "10    16779\n",
      "11    17076\n",
      "12    17205\n",
      "13    17634\n",
      "14    18149\n",
      "15    18472\n",
      "16    19012\n",
      "17    19559\n",
      "18    19076\n",
      "19    17765\n",
      "Name: total_runs, dtype: int64\n"
     ]
    },
    {
     "data": {
      "image/png": "[encoded data removed]",
      "text/plain": [
       "<Figure size 1000x600 with 1 Axes>"
      ]
     },
     "metadata": {},
     "output_type": "display_data"
    }
   ],
   "source": [
    "# Group by over and sum total runs\n",
    "runs_per_over = df.groupby('over')['total_runs'].sum()\n",
    "\n",
    "# Display\n",
    "print(runs_per_over)\n",
    "\n",
    "# Plot\n",
    "plt.figure(figsize=(10,6))\n",
    "sns.lineplot(x=runs_per_over.index, y=runs_per_over.values, marker='o', color='crimson')\n",
    "plt.title(\"Total Runs Scored in Each Over\")\n",
    "plt.xlabel(\"Over Number\")\n",
    "plt.ylabel(\"Total Runs\")\n",
    "plt.xticks(range(1, 21))\n",
    "plt.grid(True)\n",
    "plt.show()\n"
   ]
  },
  {
   "cell_type": "markdown",
   "id": "dea59e93-3b01-4da2-98ba-92a76e5cd329",
   "metadata": {},
   "source": [
    "\n",
    "This line chart shows how total runs accumulate across each over in IPL matches. As expected, scoring usually picks up in the **death overs** (16–20), while the **middle overs** often show a slight dip due to fielding restrictions being lifted and spinners coming in.\n"
   ]
  },
  {
   "cell_type": "markdown",
   "id": "c151d74b-3ae0-4966-b4fe-eb8b727148f1",
   "metadata": {},
   "source": [
    "### Part 2: Average Runs per Over (Scoring Efficiency)"
   ]
  },
  {
   "cell_type": "code",
   "execution_count": 250,
   "id": "2b85a3be-2d0a-4448-8c2b-5afb921c961b",
   "metadata": {},
   "outputs": [
    {
     "data": {
      "image/png": "[encoded data removed]",
      "text/plain": [
       "<Figure size 1000x600 with 1 Axes>"
      ]
     },
     "metadata": {},
     "output_type": "display_data"
    }
   ],
   "source": [
    "# Average runs scored per over\n",
    "over_runs = df.groupby('over')['total_runs'].mean()\n",
    "\n",
    "plt.figure(figsize=(10,6))\n",
    "sns.lineplot(x=over_runs.index, y=over_runs.values, marker='o')\n",
    "plt.title(\"Average Runs Scored per Over\")\n",
    "plt.xlabel(\"Over Number\")\n",
    "plt.ylabel(\"Average Runs\")\n",
    "plt.grid(True)\n",
    "plt.show()\n"
   ]
  },
  {
   "cell_type": "markdown",
   "id": "a7dd14f2-c9d8-4945-8068-6761783088d9",
   "metadata": {},
   "source": [
    "\n",
    "This plot shows the average number of runs scored in each over across all IPL matches. As expected, the scoring rate starts moderate in the **powerplay (overs 1–6)**, dips slightly in the **middle overs**, and then peaks during the **death overs (16–20)** — reflecting aggressive batting strategies in the final stretch.\n"
   ]
  },
  {
   "cell_type": "markdown",
   "id": "874d2dab-4b44-42c3-a7b6-877415c0c35f",
   "metadata": {},
   "source": [
    "### Part 3: Batting Team vs Total Runs"
   ]
  },
  {
   "cell_type": "code",
   "execution_count": 254,
   "id": "60779f83-3b8a-4a20-9f22-bcdfe5ed894b",
   "metadata": {},
   "outputs": [
    {
     "name": "stdout",
     "output_type": "stream",
     "text": [
      "batting_team\n",
      "Mumbai Indians                 42176\n",
      "Kolkata Knight Riders          39331\n",
      "Chennai Super Kings            38629\n",
      "Royal Challengers Bangalore    37692\n",
      "Rajasthan Royals               34747\n",
      "Kings XI Punjab                30064\n",
      "Sunrisers Hyderabad            29071\n",
      "Delhi Daredevils               24296\n",
      "Delhi Capitals                 14900\n",
      "Deccan Chargers                11463\n",
      "Punjab Kings                    9536\n",
      "Gujarat Titans                  7757\n",
      "Lucknow Super Giants            7510\n",
      "Pune Warriors                   6358\n",
      "Gujarat Lions                   4862\n",
      "Royal Challengers Bengaluru     2930\n",
      "Rising Pune Supergiant          2470\n",
      "Rising Pune Supergiants         2063\n",
      "Kochi Tuskers Kerala            1901\n",
      "Name: total_runs, dtype: int64\n"
     ]
    },
    {
     "name": "stderr",
     "output_type": "stream",
     "text": [
      "C:\\Users\\kuruv\\AppData\\Local\\Temp\\ipykernel_1696\\1956587229.py:9: FutureWarning: \n",
      "\n",
      "Passing `palette` without assigning `hue` is deprecated and will be removed in v0.14.0. Assign the `y` variable to `hue` and set `legend=False` for the same effect.\n",
      "\n",
      "  sns.barplot(x=team_runs.values, y=team_runs.index, palette='coolwarm')\n"
     ]
    },
    {
     "data": {
      "image/png": "[encoded data removed]",
      "text/plain": [
       "<Figure size 1200x600 with 1 Axes>"
      ]
     },
     "metadata": {},
     "output_type": "display_data"
    }
   ],
   "source": [
    "# Total runs scored by each batting team\n",
    "team_runs = df.groupby('batting_team')['total_runs'].sum().sort_values(ascending=False)\n",
    "\n",
    "# Display\n",
    "print(team_runs)\n",
    "\n",
    "# Plot\n",
    "plt.figure(figsize=(12,6))\n",
    "sns.barplot(x=team_runs.values, y=team_runs.index, palette='coolwarm')\n",
    "plt.title(\"Total Runs by Batting Teams\")\n",
    "plt.xlabel(\"Total Runs\")\n",
    "plt.ylabel(\"Team\")\n",
    "plt.show()\n"
   ]
  },
  {
   "cell_type": "markdown",
   "id": "90f5bbe8-9371-4c51-950c-80a222554689",
   "metadata": {},
   "source": [
    "This chart highlights the total number of runs scored by each IPL team across all matches. It offers a clear comparison of batting performance and consistency. Teams like **Mumbai Indians** and **Kolkata Knight Riders** tend to dominate the charts due to their strong batting lineups and frequent playoff appearances.\n"
   ]
  },
  {
   "cell_type": "markdown",
   "id": "a3a3c7e2-a636-4a80-8805-afdffd4ced1d",
   "metadata": {},
   "source": [
    "### Part 4: Bowling Team vs Total Wickets"
   ]
  },
  {
   "cell_type": "markdown",
   "id": "d8844c27-eaa6-4381-a5fe-33b228f1601d",
   "metadata": {},
   "source": [
    "We’ll check how many total wickets each team has taken as a bowling side."
   ]
  },
  {
   "cell_type": "code",
   "execution_count": 259,
   "id": "3278ea0d-c761-4a20-8aa8-c203b107bf54",
   "metadata": {},
   "outputs": [
    {
     "name": "stdout",
     "output_type": "stream",
     "text": [
      "bowling_team\n",
      "Mumbai Indians                 1591\n",
      "Chennai Super Kings            1481\n",
      "Kolkata Knight Riders          1464\n",
      "Royal Challengers Bangalore    1406\n",
      "Rajasthan Royals               1277\n",
      "Kings XI Punjab                1076\n",
      "Sunrisers Hyderabad            1074\n",
      "Delhi Daredevils                912\n",
      "Delhi Capitals                  586\n",
      "Deccan Chargers                 446\n",
      "Punjab Kings                    335\n",
      "Gujarat Titans                  298\n",
      "Lucknow Super Giants            264\n",
      "Pune Warriors                   238\n",
      "Gujarat Lions                   151\n",
      "Rising Pune Supergiant          113\n",
      "Royal Challengers Bengaluru      88\n",
      "Rising Pune Supergiants          76\n",
      "Kochi Tuskers Kerala             74\n",
      "Name: count, dtype: int64\n"
     ]
    },
    {
     "name": "stderr",
     "output_type": "stream",
     "text": [
      "C:\\Users\\kuruv\\AppData\\Local\\Temp\\ipykernel_1696\\4067225982.py:12: FutureWarning: \n",
      "\n",
      "Passing `palette` without assigning `hue` is deprecated and will be removed in v0.14.0. Assign the `y` variable to `hue` and set `legend=False` for the same effect.\n",
      "\n",
      "  sns.barplot(x=team_wickets.values, y=team_wickets.index, palette='YlGnBu')\n"
     ]
    },
    {
     "data": {
      "image/png": "[encoded data removed]",
      "text/plain": [
       "<Figure size 1200x600 with 1 Axes>"
      ]
     },
     "metadata": {},
     "output_type": "display_data"
    }
   ],
   "source": [
    "# Filter rows where a wicket was taken\n",
    "wickets_df = df[df['player_dismissed'] != 'Not Out']\n",
    "\n",
    "# Count dismissals by bowling team\n",
    "team_wickets = wickets_df['bowling_team'].value_counts()\n",
    "\n",
    "# Display\n",
    "print(team_wickets)\n",
    "\n",
    "# Plot\n",
    "plt.figure(figsize=(12,6))\n",
    "sns.barplot(x=team_wickets.values, y=team_wickets.index, palette='YlGnBu')\n",
    "plt.title(\"Total Wickets Taken by Bowling Teams\")\n",
    "plt.xlabel(\"Wickets Taken\")\n",
    "plt.ylabel(\"Team\")\n",
    "plt.show()\n"
   ]
  },
  {
   "cell_type": "markdown",
   "id": "bee425a8-c6d4-4bcc-a7a6-5454f0c47f26",
   "metadata": {},
   "source": [
    "This chart represents the total number of wickets taken by each IPL team across all matches. Teams with strong bowling lineups like **Mumbai Indians** and **Chennai Super Kings** usually feature at the top. It reflects the consistency and impact of their bowling units.\n"
   ]
  },
  {
   "cell_type": "markdown",
   "id": "340238e6-023c-4969-9fe0-1edd1cd1e911",
   "metadata": {},
   "source": [
    "### Part 5: Wickets per Innings \n",
    "\n",
    "Which innings tends to have more wickets?\n"
   ]
  },
  {
   "cell_type": "code",
   "execution_count": 263,
   "id": "6b4dd853-3436-40ae-b8e5-3868dae77658",
   "metadata": {},
   "outputs": [
    {
     "name": "stderr",
     "output_type": "stream",
     "text": [
      "C:\\Users\\kuruv\\AppData\\Local\\Temp\\ipykernel_1696\\409963350.py:5: FutureWarning: \n",
      "\n",
      "Passing `palette` without assigning `hue` is deprecated and will be removed in v0.14.0. Assign the `x` variable to `hue` and set `legend=False` for the same effect.\n",
      "\n",
      "  sns.barplot(x=wickets_innings.index, y=wickets_innings.values, palette='Set2')\n"
     ]
    },
    {
     "data": {
      "image/png": "[encoded data removed]",
      "text/plain": [
       "<Figure size 600x500 with 1 Axes>"
      ]
     },
     "metadata": {},
     "output_type": "display_data"
    }
   ],
   "source": [
    "# Total wickets per innings\n",
    "wickets_innings = df[df['is_wicket'] == 1].groupby('inning').size()\n",
    "\n",
    "plt.figure(figsize=(6,5))\n",
    "sns.barplot(x=wickets_innings.index, y=wickets_innings.values, palette='Set2')\n",
    "plt.title(\"Total Wickets per Innings\")\n",
    "plt.xlabel(\"Inning\")\n",
    "plt.ylabel(\"Wickets\")\n",
    "plt.show()\n"
   ]
  },
  {
   "cell_type": "markdown",
   "id": "4cbdb9a1-62d8-49ea-8ee9-4c4a53511c65",
   "metadata": {},
   "source": [
    "\n",
    "\n",
    "This chart shows the total number of wickets that fall in the 1st and 2nd innings of IPL matches. While both innings see regular dismissals, small differences may reflect pitch behavior, scoreboard pressure, or chasing strategy in T20 formats.\n"
   ]
  },
  {
   "cell_type": "markdown",
   "id": "25222bcb-e36f-4c5a-90fb-8c3ff1f47cae",
   "metadata": {},
   "source": [
    "## Step 7: Multivariate Analysis (Statistical + Graphical)\n"
   ]
  },
  {
   "cell_type": "markdown",
   "id": "af45c0ec-3792-44e2-be91-c304ff1dcaa7",
   "metadata": {},
   "source": [
    "## What is Multivariate EDA?"
   ]
  },
  {
   "cell_type": "markdown",
   "id": "d8988554-4b7d-47e4-95ac-c5d2b16c47cf",
   "metadata": {},
   "source": [
    "**Multivariate = 3 or more variables** involved in the analysis at once.\n",
    "\n",
    "You look for **complex patterns** or **interactions** between multiple features."
   ]
  },
  {
   "cell_type": "markdown",
   "id": "1b64cebf-36de-4b11-9b6f-5c70d973e6b0",
   "metadata": {},
   "source": [
    "### Part 1: Inning-wise Run Comparison (1st vs 2nd Innings)"
   ]
  },
  {
   "cell_type": "markdown",
   "id": "970e7869-4141-4f3b-b6c4-849b6f9207b6",
   "metadata": {},
   "source": [
    "In T20 cricket, the strategy and performance can vary drastically between the first and second innings. Here, we analyze how many runs are typically scored in each inning across matches. This helps identify trends, such as whether chasing is harder or teams post bigger totals when batting first."
   ]
  },
  {
   "cell_type": "code",
   "execution_count": 271,
   "id": "38052344-230e-48b5-ae87-7b42717deae7",
   "metadata": {},
   "outputs": [
    {
     "name": "stdout",
     "output_type": "stream",
     "text": [
      "inning\n",
      "1    165.547032\n",
      "2    152.194139\n",
      "3      9.785714\n",
      "4      8.785714\n",
      "5     11.000000\n",
      "6     15.000000\n",
      "Name: total_runs, dtype: float64\n"
     ]
    },
    {
     "name": "stderr",
     "output_type": "stream",
     "text": [
      "C:\\Users\\kuruv\\AppData\\Local\\Temp\\ipykernel_1696\\2813960167.py:12: FutureWarning: \n",
      "\n",
      "Passing `palette` without assigning `hue` is deprecated and will be removed in v0.14.0. Assign the `x` variable to `hue` and set `legend=False` for the same effect.\n",
      "\n",
      "  sns.barplot(x=inning_avg.index, y=inning_avg.values, palette='mako')\n"
     ]
    },
    {
     "data": {
      "image/png": "[encoded data removed]",
      "text/plain": [
       "<Figure size 700x500 with 1 Axes>"
      ]
     },
     "metadata": {},
     "output_type": "display_data"
    }
   ],
   "source": [
    "# Total runs per match per inning\n",
    "inning_runs = df.groupby(['match_id', 'inning'])['total_runs'].sum().reset_index()\n",
    "\n",
    "# Aggregate by innings\n",
    "inning_avg = inning_runs.groupby('inning')['total_runs'].mean()\n",
    "\n",
    "# Display\n",
    "print(inning_avg)\n",
    "\n",
    "# Plot\n",
    "plt.figure(figsize=(7,5))\n",
    "sns.barplot(x=inning_avg.index, y=inning_avg.values, palette='mako')\n",
    "plt.title(\"Average Total Runs: 1st vs 2nd Innings\")\n",
    "plt.xlabel(\"Inning\")\n",
    "plt.ylabel(\"Average Total Runs\")\n",
    "plt.xticks([0, 1], ['1st Inning', '2nd Inning']) \n",
    "plt.show()\n"
   ]
  },
  {
   "cell_type": "markdown",
   "id": "36fa3d48-68e3-45ad-8d56-570825ce3d86",
   "metadata": {},
   "source": [
    "This visualization compares the average total runs scored in the 1st and 2nd innings across all IPL matches. It reflects how team strategies may differ while batting first versus chasing. Generally, the 1st innings tends to have a slightly higher run rate as teams aim to set a strong target.\n"
   ]
  },
  {
   "cell_type": "markdown",
   "id": "bc3c4e29-aa73-4b82-91e8-c053b16cdd95",
   "metadata": {},
   "source": [
    "## Part 2: Strike Rate of Top Batsmen"
   ]
  },
  {
   "cell_type": "markdown",
   "id": "8576342f-adf8-4456-8a9e-5c18ff430234",
   "metadata": {},
   "source": [
    "In a fast-paced format like T20, strike rate is a crucial metric to evaluate a batsman's performance. It tells us how quickly a player scores runs — calculated as (total runs / balls faced) * 100."
   ]
  },
  {
   "cell_type": "markdown",
   "id": "e9245db6-4f3f-43fa-a4c6-87c43b49dff9",
   "metadata": {},
   "source": [
    "In this analysis, we calculate the strike rate of batsmen who have faced a minimum number of deliveries (to avoid small-sample bias). This helps highlight consistent big hitters in IPL history.\n"
   ]
  },
  {
   "cell_type": "code",
   "execution_count": 277,
   "id": "e4a34d52-7dbb-415f-9ac4-0c0e6e271a81",
   "metadata": {},
   "outputs": [
    {
     "name": "stderr",
     "output_type": "stream",
     "text": [
      "C:\\Users\\kuruv\\AppData\\Local\\Temp\\ipykernel_1696\\2717553646.py:18: FutureWarning: \n",
      "\n",
      "Passing `palette` without assigning `hue` is deprecated and will be removed in v0.14.0. Assign the `y` variable to `hue` and set `legend=False` for the same effect.\n",
      "\n",
      "  sns.barplot(x='strike_rate', y='batter', data=top_strike_rate, palette='Spectral')\n"
     ]
    },
    {
     "data": {
      "image/png": "[encoded data removed]",
      "text/plain": [
       "<Figure size 1200x600 with 1 Axes>"
      ]
     },
     "metadata": {},
     "output_type": "display_data"
    }
   ],
   "source": [
    "# Count of balls faced and runs scored per batsman\n",
    "batsman_stats = df.groupby('batter').agg({\n",
    "    'batsman_runs': 'sum',\n",
    "    'ball': 'count'\n",
    "}).rename(columns={'ball': 'balls_faced'}).reset_index()\n",
    "\n",
    "# Filter batsmen who faced at least 200 balls\n",
    "batsman_stats = batsman_stats[batsman_stats['balls_faced'] >= 200]\n",
    "\n",
    "# Calculate strike rate\n",
    "batsman_stats['strike_rate'] = (batsman_stats['batsman_runs'] / batsman_stats['balls_faced']) * 100\n",
    "\n",
    "# Top 10 by strike rate\n",
    "top_strike_rate = batsman_stats.sort_values('strike_rate', ascending=False).head(10)\n",
    "\n",
    "# Plot\n",
    "plt.figure(figsize=(12,6))\n",
    "sns.barplot(x='strike_rate', y='batter', data=top_strike_rate, palette='Spectral')\n",
    "plt.title('Top 10 Batsmen by Strike Rate (Min 200 balls faced)')\n",
    "plt.xlabel('Strike Rate')\n",
    "plt.ylabel('Batsman')\n",
    "plt.show()\n"
   ]
  },
  {
   "cell_type": "markdown",
   "id": "973699ba-ee9e-47da-8eeb-110f027e157d",
   "metadata": {},
   "source": [
    "#### Top 10 Batsmen by Strike Rate (Minimum 200 Balls Faced)\n",
    "\n",
    "We analyze batsmen who have faced at least 200 balls in the IPL dataset to ensure consistent performance metrics. For each batsman, we calculate the total runs scored and balls faced, and derive their strike rate using the formula:\n",
    "\n",
    "**Strike Rate = (Runs Scored / Balls Faced) × 100**\n",
    "\n",
    "We then select the top 10 batsmen with the highest strike rates and visualize them using a **horizontal bar chart**. This helps identify the most aggressive and impactful scorers in the league.\n"
   ]
  },
  {
   "cell_type": "markdown",
   "id": "ad703a58-d8e4-480a-af1d-c9d85f2fbe70",
   "metadata": {},
   "source": [
    "This chart showcases batsmen who score the quickest in IPL — ideal for finishing roles or powerplays. Strike rate often reveals more about match impact than just total runs.\n",
    "\n"
   ]
  },
  {
   "cell_type": "markdown",
   "id": "8a92390a-f034-4f25-b09c-fab9f0918d76",
   "metadata": {},
   "source": [
    "### Part 3: Economy Rate of Bowlers"
   ]
  },
  {
   "cell_type": "markdown",
   "id": "1b391288-3056-49a8-9d82-0c24cbdaaa20",
   "metadata": {},
   "source": [
    "In T20 cricket, a bowler’s effectiveness isn’t just measured by wickets, but also by how economically they bowl. The economy rate represents the average number of runs conceded per over."
   ]
  },
  {
   "cell_type": "markdown",
   "id": "cb29a599-86f0-447b-9aab-f33d3539614c",
   "metadata": {},
   "source": [
    "Here, we analyze bowlers who have bowled a significant number of deliveries to find out who has been the most economical in IPL history."
   ]
  },
  {
   "cell_type": "code",
   "execution_count": 284,
   "id": "f47a9c72-7c99-4078-bbf4-b3c0642610b1",
   "metadata": {},
   "outputs": [
    {
     "name": "stderr",
     "output_type": "stream",
     "text": [
      "C:\\Users\\kuruv\\AppData\\Local\\Temp\\ipykernel_1696\\3648881674.py:18: FutureWarning: \n",
      "\n",
      "Passing `palette` without assigning `hue` is deprecated and will be removed in v0.14.0. Assign the `y` variable to `hue` and set `legend=False` for the same effect.\n",
      "\n",
      "  sns.barplot(x='economy_rate', y='bowler', data=top_economical, palette='viridis')\n"
     ]
    },
    {
     "data": {
      "image/png": "[encoded data removed]",
      "text/plain": [
       "<Figure size 1200x600 with 1 Axes>"
      ]
     },
     "metadata": {},
     "output_type": "display_data"
    }
   ],
   "source": [
    "# Group by bowler: total runs conceded and balls bowled\n",
    "bowler_stats = df.groupby('bowler').agg({\n",
    "    'total_runs': 'sum',\n",
    "    'ball': 'count'\n",
    "}).rename(columns={'ball': 'balls_bowled'}).reset_index()\n",
    "\n",
    "# Filter: Only include bowlers who have bowled at least 300 balls (~50 overs)\n",
    "bowler_stats = bowler_stats[bowler_stats['balls_bowled'] >= 300]\n",
    "\n",
    "# Calculate economy rate\n",
    "bowler_stats['economy_rate'] = (bowler_stats['total_runs'] / bowler_stats['balls_bowled']) * 6\n",
    "\n",
    "# Top 10 most economical bowlers\n",
    "top_economical = bowler_stats.sort_values('economy_rate').head(10)\n",
    "\n",
    "# Plot\n",
    "plt.figure(figsize=(12,6))\n",
    "sns.barplot(x='economy_rate', y='bowler', data=top_economical, palette='viridis')\n",
    "plt.title('Top 10 Most Economical Bowlers (Min 300 balls bowled)')\n",
    "plt.xlabel('Economy Rate')\n",
    "plt.ylabel('Bowler')\n",
    "plt.show()\n"
   ]
  },
  {
   "cell_type": "markdown",
   "id": "3dc74e33-555a-4703-b7f3-a4efef995724",
   "metadata": {},
   "source": [
    "#### Top 10 Most Economical Bowlers (Minimum 300 Balls Bowled)\n",
    "\n",
    "To assess bowling efficiency, we calculate the **economy rate** for bowlers who have bowled at least 300 deliveries (approximately 50 overs). The economy rate is computed as:\n",
    "\n",
    "**Economy Rate = (Total Runs Conceded / Balls Bowled) × 6**\n",
    "\n",
    "We then visualize the top 10 bowlers with the lowest economy rates using a **horizontal bar chart**. This helps highlight the most economical bowlers in the IPL based on consistent performance.\n"
   ]
  },
  {
   "cell_type": "markdown",
   "id": "11cd386e-479d-42fd-811e-f4a95c9a9d76",
   "metadata": {},
   "source": [
    "These bowlers consistently contain runs and build pressure — crucial for defending scores or breaking partnerships. Often, they’re match-winners without even needing wickets."
   ]
  },
  {
   "cell_type": "markdown",
   "id": "a0a2bfef-b3b4-4232-bfce-32a54764d97d",
   "metadata": {},
   "source": [
    "## Final Insights & Conclusion\n",
    "\n",
    "- **Virat Kohli**, **David Warner**, and **Shikhar Dhawan** are top run scorers across seasons.\n",
    "- **Bhuvneshwar Kumar**, **Sunil Narine**, and others dominate the wicket charts.\n",
    "- **Caught** is the most frequent dismissal type, followed by **Bowled** and **LBW**.\n",
    "- Teams like **MI** and **CSK** consistently display strong batting performances.\n",
    "- Run scoring peaks in the **death overs (16–20)**, showing how finishers impact games.\n",
    "- **1st innings** tends to have more wickets, possibly due to pitch freshness or scoreboard pressure.\n",
    "\n",
    " This EDA presents a well-rounded statistical snapshot of IPL dynamics from **2008 to 2024**, capturing how the league has evolved over time and offering valuable insights into player and team performances.\n"
   ]
  },
  {
   "cell_type": "code",
   "execution_count": null,
   "id": "f1fadc0e-3a1c-4a8f-8b72-a1d39d14a233",
   "metadata": {},
   "outputs": [],
   "source": []
  }
 ],
 "metadata": {
  "kernelspec": {
   "display_name": "Python 3 (ipykernel)",
   "language": "python",
   "name": "python3"
  },
  "language_info": {
   "codemirror_mode": {
    "name": "ipython",
    "version": 3
   },
   "file_extension": ".py",
   "mimetype": "text/x-python",
   "name": "python",
   "nbconvert_exporter": "python",
   "pygments_lexer": "ipython3",
   "version": "3.12.7"
  }
 },
 "nbformat": 4,
 "nbformat_minor": 5
}
